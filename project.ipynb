{
  "cells": [
    {
      "cell_type": "code",
      "execution_count": null,
      "metadata": {
        "colab": {
          "base_uri": "https://localhost:8080/"
        },
        "id": "9SrciEpWQ05Z",
        "outputId": "7f810e03-d899-432c-f4e4-4735d5823ef0"
      },
      "outputs": [
        {
          "output_type": "stream",
          "name": "stdout",
          "text": [
            "--2022-12-08 22:04:45--  https://csserver.ucd.ie/~rholmes/crimedata-australia.csv\n",
            "Resolving csserver.ucd.ie (csserver.ucd.ie)... 193.1.133.60\n",
            "Connecting to csserver.ucd.ie (csserver.ucd.ie)|193.1.133.60|:443... connected.\n",
            "HTTP request sent, awaiting response... 200 OK\n",
            "Length: 1858 (1.8K) [text/csv]\n",
            "Saving to: ‘crimedata-australia.csv’\n",
            "\n",
            "crimedata-australia 100%[===================>]   1.81K  --.-KB/s    in 0s      \n",
            "\n",
            "2022-12-08 22:04:46 (61.0 MB/s) - ‘crimedata-australia.csv’ saved [1858/1858]\n",
            "\n"
          ]
        }
      ],
      "source": [
        "!wget https://csserver.ucd.ie/~rholmes/crimedata-australia.csv \n",
        "# The wget command is used to download a file, followed by the URL."
      ]
    },
    {
      "cell_type": "code",
      "execution_count": null,
      "metadata": {
        "colab": {
          "base_uri": "https://localhost:8080/"
        },
        "id": "ngyp4oAJQ_Ej",
        "outputId": "35bd4b88-2f33-4a65-bb85-e86fee63c707"
      },
      "outputs": [
        {
          "output_type": "stream",
          "name": "stdout",
          "text": [
            "40\n"
          ]
        }
      ],
      "source": [
        "!tail -n +2 crimedata-australia.csv | wc -l \n",
        "# \"tail\" is used to display the data starting from the second row to the final row, \"wc -l\" shows the number of rows."
      ]
    },
    {
      "cell_type": "code",
      "execution_count": null,
      "metadata": {
        "colab": {
          "base_uri": "https://localhost:8080/"
        },
        "id": "M0hk533bRCeL",
        "outputId": "64496fe1-580d-46f2-9494-d58ab19d9ba9"
      },
      "outputs": [
        {
          "output_type": "stream",
          "name": "stdout",
          "text": [
            "11\n"
          ]
        }
      ],
      "source": [
        "!awk -F',' 'END{print NF}' crimedata-australia.csv \n",
        "# \"-F\" is followed by the separator \",\" and NF is a built-in variable that represents the number of columns."
      ]
    },
    {
      "cell_type": "code",
      "execution_count": null,
      "metadata": {
        "colab": {
          "base_uri": "https://localhost:8080/"
        },
        "id": "ls0ftq9KRFPb",
        "outputId": "07d879d1-70eb-4259-c482-070e23e51f51"
      },
      "outputs": [
        {
          "output_type": "stream",
          "name": "stdout",
          "text": [
            "Drugs ? Imported,191\n"
          ]
        }
      ],
      "source": [
        "!tail -n +2 crimedata-australia.csv | cut -d\",\" -f1,10 | sort -n -k 2 -t , | tail -n 1 \n",
        "# The \"tail\" command selects the second and subsequent rows of data, the \"cut\" command selects specific columns, the \"sort -k\" command specifies the sorting of a column, and finally the \"tail\" command displays the first row."
      ]
    },
    {
      "cell_type": "code",
      "execution_count": null,
      "metadata": {
        "colab": {
          "base_uri": "https://localhost:8080/"
        },
        "id": "K6qeJ2kVRuxG",
        "outputId": "ae9bc124-3c89-4622-9522-bac8d050299e"
      },
      "outputs": [
        {
          "output_type": "stream",
          "name": "stdout",
          "text": [
            "472\n"
          ]
        }
      ],
      "source": [
        "!tail -n +2 crimedata-australia.csv | awk -F\",\" '{(sum += $10)};END{print sum}' \n",
        "# The meaning of the \"tail\" command is the same as the previous question.\"awk -F\" is used to split the file, \"$10\" is the tenth column, and \"sum\" is used to calculate the sum of the elements in the column."
      ]
    },
    {
      "cell_type": "code",
      "execution_count": null,
      "metadata": {
        "colab": {
          "base_uri": "https://localhost:8080/"
        },
        "id": "eWXR0HpjSI8c",
        "outputId": "d3e81124-143f-4aa2-ce78-6ba3b83c5cb4"
      },
      "outputs": [
        {
          "output_type": "stream",
          "name": "stdout",
          "text": [
            "11.8\n"
          ]
        }
      ],
      "source": [
        "!tail -n +2 crimedata-australia.csv | awk -F\",\" '{(sum += $10)};END{print sum/NR}' \n",
        "# Similar to the above question, \"NR\" is a built-in variable that represents the number of rows, and the sum divided by the number of rows is the average."
      ]
    },
    {
      "cell_type": "code",
      "execution_count": null,
      "metadata": {
        "colab": {
          "base_uri": "https://localhost:8080/"
        },
        "id": "ZTYDV9-CZ0D4",
        "outputId": "494bd760-636e-40d1-b591-535d6e4b733b"
      },
      "outputs": [
        {
          "output_type": "stream",
          "name": "stdout",
          "text": [
            "Hobart\n"
          ]
        }
      ],
      "source": [
        "!cut -d\",\" -f2-10 crimedata-australia.csv | awk -F\",\" 'NR==1 {for(i=1; i<=NF; i++) header[i]=$i; next;} {for(i=1; i<=NF; i++) total[i] += $i}{min = total[1]/(NR-1); for(i=1; i<=NF; i++){if(min>total[i]/(NR-1)){min = total[i]/(NR-1);num = i}} } END{print header[num]}' \n",
        "# First intercept the elements of the second column to the tenth column, and then add the various cities of the first line to the Header array for later use. \n",
        "# Then use the same thinking to calculate the sum of each column, and finally judge the minimum average by judging the statement (assign the small value per time to the variable)."
      ]
    },
    {
      "cell_type": "code",
      "execution_count": null,
      "metadata": {
        "colab": {
          "base_uri": "https://localhost:8080/"
        },
        "id": "l2UZyXJpUMLx",
        "outputId": "4b0f273b-2664-487f-9c0a-de0bb86d6eff"
      },
      "outputs": [
        {
          "output_type": "stream",
          "name": "stdout",
          "text": [
            "--2022-12-04 21:36:41--  https://csserver.ucd.ie/~rholmes/Players.csv\n",
            "Resolving csserver.ucd.ie (csserver.ucd.ie)... 193.1.133.60\n",
            "Connecting to csserver.ucd.ie (csserver.ucd.ie)|193.1.133.60|:443... connected.\n",
            "HTTP request sent, awaiting response... 200 OK\n",
            "Length: 24365 (24K) [text/csv]\n",
            "Saving to: ‘Players.csv’\n",
            "\n",
            "Players.csv         100%[===================>]  23.79K  --.-KB/s    in 0.1s    \n",
            "\n",
            "2022-12-04 21:36:42 (229 KB/s) - ‘Players.csv’ saved [24365/24365]\n",
            "\n",
            "--2022-12-04 21:36:42--  https://csserver.ucd.ie/~rholmes/Teams.csv\n",
            "Resolving csserver.ucd.ie (csserver.ucd.ie)... 193.1.133.60\n",
            "Connecting to csserver.ucd.ie (csserver.ucd.ie)|193.1.133.60|:443... connected.\n",
            "HTTP request sent, awaiting response... 200 OK\n",
            "Length: 995 [text/csv]\n",
            "Saving to: ‘Teams.csv’\n",
            "\n",
            "Teams.csv           100%[===================>]     995  --.-KB/s    in 0s      \n",
            "\n",
            "2022-12-04 21:36:43 (146 MB/s) - ‘Teams.csv’ saved [995/995]\n",
            "\n"
          ]
        }
      ],
      "source": [
        "!wget https://csserver.ucd.ie/~rholmes/Players.csv\n",
        "!wget https://csserver.ucd.ie/~rholmes/Teams.csv"
      ]
    },
    {
      "cell_type": "code",
      "execution_count": null,
      "metadata": {
        "colab": {
          "base_uri": "https://localhost:8080/"
        },
        "id": "5oj0dHjEWWKG",
        "outputId": "b64077c7-15ac-4ec7-ea4e-e23cfde9bcac"
      },
      "outputs": [
        {
          "output_type": "stream",
          "name": "stdout",
          "text": [
            "Reading package lists... Done\n",
            "Building dependency tree       \n",
            "Reading state information... Done\n",
            "The following package was automatically installed and is no longer required:\n",
            "  libnvidia-common-460\n",
            "Use 'apt autoremove' to remove it.\n",
            "The following additional packages will be installed:\n",
            "  libcgi-fast-perl libcgi-pm-perl libencode-locale-perl libevent-core-2.1-6\n",
            "  libfcgi-perl libhtml-parser-perl libhtml-tagset-perl libhtml-template-perl\n",
            "  libhttp-date-perl libhttp-message-perl libio-html-perl\n",
            "  liblwp-mediatypes-perl libtimedate-perl liburi-perl mysql-client-5.7\n",
            "  mysql-client-core-5.7 mysql-server-5.7 mysql-server-core-5.7\n",
            "Suggested packages:\n",
            "  libdata-dump-perl libipc-sharedcache-perl libwww-perl mailx tinyca\n",
            "The following NEW packages will be installed:\n",
            "  libcgi-fast-perl libcgi-pm-perl libencode-locale-perl libevent-core-2.1-6\n",
            "  libfcgi-perl libhtml-parser-perl libhtml-tagset-perl libhtml-template-perl\n",
            "  libhttp-date-perl libhttp-message-perl libio-html-perl\n",
            "  liblwp-mediatypes-perl libtimedate-perl liburi-perl mysql-client-5.7\n",
            "  mysql-client-core-5.7 mysql-server mysql-server-5.7 mysql-server-core-5.7\n",
            "0 upgraded, 19 newly installed, 0 to remove and 7 not upgraded.\n",
            "Need to get 20.1 MB of archives.\n",
            "After this operation, 157 MB of additional disk space will be used.\n",
            "Get:1 http://archive.ubuntu.com/ubuntu bionic-updates/main amd64 mysql-client-core-5.7 amd64 5.7.40-0ubuntu0.18.04.1 [6,755 kB]\n",
            "Get:2 http://archive.ubuntu.com/ubuntu bionic-updates/main amd64 mysql-client-5.7 amd64 5.7.40-0ubuntu0.18.04.1 [2,028 kB]\n",
            "Get:3 http://archive.ubuntu.com/ubuntu bionic-updates/main amd64 mysql-server-core-5.7 amd64 5.7.40-0ubuntu0.18.04.1 [7,542 kB]\n",
            "Get:4 http://archive.ubuntu.com/ubuntu bionic/main amd64 libevent-core-2.1-6 amd64 2.1.8-stable-4build1 [85.9 kB]\n",
            "Get:5 http://archive.ubuntu.com/ubuntu bionic-updates/main amd64 mysql-server-5.7 amd64 5.7.40-0ubuntu0.18.04.1 [3,006 kB]\n",
            "Get:6 http://archive.ubuntu.com/ubuntu bionic/main amd64 libhtml-tagset-perl all 3.20-3 [12.1 kB]\n",
            "Get:7 http://archive.ubuntu.com/ubuntu bionic/main amd64 liburi-perl all 1.73-1 [77.2 kB]\n",
            "Get:8 http://archive.ubuntu.com/ubuntu bionic/main amd64 libhtml-parser-perl amd64 3.72-3build1 [85.9 kB]\n",
            "Get:9 http://archive.ubuntu.com/ubuntu bionic/main amd64 libcgi-pm-perl all 4.38-1 [185 kB]\n",
            "Get:10 http://archive.ubuntu.com/ubuntu bionic/main amd64 libfcgi-perl amd64 0.78-2build1 [32.8 kB]\n",
            "Get:11 http://archive.ubuntu.com/ubuntu bionic/main amd64 libcgi-fast-perl all 1:2.13-1 [9,940 B]\n",
            "Get:12 http://archive.ubuntu.com/ubuntu bionic/main amd64 libencode-locale-perl all 1.05-1 [12.3 kB]\n",
            "Get:13 http://archive.ubuntu.com/ubuntu bionic/main amd64 libhtml-template-perl all 2.97-1 [59.0 kB]\n",
            "Get:14 http://archive.ubuntu.com/ubuntu bionic/main amd64 libtimedate-perl all 2.3000-2 [37.5 kB]\n",
            "Get:15 http://archive.ubuntu.com/ubuntu bionic/main amd64 libhttp-date-perl all 6.02-1 [10.4 kB]\n",
            "Get:16 http://archive.ubuntu.com/ubuntu bionic/main amd64 libio-html-perl all 1.001-1 [14.9 kB]\n",
            "Get:17 http://archive.ubuntu.com/ubuntu bionic/main amd64 liblwp-mediatypes-perl all 6.02-1 [21.7 kB]\n",
            "Get:18 http://archive.ubuntu.com/ubuntu bionic/main amd64 libhttp-message-perl all 6.14-1 [72.1 kB]\n",
            "Get:19 http://archive.ubuntu.com/ubuntu bionic-updates/main amd64 mysql-server all 5.7.40-0ubuntu0.18.04.1 [9,944 B]\n",
            "Fetched 20.1 MB in 1s (14.1 MB/s)\n",
            "Preconfiguring packages ...\n",
            "Selecting previously unselected package mysql-client-core-5.7.\n",
            "(Reading database ... 124015 files and directories currently installed.)\n",
            "Preparing to unpack .../00-mysql-client-core-5.7_5.7.40-0ubuntu0.18.04.1_amd64.deb ...\n",
            "Unpacking mysql-client-core-5.7 (5.7.40-0ubuntu0.18.04.1) ...\n",
            "Selecting previously unselected package mysql-client-5.7.\n",
            "Preparing to unpack .../01-mysql-client-5.7_5.7.40-0ubuntu0.18.04.1_amd64.deb ...\n",
            "Unpacking mysql-client-5.7 (5.7.40-0ubuntu0.18.04.1) ...\n",
            "Selecting previously unselected package mysql-server-core-5.7.\n",
            "Preparing to unpack .../02-mysql-server-core-5.7_5.7.40-0ubuntu0.18.04.1_amd64.deb ...\n",
            "Unpacking mysql-server-core-5.7 (5.7.40-0ubuntu0.18.04.1) ...\n",
            "Selecting previously unselected package libevent-core-2.1-6:amd64.\n",
            "Preparing to unpack .../03-libevent-core-2.1-6_2.1.8-stable-4build1_amd64.deb ...\n",
            "Unpacking libevent-core-2.1-6:amd64 (2.1.8-stable-4build1) ...\n",
            "Selecting previously unselected package mysql-server-5.7.\n",
            "Preparing to unpack .../04-mysql-server-5.7_5.7.40-0ubuntu0.18.04.1_amd64.deb ...\n",
            "Unpacking mysql-server-5.7 (5.7.40-0ubuntu0.18.04.1) ...\n",
            "Selecting previously unselected package libhtml-tagset-perl.\n",
            "Preparing to unpack .../05-libhtml-tagset-perl_3.20-3_all.deb ...\n",
            "Unpacking libhtml-tagset-perl (3.20-3) ...\n",
            "Selecting previously unselected package liburi-perl.\n",
            "Preparing to unpack .../06-liburi-perl_1.73-1_all.deb ...\n",
            "Unpacking liburi-perl (1.73-1) ...\n",
            "Selecting previously unselected package libhtml-parser-perl.\n",
            "Preparing to unpack .../07-libhtml-parser-perl_3.72-3build1_amd64.deb ...\n",
            "Unpacking libhtml-parser-perl (3.72-3build1) ...\n",
            "Selecting previously unselected package libcgi-pm-perl.\n",
            "Preparing to unpack .../08-libcgi-pm-perl_4.38-1_all.deb ...\n",
            "Unpacking libcgi-pm-perl (4.38-1) ...\n",
            "Selecting previously unselected package libfcgi-perl.\n",
            "Preparing to unpack .../09-libfcgi-perl_0.78-2build1_amd64.deb ...\n",
            "Unpacking libfcgi-perl (0.78-2build1) ...\n",
            "Selecting previously unselected package libcgi-fast-perl.\n",
            "Preparing to unpack .../10-libcgi-fast-perl_1%3a2.13-1_all.deb ...\n",
            "Unpacking libcgi-fast-perl (1:2.13-1) ...\n",
            "Selecting previously unselected package libencode-locale-perl.\n",
            "Preparing to unpack .../11-libencode-locale-perl_1.05-1_all.deb ...\n",
            "Unpacking libencode-locale-perl (1.05-1) ...\n",
            "Selecting previously unselected package libhtml-template-perl.\n",
            "Preparing to unpack .../12-libhtml-template-perl_2.97-1_all.deb ...\n",
            "Unpacking libhtml-template-perl (2.97-1) ...\n",
            "Selecting previously unselected package libtimedate-perl.\n",
            "Preparing to unpack .../13-libtimedate-perl_2.3000-2_all.deb ...\n",
            "Unpacking libtimedate-perl (2.3000-2) ...\n",
            "Selecting previously unselected package libhttp-date-perl.\n",
            "Preparing to unpack .../14-libhttp-date-perl_6.02-1_all.deb ...\n",
            "Unpacking libhttp-date-perl (6.02-1) ...\n",
            "Selecting previously unselected package libio-html-perl.\n",
            "Preparing to unpack .../15-libio-html-perl_1.001-1_all.deb ...\n",
            "Unpacking libio-html-perl (1.001-1) ...\n",
            "Selecting previously unselected package liblwp-mediatypes-perl.\n",
            "Preparing to unpack .../16-liblwp-mediatypes-perl_6.02-1_all.deb ...\n",
            "Unpacking liblwp-mediatypes-perl (6.02-1) ...\n",
            "Selecting previously unselected package libhttp-message-perl.\n",
            "Preparing to unpack .../17-libhttp-message-perl_6.14-1_all.deb ...\n",
            "Unpacking libhttp-message-perl (6.14-1) ...\n",
            "Selecting previously unselected package mysql-server.\n",
            "Preparing to unpack .../18-mysql-server_5.7.40-0ubuntu0.18.04.1_all.deb ...\n",
            "Unpacking mysql-server (5.7.40-0ubuntu0.18.04.1) ...\n",
            "Setting up libhtml-tagset-perl (3.20-3) ...\n",
            "Setting up libevent-core-2.1-6:amd64 (2.1.8-stable-4build1) ...\n",
            "Setting up libencode-locale-perl (1.05-1) ...\n",
            "Setting up mysql-server-core-5.7 (5.7.40-0ubuntu0.18.04.1) ...\n",
            "Setting up libtimedate-perl (2.3000-2) ...\n",
            "Setting up libio-html-perl (1.001-1) ...\n",
            "Setting up liblwp-mediatypes-perl (6.02-1) ...\n",
            "Setting up liburi-perl (1.73-1) ...\n",
            "Setting up libhtml-parser-perl (3.72-3build1) ...\n",
            "Setting up libcgi-pm-perl (4.38-1) ...\n",
            "Setting up mysql-client-core-5.7 (5.7.40-0ubuntu0.18.04.1) ...\n",
            "Setting up libfcgi-perl (0.78-2build1) ...\n",
            "Setting up libhttp-date-perl (6.02-1) ...\n",
            "Setting up libhtml-template-perl (2.97-1) ...\n",
            "Setting up libcgi-fast-perl (1:2.13-1) ...\n",
            "Setting up libhttp-message-perl (6.14-1) ...\n",
            "Setting up mysql-client-5.7 (5.7.40-0ubuntu0.18.04.1) ...\n",
            "Setting up mysql-server-5.7 (5.7.40-0ubuntu0.18.04.1) ...\n",
            "invoke-rc.d: could not determine current runlevel\n",
            "invoke-rc.d: policy-rc.d denied execution of stop.\n",
            "update-alternatives: using /etc/mysql/mysql.cnf to provide /etc/mysql/my.cnf (my.cnf) in auto mode\n",
            "Renaming removed key_buffer and myisam-recover options (if present)\n",
            "Created symlink /etc/systemd/system/multi-user.target.wants/mysql.service → /lib/systemd/system/mysql.service.\n",
            "invoke-rc.d: could not determine current runlevel\n",
            "invoke-rc.d: policy-rc.d denied execution of start.\n",
            "Setting up mysql-server (5.7.40-0ubuntu0.18.04.1) ...\n",
            "Processing triggers for systemd (237-3ubuntu10.56) ...\n",
            "Processing triggers for man-db (2.8.3-2ubuntu0.1) ...\n",
            "Processing triggers for libc-bin (2.27-3ubuntu1.6) ...\n"
          ]
        }
      ],
      "source": [
        "!apt-get install mysql-server "
      ]
    },
    {
      "cell_type": "code",
      "execution_count": null,
      "metadata": {
        "colab": {
          "base_uri": "https://localhost:8080/"
        },
        "id": "RZ5y_0lCYgP1",
        "outputId": "18e32254-0f96-4c12-8c96-bd0b2e824ea5"
      },
      "outputs": [
        {
          "output_type": "stream",
          "name": "stdout",
          "text": [
            "mysql  Ver 14.14 Distrib 5.7.40, for Linux (x86_64) using  EditLine wrapper\n",
            " * Starting MySQL database server mysqld\n",
            "   ...done.\n"
          ]
        }
      ],
      "source": [
        "!sudo usermod -d /var/lib/mysql/ mysql\n",
        "!mysql --version\n",
        "!service mysql start"
      ]
    },
    {
      "cell_type": "code",
      "execution_count": null,
      "metadata": {
        "colab": {
          "base_uri": "https://localhost:8080/"
        },
        "id": "IYydXBYWcFH2",
        "outputId": "7d3dc6d1-ec1a-4def-dd3b-824d843a7f45"
      },
      "outputs": [
        {
          "output_type": "stream",
          "name": "stdout",
          "text": [
            "surname,team,position,minutes,shots,passes,tackles,saves\r\n",
            "Abdoun,Algeria,midfielder,16,0,6,0,0\r\n",
            "Belhadj,Algeria,defender,270,1,146,8,0\r\n",
            "Boudebouz,Algeria,midfielder,74,3,28,1,0\r\n",
            "Bougherra,Algeria,defender,270,1,89,11,0\r\n",
            "Chaouchi,Algeria,goalkeeper,90,0,17,0,2\r\n",
            "Djebbour,Algeria,forward,123,3,19,1,0\r\n",
            "Ghezzal,Algeria,forward,40,3,8,0,0\r\n",
            "Guedioura,Algeria,midfielder,38,0,18,1,0\r\n",
            "Halliche,Algeria,defender,270,2,94,4,0\r\n",
            "Kadir,Algeria,midfielder,262,0,104,3,0\r\n",
            "Lacen,Algeria,midfielder,270,0,158,8,0\r\n",
            "MBolhi,Algeria,goalkeeper,180,0,30,0,12\r\n",
            "Matmour,Algeria,midfielder,255,3,68,3,0\r\n",
            "Mesbah,Algeria,midfielder,1,0,1,0,0\r\n",
            "Saifi,Algeria,forward,15,1,3,0,0\r\n",
            "Yahia,Algeria,defender,269,1,79,4,0\r\n",
            "Yebda,Algeria,midfielder,269,8,138,10,0\r\n",
            "Ziani,Algeria,midfielder,240,5,93,6,0\r\n",
            "Aguero,Argentina,forward,106,2,57,2,0\r\n",
            "Bolatti,Argentina,midfielder,98,2,97,4,0\r\n",
            "Burdisso,Argentina,defender,341,1,167,1,0\r\n",
            "Demichelis,Argentina,defender,450,1,218,7,0\r\n",
            "Di Maria,Argentina,midfielder,356,7,148,12,0\r\n",
            "Gutierrez,Argentina,midfielder,191,0,83,11,0\r\n",
            "Heinze,Argentina,defender,360,3,188,6,0\r\n",
            "Higuain,Argentina,forward,341,13,93,5,0\r\n",
            "Mascherano,Argentina,midfielder,360,0,237,19,0\r\n",
            "Maxi Rodriguez,Argentina,midfielder,346,2,218,9,0\r\n",
            "Messi,Argentina,forward,450,21,321,10,0\r\n",
            "Milito,Argentina,forward,91,0,33,0,0\r\n",
            "Otamendi,Argentina,defender,250,0,141,6,0\r\n",
            "Palermo,Argentina,forward,10,3,8,0,0\r\n",
            "Pastore,Argentina,midfielder,37,2,44,3,0\r\n",
            "Rodriguez,Argentina,defender,90,1,72,1,0\r\n",
            "Romero,Argentina,goalkeeper,450,0,47,0,10\r\n",
            "Samuel,Argentina,defender,114,2,43,1,0\r\n",
            "Tevez,Argentina,forward,324,6,164,7,0\r\n",
            "Veron,Argentina,midfielder,185,3,235,10,0\r\n",
            "Beauchamp,Australia,defender,90,0,33,2,0\r\n",
            "Bresciano,Australia,midfielder,132,3,47,1,0\r\n",
            "Cahill,Australia,midfielder,146,6,39,1,0\r\n",
            "Carney,Australia,defender,180,0,56,4,0\r\n",
            "Chipperfield,Australia,midfielder,138,2,50,3,0\r\n",
            "Culina,Australia,midfielder,270,4,153,0,0\r\n",
            "Emerton,Australia,midfielder,254,1,89,3,0\r\n",
            "Garcia,Australia,midfielder,72,2,24,3,0\r\n",
            "Grella,Australia,midfielder,45,0,18,2,0\r\n",
            "Holman,Australia,forward,138,3,49,2,0\r\n",
            "Jedinak,Australia,midfielder,16,0,15,0,0\r\n",
            "Kennedy,Australia,forward,112,3,29,1,0\r\n",
            "Kewell,Australia,midfielder,24,0,7,1,0\r\n",
            "Moore,Australia,defender,180,1,91,3,0\r\n",
            "Neill,Australia,defender,270,1,135,4,0\r\n",
            "Rukavytsya,Australia,forward,32,1,12,0,0\r\n",
            "Schwarzer,Australia,goalkeeper,270,0,51,0,13\r\n",
            "Valeri,Australia,midfielder,245,0,135,5,0\r\n",
            "Wilkshire,Australia,midfielder,256,2,117,8,0\r\n",
            "Baptista,Brazil,midfielder,82,0,42,1,0\r\n",
            "Daniel Alves,Brazil,defender,310,11,215,6,0\r\n",
            "Elano,Brazil,midfielder,140,5,57,6,0\r\n",
            "Fabiano,Brazil,forward,418,9,89,4,0\r\n",
            "Gilberto,Brazil,defender,33,0,6,4,0\r\n",
            "Gilberto Silva,Brazil,midfielder,450,3,299,11,0\r\n",
            "Grafite,Brazil,forward,5,0,4,0,0\r\n",
            "Josue,Brazil,midfielder,46,0,54,1,0\r\n",
            "Juan,Brazil,defender,450,4,223,9,0\r\n",
            "Julio Cesar,Brazil,goalkeeper,450,0,69,0,10\r\n",
            "Kaka,Brazil,midfielder,337,6,139,2,0\r\n",
            "Kleberson,Brazil,midfielder,9,0,1,0,0\r\n",
            "Lucio,Brazil,defender,450,1,223,14,0\r\n",
            "Maicon,Brazil,defender,450,6,249,11,0\r\n",
            "Melo,Brazil,midfielder,291,2,249,12,0\r\n",
            "Michel Bastos,Brazil,defender,422,7,224,14,0\r\n",
            "Nilmar,Brazil,forward,129,5,18,3,0\r\n",
            "Ramires,Brazil,midfielder,105,3,53,3,0\r\n",
            "Robinho,Brazil,forward,354,9,181,5,0\r\n",
            "Aboubakar,Cameroon,forward,46,2,16,0,0\r\n",
            "Alexandre Song,Cameroon,midfielder,90,1,59,7,0\r\n",
            "Assou-Ekotto,Cameroon,defender,270,0,116,5,0\r\n",
            "Bassong,Cameroon,defender,163,0,71,3,0\r\n",
            "Bong,Cameroon,defender,56,0,12,0,0\r\n",
            "Chedjou,Cameroon,midfielder,90,2,77,2,0\r\n",
            "Choupo-Moting,Cameroon,forward,147,2,38,1,0\r\n",
            "Emana,Cameroon,midfielder,117,7,59,2,0\r\n",
            "Enoh,Cameroon,midfielder,135,2,56,8,0\r\n",
            "Etoo,Cameroon,forward,270,4,89,3,0\r\n",
            "Geremi,Cameroon,defender,195,1,93,1,0\r\n",
            "Hamidou,Cameroon,goalkeeper,270,0,54,0,9\r\n",
            "Idrissou,Cameroon,forward,50,2,23,1,0\r\n",
            "Makoun,Cameroon,midfielder,210,4,164,2,0\r\n",
            "Matip,Cameroon,defender,63,0,37,3,0\r\n",
            "Mbia,Cameroon,defender,270,3,135,4,0\r\n",
            "NGuemo,Cameroon,midfielder,90,1,51,1,0\r\n",
            "NKoulou,Cameroon,defender,253,0,152,4,0\r\n",
            "Rigobert Song,Cameroon,defender,17,0,3,0,0\r\n",
            "Webo,Cameroon,forward,168,4,39,3,0\r\n",
            "Beausejour,Chile,midfielder,360,2,100,7,0\r\n",
            "Bravo,Chile,goalkeeper,360,0,58,0,4\r\n",
            "Carmona,Chile,midfielder,270,1,175,9,0\r\n",
            "Contreras,Chile,defender,54,0,17,1,0\r\n",
            "Estrada,Chile,midfielder,37,1,16,2,0\r\n",
            "Fernandez,Chile,midfielder,155,1,72,2,0\r\n",
            "Fuentes,Chile,defender,90,0,27,3,0\r\n",
            "Gonzalez,Chile,midfielder,138,10,41,6,0\r\n",
            "Isla,Chile,defender,332,1,123,10,0\r\n",
            "Jara,Chile,defender,308,1,187,8,0\r\n",
            "Medel,Chile,defender,270,1,123,7,0\r\n",
            "Millar,Chile,midfielder,125,1,80,3,0\r\n",
            "Orellana,Chile,forward,25,1,7,0,0\r\n",
            "Paredes,Chile,forward,70,3,11,5,0\r\n",
            "Ponce,Chile,defender,270,2,113,4,0\r\n",
            "Suazo,Chile,forward,135,4,39,1,0\r\n",
            "Sanchez,Chile,forward,335,7,113,13,0\r\n",
            "Tello,Chile,midfielder,45,0,29,1,0\r\n",
            "Valdivia,Chile,forward,222,3,91,3,0\r\n",
            "Vidal,Chile,defender,306,6,178,17,0\r\n",
            "Agger,Denmark,defender,270,2,120,10,0\r\n",
            "Beckmann,Denmark,midfielder,28,0,8,0,0\r\n",
            "Bendtner,Denmark,forward,242,4,70,0,0\r\n",
            "Christian Poulsen,Denmark,midfielder,270,1,179,7,0\r\n",
            "Enevoldsen,Denmark,midfielder,56,2,10,0,0\r\n",
            "Eriksen,Denmark,midfielder,44,1,20,1,0\r\n",
            "Gronkjaer,Denmark,midfielder,101,1,29,3,0\r\n",
            "Jacobsen,Denmark,defender,270,0,95,3,0\r\n",
            "Jakob Poulsen,Denmark,midfielder,60,2,40,0,0\r\n",
            "Jensen,Denmark,midfielder,45,0,21,2,0\r\n",
            "Jorgensen,Denmark,midfielder,169,1,78,8,0\r\n",
            "Kahlenberg,Denmark,midfielder,159,2,59,3,0\r\n",
            "Kjaer,Denmark,defender,180,1,41,3,0\r\n",
            "Kroldrup,Denmark,defender,56,1,32,0,0\r\n",
            "Larsen,Denmark,forward,34,2,5,0,0\r\n",
            "Rommedahl,Denmark,midfielder,270,4,74,5,0\r\n",
            "Simon Poulsen,Denmark,midfielder,270,1,99,9,0\r\n",
            "Sorensen,Denmark,goalkeeper,270,0,52,0,16\r\n",
            "Tomasson,Denmark,forward,176,7,51,1,0\r\n",
            "Ashley Cole,England,defender,360,0,142,12,0\r\n",
            "Barry,England,midfielder,264,2,171,8,0\r\n",
            "Carragher,England,defender,135,0,74,4,0\r\n",
            "Crouch,England,forward,17,1,7,0,0\r\n",
            "Defoe,England,forward,173,5,17,1,0\r\n",
            "Gerrard,England,midfielder,360,10,227,5,0\r\n",
            "Glen Johnson,England,defender,357,3,173,17,0\r\n",
            "Green,England,goalkeeper,90,0,21,0,3\r\n",
            "Heskey,England,forward,176,2,53,7,0\r\n",
            "James,England,goalkeeper,270,0,72,0,6\r\n",
            "Joe Cole,England,midfielder,44,1,26,0,0\r\n",
            "King,England,defender,45,0,17,0,0\r\n",
            "Lampard,England,midfielder,360,11,232,3,0\r\n",
            "Lennon,England,midfielder,153,0,43,1,0\r\n",
            "Milner,England,midfielder,185,1,57,6,0\r\n",
            "Rooney,England,forward,342,8,121,2,0\r\n",
            "Terry,England,defender,360,2,223,3,0\r\n",
            "Upson,England,defender,180,1,93,4,0\r\n",
            "Wright-Phillips,England,midfielder,89,2,29,2,0\r\n",
            "Abidal,France,defender,180,0,91,6,0\r\n",
            "Abou Diaby,France,midfielder,270,1,111,5,0\r\n",
            "Alou Diarra,France,midfielder,82,0,31,0,0\r\n",
            "Anelka,France,forward,117,7,37,1,0\r\n",
            "Cisse,France,forward,55,3,7,1,0\r\n",
            "Clichy,France,defender,90,0,46,2,0\r\n",
            "Evra,France,defender,180,0,92,4,0\r\n",
            "Gallas,France,defender,270,0,96,2,0\r\n",
            "Gignac,France,forward,95,3,19,1,0\r\n",
            "Gourcuff,France,midfielder,100,3,40,3,0\r\n",
            "Govou,France,forward,162,1,35,4,0\r\n",
            "Henry,France,forward,53,1,21,2,0\r\n",
            "Lloris,France,goalkeeper,270,0,43,0,12\r\n",
            "Malouda,France,midfielder,150,4,76,1,0\r\n",
            "Ribery,France,midfielder,270,4,104,9,0\r\n",
            "Sagna,France,defender,270,0,125,4,0\r\n",
            "Squillaci,France,defender,90,0,34,1,0\r\n",
            "Toulalan,France,midfielder,180,1,98,9,0\r\n",
            "Valbuena,France,midfielder,21,1,11,1,0\r\n",
            "Badstuber,Germany,defender,167,0,84,6,0\r\n",
            "Boateng,Germany,defender,287,1,125,10,0\r\n",
            "Cacau,Germany,forward,132,4,54,1,0\r\n",
            "Friedrich,Germany,defender,540,1,244,16,0\r\n",
            "Gomez,Germany,forward,57,2,18,0,0\r\n",
            "Jansen,Germany,defender,73,1,44,3,0\r\n",
            "Khedira,Germany,midfielder,517,6,279,16,0\r\n",
            "Kiessling,Germany,forward,7,0,5,0,0\r\n",
            "Klose,Germany,forward,356,11,83,4,0\r\n",
            "Kroos,Germany,midfielder,50,2,29,4,0\r\n",
            "Lahm,Germany,defender,540,0,360,17,0\r\n",
            "Marin,Germany,midfielder,29,1,6,0,0\r\n",
            "Mertesacker,Germany,defender,540,0,282,9,0\r\n",
            "Mueller,Germany,forward,383,7,165,9,0\r\n",
            "Neuer,Germany,goalkeeper,540,0,99,0,20\r\n",
            "Podolski,Germany,forward,531,17,217,9,0\r\n",
            "Schweinsteiger,Germany,midfielder,531,5,423,23,0\r\n",
            "Trochowski,Germany,midfielder,109,1,60,5,0\r\n",
            "Ozil,Germany,midfielder,497,7,266,3,0\r\n",
            "Addy,Ghana,defender,138,0,51,2,0\r\n",
            "Adiyiah,Ghana,forward,33,0,9,0,0\r\n",
            "Amoah,Ghana,forward,11,0,4,1,0\r\n",
            "Annan,Ghana,midfielder,510,4,307,11,0\r\n",
            "Appiah,Ghana,midfielder,105,1,54,2,0\r\n",
            "Asamoah,Ghana,midfielder,480,11,214,9,0\r\n",
            "Ayew,Ghana,midfielder,389,3,170,15,0\r\n",
            "Boateng,Ghana,midfielder,464,12,220,20,0\r\n",
            "Gyan,Ghana,forward,501,27,151,1,0\r\n",
            "Inkoom,Ghana,defender,187,1,62,3,0\r\n",
            "John Mensah,Ghana,defender,420,1,108,10,0\r\n",
            "Jonathan Mensah,Ghana,defender,300,2,105,6,0\r\n",
            "Kingson,Ghana,goalkeeper,510,0,105,1,20\r\n",
            "Muntari,Ghana,midfielder,134,5,69,3,0\r\n",
            "Owusu-Abeyie,Ghana,forward,35,2,22,0,0\r\n",
            "Pantsil,Ghana,defender,510,2,248,7,0\r\n",
            "Sarpei,Ghana,defender,463,0,167,13,0\r\n",
            "Tagoe,Ghana,forward,210,3,48,1,0\r\n",
            "Vorsah,Ghana,defender,210,1,56,2,0\r\n",
            "Avraam Papadopoulos,Greece,defender,270,1,70,8,0\r\n",
            "Charisteas,Greece,forward,61,0,12,2,0\r\n",
            "Gekas,Greece,forward,169,3,26,0,0\r\n",
            "Kapetanos,Greece,forward,29,1,7,0,0\r\n",
            "Karagounis,Greece,midfielder,180,4,105,7,0\r\n",
            "Katsouranis,Greece,midfielder,234,2,115,4,0\r\n",
            "Kyrgiakos,Greece,defender,180,4,40,1,0\r\n",
            "Moras,Greece,defender,90,0,4,2,0\r\n",
            "Ninis,Greece,midfielder,47,1,22,4,0\r\n",
            "Papastathopoulos,Greece,defender,127,0,18,10,0\r\n",
            "Patsatzoglou,Greece,midfielder,80,0,31,0,0\r\n",
            "Salpingidis,Greece,forward,121,3,28,4,0\r\n",
            "Samaras,Greece,forward,202,7,43,1,0\r\n",
            "Seitaridis,Greece,defender,90,0,39,6,0\r\n",
            "Spiropoulos,Greece,defender,45,1,6,2,0\r\n",
            "Torosidis,Greece,defender,235,3,74,5,0\r\n",
            "Tziolis,Greece,midfielder,270,2,153,8,0\r\n",
            "Tzorvas,Greece,goalkeeper,270,0,41,0,12\r\n",
            "Vintra,Greece,defender,270,0,89,4,0\r\n",
            "Alvarez,Honduras,midfielder,180,1,57,1,0\r\n",
            "Bernardez,Honduras,defender,90,2,34,4,0\r\n",
            "Chavez,Honduras,defender,270,0,62,3,0\r\n",
            "Espinoza,Honduras,midfielder,135,0,36,4,0\r\n",
            "Figueroa,Honduras,defender,270,1,94,5,0\r\n",
            "Guevara,Honduras,midfielder,156,0,60,6,0\r\n",
            "Izaguirre,Honduras,defender,180,0,51,8,0\r\n",
            "Jerry Palacios,Honduras,forward,84,0,19,0,0\r\n",
            "Mauricio Sabilluen,Honduras,defender,90,0,38,5,0\r\n",
            "Mendoza,Honduras,defender,180,0,51,3,0\r\n",
            "Nunez,Honduras,midfielder,172,4,60,1,0\r\n",
            "Pavon,Honduras,forward,60,1,9,0,0\r\n",
            "Suazo,Honduras,forward,171,2,35,0,0\r\n",
            "Thomas,Honduras,midfielder,114,0,37,5,0\r\n",
            "Turcios,Honduras,midfielder,66,0,27,0,0\r\n",
            "Valladares,Honduras,goalkeeper,270,0,51,0,12\r\n",
            "Walter Martinez,Honduras,forward,125,0,43,1,0\r\n",
            "Welcome,Honduras,forward,87,2,16,0,0\r\n",
            "Wilson Palacios,Honduras,midfielder,270,0,90,14,0\r\n",
            "Buffon,Italy,goalkeeper,45,0,4,0,0\r\n",
            "Camoranesi,Italy,midfielder,76,2,45,2,0\r\n",
            "Cannavaro,Italy,defender,270,0,138,11,0\r\n",
            "Chiellini,Italy,defender,270,2,155,7,0\r\n",
            "Criscito,Italy,defender,225,1,114,6,0\r\n",
            "De Rossi,Italy,midfielder,270,3,204,9,0\r\n",
            "Di Natale,Italy,forward,153,6,55,2,0\r\n",
            "Gattuso,Italy,midfielder,45,0,13,5,0\r\n",
            "Gilardino,Italy,forward,117,1,32,0,0\r\n",
            "Iaquinta,Italy,forward,270,5,48,3,0\r\n",
            "Maggio,Italy,defender,45,0,21,1,0\r\n",
            "Marchetti,Italy,goalkeeper,225,0,21,0,1\r\n",
            "Marchisio,Italy,midfielder,120,0,57,2,0\r\n",
            "Montolivo,Italy,midfielder,236,8,163,9,0\r\n",
            "Pazzini,Italy,forward,29,0,6,0,0\r\n",
            "Pepe,Italy,forward,225,3,100,5,0\r\n",
            "Pirlo,Italy,midfielder,34,0,28,0,0\r\n",
            "Quagliarella,Italy,forward,45,3,22,2,0\r\n",
            "Zambrotta,Italy,defender,270,2,128,6,0\r\n",
            "Barry,Ivory Coast,goalkeeper,270,0,23,0,8\r\n",
            "Boka,Ivory Coast,defender,90,2,50,5,0\r\n",
            "Demel,Ivory Coast,defender,180,0,60,6,0\r\n",
            "Dindane,Ivory Coast,forward,170,1,66,2,0\r\n",
            "Doumbia,Ivory Coast,forward,11,0,2,0,0\r\n",
            "Drogba,Ivory Coast,forward,204,8,35,2,0\r\n",
            "Eboue,Ivory Coast,defender,251,3,126,6,0\r\n",
            "Gervinho,Ivory Coast,forward,182,5,60,1,0\r\n",
            "Kader Keita,Ivory Coast,midfielder,94,2,48,2,0\r\n",
            "Kalou,Ivory Coast,forward,160,4,50,3,0\r\n",
            "Kolo Toure,Ivory Coast,defender,270,2,88,2,0\r\n",
            "Romaric,Ivory Coast,midfielder,98,5,82,4,0\r\n",
            "Tiote,Ivory Coast,midfielder,270,3,148,8,0\r\n",
            "Tiene,Ivory Coast,defender,180,1,82,7,0\r\n",
            "Yaya Toure,Ivory Coast,midfielder,270,3,197,5,0\r\n",
            "Zokora,Ivory Coast,midfielder,270,0,96,5,0\r\n",
            "Abe,Japan,midfielder,351,0,101,14,0\r\n",
            "Endo,Japan,midfielder,389,1,147,9,0\r\n",
            "Hasebe,Japan,midfielder,375,2,125,8,0\r\n",
            "Honda,Japan,midfielder,390,8,143,5,0\r\n",
            "Inamoto,Japan,midfielder,3,0,5,0,0\r\n",
            "Kawashima,Japan,goalkeeper,390,0,54,0,17\r\n",
            "Kengo Nakamura,Japan,midfielder,39,0,10,0,0\r\n",
            "Komano,Japan,defender,390,3,115,16,0\r\n",
            "Konno,Japan,defender,2,0,0,0,0\r\n",
            "Marcus Tulio Tanaka,Japan,defender,390,5,129,5,0\r\n",
            "Matsui,Japan,midfielder,273,3,95,4,0\r\n",
            "Nagatomo,Japan,defender,390,4,68,4,0\r\n",
            "Nakazawa,Japan,defender,390,1,106,3,0\r\n",
            "Okazaki,Japan,forward,104,4,15,2,0\r\n",
            "Okubo,Japan,forward,351,7,68,4,0\r\n",
            "Shunsuke Nakamura,Japan,midfielder,26,0,18,1,0\r\n",
            "Tamada,Japan,forward,28,0,9,0,0\r\n",
            "Yano,Japan,forward,9,0,4,0,0\r\n",
            "Aguilar,Mexico,defender,55,0,31,2,0\r\n",
            "Barrera,Mexico,midfielder,149,4,59,2,0\r\n",
            "Bautista,Mexico,forward,45,0,8,3,0\r\n",
            "Blanco,Mexico,forward,112,2,60,3,0\r\n",
            "Castro,Mexico,midfielder,33,0,21,1,0\r\n",
            "Franco,Mexico,forward,253,4,71,2,0\r\n",
            "Giovani dos Santos,Mexico,midfielder,360,2,106,4,0\r\n",
            "Guardado,Mexico,midfielder,142,5,92,2,0\r\n",
            "Hernandez,Mexico,forward,169,6,37,1,0\r\n",
            "Juarez,Mexico,defender,235,0,128,6,0\r\n",
            "Moreno,Mexico,defender,147,0,74,4,0\r\n",
            "Marquez,Mexico,defender,360,6,244,14,0\r\n",
            "Osorio,Mexico,defender,360,1,202,14,0\r\n",
            "Perez,Mexico,goalkeeper,360,0,58,0,13\r\n",
            "Rodrueguez,Mexico,defender,360,2,212,7,0\r\n",
            "Salcido,Mexico,defender,360,9,174,15,0\r\n",
            "Torrado,Mexico,midfielder,360,1,253,22,0\r\n",
            "Vela,Mexico,forward,100,1,25,1,0\r\n",
            "Afellay,Netherlands,midfielder,21,5,22,0,0\r\n",
            "Boulahrouz,Netherlands,defender,180,0,81,8,0\r\n",
            "Elia,Netherlands,forward,85,2,38,2,0\r\n",
            "Heitinga,Netherlands,defender,540,0,259,10,0\r\n",
            "Huntelaar,Netherlands,forward,48,1,12,0,0\r\n",
            "Kuyt,Netherlands,forward,516,11,248,7,0\r\n",
            "Mathijsen,Netherlands,defender,450,1,265,8,0\r\n",
            "Ooijer,Netherlands,defender,90,0,30,2,0\r\n",
            "Robben,Netherlands,forward,267,6,81,5,0\r\n",
            "Sneijder,Netherlands,midfielder,532,15,279,7,0\r\n",
            "Stekelenburg,Netherlands,goalkeeper,540,0,149,0,15\r\n",
            "Van der Vaart,Netherlands,midfielder,257,8,122,4,0\r\n",
            "Van der Wiel,Netherlands,defender,360,0,189,2,0\r\n",
            "de Jong,Netherlands,midfielder,448,1,250,15,0\r\n",
            "de Zeeuw,Netherlands,midfielder,47,0,37,2,0\r\n",
            "van Bommel,Netherlands,midfielder,540,2,307,31,0\r\n",
            "van Bronckhorst,Netherlands,defender,540,1,271,10,0\r\n",
            "van Persie,Netherlands,forward,479,14,108,1,0\r\n",
            "Barron,New Zealand,midfielder,1,0,0,0,0\r\n",
            "Bertos,New Zealand,midfielder,270,0,79,5,0\r\n",
            "Brockie,New Zealand,midfielder,11,0,5,0,0\r\n",
            "Christie,New Zealand,midfielder,21,0,9,1,0\r\n",
            "Elliott,New Zealand,midfielder,270,1,119,7,0\r\n",
            "Fallon,New Zealand,forward,222,1,60,1,0\r\n",
            "Killen,New Zealand,forward,240,3,60,7,0\r\n",
            "Lochhead,New Zealand,defender,270,0,47,5,0\r\n",
            "Nelsen,New Zealand,defender,270,0,92,1,0\r\n",
            "Paston,New Zealand,goalkeeper,270,0,64,0,9\r\n",
            "Reid,New Zealand,defender,270,2,90,10,0\r\n",
            "Smeltz,New Zealand,forward,270,5,59,5,0\r\n",
            "Smith,New Zealand,defender,270,1,79,2,0\r\n",
            "Vicelich,New Zealand,defender,249,1,88,4,0\r\n",
            "Wood,New Zealand,forward,66,1,16,0,0\r\n",
            "Afolabi,Nigeria,defender,103,0,38,1,0\r\n",
            "Ayila Yussuf,Nigeria,midfielder,90,0,44,1,0\r\n",
            "Echiejile,Nigeria,defender,67,0,22,1,0\r\n",
            "Enyeama,Nigeria,goalkeeper,270,0,30,0,20\r\n",
            "Etuhu,Nigeria,midfielder,270,0,111,5,0\r\n",
            "Haruna,Nigeria,midfielder,180,1,77,3,0\r\n",
            "Kaita,Nigeria,midfielder,123,2,45,2,0\r\n",
            "Kanu,Nigeria,forward,57,0,18,0,0\r\n",
            "Martins,Nigeria,forward,71,2,16,0,0\r\n",
            "Obasi,Nigeria,forward,195,6,62,8,0\r\n",
            "Odemwingie,Nigeria,forward,75,0,28,1,0\r\n",
            "Odiah,Nigeria,defender,270,0,107,5,0\r\n",
            "Shittu,Nigeria,defender,270,0,61,5,0\r\n",
            "Taiwo,Nigeria,defender,129,3,36,4,0\r\n",
            "Uche,Nigeria,midfielder,196,6,73,2,0\r\n",
            "Victor Obinna,Nigeria,forward,72,3,25,4,0\r\n",
            "Yakubu,Nigeria,forward,250,6,43,2,0\r\n",
            "Yobo,Nigeria,defender,225,0,52,2,0\r\n",
            "Ahn Young-Hak,North Korea,midfielder,270,1,123,11,0\r\n",
            "Cha Jong-Hyok,North Korea,defender,255,4,74,5,0\r\n",
            "Choe Kum-Chol,North Korea,forward,23,1,13,0,0\r\n",
            "Hong Yong-Jo,North Korea,forward,270,4,107,3,0\r\n",
            "Ji Yun-Nam,North Korea,midfielder,270,3,73,11,0\r\n",
            "Jong Tae-Se,North Korea,forward,270,13,58,2,0\r\n",
            "Kim Kum-Il,North Korea,forward,42,0,18,0,0\r\n",
            "Kim Yong-Jun,North Korea,midfielder,32,1,10,0,0\r\n",
            "Mun In-Guk,North Korea,midfielder,205,2,71,7,0\r\n",
            "Nam Song-Chol,North Korea,defender,15,0,6,0,0\r\n",
            "Pak Chol-Jin,North Korea,defender,270,0,56,4,0\r\n",
            "Pak Nam-Chol,North Korea,midfielder,238,1,101,7,0\r\n",
            "Ri Jun-Il,North Korea,defender,270,1,75,2,0\r\n",
            "Ri Kwang-Chon,North Korea,defender,270,1,59,4,0\r\n",
            "Ri Myong-Guk,North Korea,goalkeeper,270,0,46,0,19\r\n",
            "Alcaraz,Paraguay,defender,390,1,172,13,0\r\n",
            "Barreto,Paraguay,midfielder,111,2,38,3,0\r\n",
            "Barrios,Paraguay,forward,308,6,89,2,0\r\n",
            "Benitez,Paraguay,forward,83,2,25,2,0\r\n",
            "Bonet,Paraguay,midfielder,300,0,108,4,0\r\n",
            "Caniza,Paraguay,defender,90,4,44,1,0\r\n",
            "Cardozo,Paraguay,forward,204,3,53,2,0\r\n",
            "Caceres,Paraguay,defender,90,0,71,0,0\r\n",
            "Caceres,Paraguay,midfielder,354,1,170,17,0\r\n",
            "Da Silva,Paraguay,defender,480,1,235,11,0\r\n",
            "Morel Rodriguez,Paraguay,defender,480,1,202,7,0\r\n",
            "Ortigoza,Paraguay,midfielder,75,0,60,5,0\r\n",
            "Riveros,Paraguay,midfielder,480,5,236,22,0\r\n",
            "Santa Cruz,Paraguay,forward,312,6,134,1,0\r\n",
            "Santana,Paraguay,midfielder,120,2,28,7,0\r\n",
            "Torres,Paraguay,defender,82,2,29,1,0\r\n",
            "Valdez,Paraguay,forward,337,8,57,9,0\r\n",
            "Vera,Paraguay,midfielder,414,5,138,14,0\r\n",
            "Veruen,Paraguay,defender,90,0,26,3,0\r\n",
            "Villar,Paraguay,goalkeeper,480,0,99,0,10\r\n",
            "Almeida,Portugal,forward,136,5,42,3,0\r\n",
            "Amorim,Portugal,midfielder,5,1,7,0,0\r\n",
            "Bruno Alves,Portugal,defender,360,1,166,5,0\r\n",
            "Carvalho,Portugal,defender,360,2,173,11,0\r\n",
            "Danny,Portugal,forward,176,1,62,7,0\r\n",
            "Deco,Portugal,midfielder,62,0,45,1,0\r\n",
            "Duda,Portugal,defender,70,0,18,2,0\r\n",
            "Eduardo,Portugal,goalkeeper,360,0,51,0,17\r\n",
            "Ferreira,Portugal,defender,90,0,37,1,0\r\n",
            "Fabio Coentrao,Portugal,defender,360,1,152,13,0\r\n",
            "Liedson,Portugal,forward,121,4,27,2,0\r\n",
            "Meireles,Portugal,midfielder,329,6,154,9,0\r\n",
            "Mendes,Portugal,midfielder,224,0,117,9,0\r\n",
            "Miguel,Portugal,defender,90,1,52,2,0\r\n",
            "Pepe,Portugal,midfielder,136,1,43,3,0\r\n",
            "Ricardo Costa,Portugal,defender,179,0,44,9,0\r\n",
            "Ronaldo,Portugal,forward,360,18,91,3,0\r\n",
            "Simao,Portugal,midfielder,217,2,76,7,0\r\n",
            "Tiago,Portugal,midfielder,298,6,155,15,0\r\n",
            "Veloso,Portugal,midfielder,26,1,30,1,0\r\n",
            "Ivanovic,Serbia,defender,270,3,115,2,0\r\n",
            "Jovanovic,Serbia,midfielder,245,4,65,2,0\r\n",
            "Kacar,Serbia,midfielder,20,1,7,1,0\r\n",
            "Kolarov,Serbia,defender,180,2,46,8,0\r\n",
            "Krasic,Serbia,midfielder,242,3,60,2,0\r\n",
            "Kuzmanovic,Serbia,midfielder,180,4,103,1,0\r\n",
            "Lazovic,Serbia,forward,44,1,14,0,0\r\n",
            "Lukovic,Serbia,defender,164,1,98,6,0\r\n",
            "Milijas,Serbia,midfielder,62,0,35,3,0\r\n",
            "Ninkovic,Serbia,midfielder,160,1,91,2,0\r\n",
            "Obradovic,Serbia,defender,90,1,42,2,0\r\n",
            "Pantelic,Serbia,forward,113,3,24,1,0\r\n",
            "Petrovic,Serbia,midfielder,15,1,3,1,0\r\n",
            "Stankovic,Serbia,midfielder,270,3,165,5,0\r\n",
            "Stojkovic,Serbia,goalkeeper,270,0,52,0,7\r\n",
            "Subotic,Serbia,defender,104,0,49,3,0\r\n",
            "Tosic,Serbia,midfielder,28,3,9,0,0\r\n",
            "Vidic,Serbia,defender,270,2,158,7,0\r\n",
            "Zigic,Serbia,forward,227,5,65,2,0\r\n",
            "Cech,Slovakia,defender,90,0,35,2,0\r\n",
            "Durica,Slovakia,defender,360,1,159,4,0\r\n",
            "Hamsik,Slovakia,midfielder,358,5,143,3,0\r\n",
            "Holosko,Slovakia,forward,29,0,11,1,0\r\n",
            "Jakubko,Slovakia,forward,2,0,1,0,0\r\n",
            "Jendrisek,Slovakia,forward,250,3,55,4,0\r\n",
            "Kopunek,Slovakia,midfielder,22,1,17,0,0\r\n",
            "Kozak,Slovakia,midfielder,90,0,66,3,0\r\n",
            "Kucka,Slovakia,midfielder,181,4,71,10,0\r\n",
            "Mucha,Slovakia,goalkeeper,360,0,85,0,14\r\n",
            "Pekaruek,Slovakia,defender,270,0,93,8,0\r\n",
            "Petras,Slovakia,defender,1,0,0,0,0\r\n",
            "Salata,Slovakia,defender,83,1,40,2,0\r\n",
            "Sapara,Slovakia,midfielder,2,0,5,0,0\r\n",
            "Sestak,Slovakia,forward,152,3,27,1,0\r\n",
            "Skrtel,Slovakia,defender,360,0,202,4,0\r\n",
            "Stoch,Slovakia,midfielder,193,2,76,1,0\r\n",
            "Strba,Slovakia,midfielder,267,2,137,5,0\r\n",
            "Vittek,Slovakia,forward,353,10,118,0,0\r\n",
            "Weiss,Slovakia,midfielder,269,2,84,2,0\r\n",
            "Zabavnuek,Slovakia,defender,268,1,94,8,0\r\n",
            "Birsa,Slovenia,midfielder,261,6,61,5,0\r\n",
            "Brecko,Slovenia,defender,270,1,95,5,0\r\n",
            "Cesar,Slovenia,defender,270,1,89,2,0\r\n",
            "Dedic,Slovenia,forward,84,0,22,1,0\r\n",
            "Handanovic,Slovenia,goalkeeper,270,0,66,0,13\r\n",
            "Jokic,Slovenia,defender,270,0,109,10,0\r\n",
            "Kirm,Slovenia,midfielder,259,1,88,4,0\r\n",
            "Komac,Slovenia,midfielder,4,0,3,1,0\r\n",
            "Koren,Slovenia,midfielder,270,3,162,3,0\r\n",
            "Ljubijankic,Slovenia,forward,173,2,36,2,0\r\n",
            "Matavz,Slovenia,forward,11,0,4,0,0\r\n",
            "Novakovic,Slovenia,forward,270,2,68,1,0\r\n",
            "Pecnik,Slovenia,forward,21,0,4,1,0\r\n",
            "Radosavljevic,Slovenia,midfielder,267,1,129,6,0\r\n",
            "Suler,Slovenia,defender,270,0,102,5,0\r\n",
            "Dikgacoi,South Africa,midfielder,180,2,108,4,0\r\n",
            "Josephs,South Africa,goalkeeper,101,0,20,0,3\r\n",
            "Khuboni,South Africa,midfielder,78,1,48,1,0\r\n",
            "Khumalo,South Africa,defender,270,2,74,4,0\r\n",
            "Khune,South Africa,goalkeeper,166,1,24,0,4\r\n",
            "Letsholonyane,South Africa,midfielder,147,0,89,6,0\r\n",
            "Masilela,South Africa,defender,225,0,107,6,0\r\n",
            "Modise,South Africa,midfielder,192,5,111,4,0\r\n",
            "Mokoena,South Africa,defender,270,0,83,5,0\r\n",
            "Moriri,South Africa,midfielder,33,0,22,0,0\r\n",
            "Mphela,South Africa,forward,270,10,60,2,0\r\n",
            "Ngongca,South Africa,defender,55,0,21,1,0\r\n",
            "Nomvete,South Africa,forward,22,0,5,1,0\r\n",
            "Pa Gaxa,South Africa,defender,215,1,95,2,0\r\n",
            "Parker,South Africa,forward,75,1,32,2,0\r\n",
            "Pienaar,South Africa,midfielder,252,2,126,3,0\r\n",
            "Sibaya,South Africa,midfielder,90,1,39,2,0\r\n",
            "Thwala,South Africa,defender,45,0,19,2,0\r\n",
            "Tshabalala,South Africa,midfielder,270,9,135,8,0\r\n",
            "Cha Du-Ri,South Korea,defender,270,2,105,3,0\r\n",
            "Cho Yong-Hyung,South Korea,defender,360,0,111,10,0\r\n",
            "Jung Sung-Ryong,South Korea,goalkeeper,360,0,49,0,14\r\n",
            "Ki Sung-Yong,South Korea,midfielder,292,2,162,6,0\r\n",
            "Kim Dong-Jin,South Korea,defender,1,0,0,0,0\r\n",
            "Kim Jae-Sung,South Korea,midfielder,65,0,37,0,0\r\n",
            "Kim Jung-Woo,South Korea,midfielder,360,4,184,10,0\r\n",
            "Kim Nam-Il,South Korea,midfielder,86,2,38,6,0\r\n",
            "Lee Chung-Yong,South Korea,midfielder,359,7,147,12,0\r\n",
            "Lee Dong-Gook,South Korea,forward,38,1,14,0,0\r\n",
            "Lee Jung-Soo,South Korea,defender,360,2,164,8,0\r\n",
            "Lee Seung-Yeoul,South Korea,forward,3,0,0,0,0\r\n",
            "Lee Young-Pyo,South Korea,defender,360,2,160,2,0\r\n",
            "Oh Beom-Seok,South Korea,defender,90,1,34,3,0\r\n",
            "Park Chu-Young,South Korea,forward,347,14,96,0,0\r\n",
            "Park Ji-Sung,South Korea,midfielder,360,5,127,13,0\r\n",
            "Yeom Ki-Hun,South Korea,midfielder,249,2,80,6,0\r\n",
            "Alonso,Spain,midfielder,506,9,465,18,0\r\n",
            "Arbeloa,Spain,defender,13,0,12,0,0\r\n",
            "Busquets,Spain,midfielder,511,0,466,15,0\r\n",
            "Capdevila,Spain,defender,540,1,310,10,0\r\n",
            "Casillas,Spain,goalkeeper,540,0,67,0,11\r\n",
            "Fabregas,Spain,midfielder,94,1,116,2,0\r\n",
            "Iniesta,Spain,midfielder,437,8,299,11,0\r\n",
            "Javi Martuenez,Spain,midfielder,17,0,17,0,0\r\n",
            "Jesus Navas,Spain,midfielder,118,4,61,1,0\r\n",
            "Juan Mata,Spain,midfielder,20,1,16,0,0\r\n",
            "Llorente,Spain,forward,31,2,12,0,0\r\n",
            "Marchena,Spain,defender,8,0,1,0,0\r\n",
            "Pedro Rodriguez,Spain,midfielder,116,5,80,0,0\r\n",
            "Pique,Spain,defender,540,2,402,15,0\r\n",
            "Puyol,Spain,defender,534,3,254,8,0\r\n",
            "Ramos,Spain,defender,527,9,299,7,0\r\n",
            "Silva,Spain,midfielder,66,2,42,2,0\r\n",
            "Torres,Spain,forward,278,9,50,0,0\r\n",
            "Villa,Spain,forward,529,22,169,2,0\r\n",
            "Xavi,Spain,midfielder,515,4,563,6,0\r\n",
            "Barnetta,Switzerland,midfielder,227,3,104,5,0\r\n",
            "Behrami,Switzerland,midfielder,31,0,4,1,0\r\n",
            "Benaglio,Switzerland,goalkeeper,270,0,75,0,11\r\n",
            "Bunjaku,Switzerland,forward,13,0,5,0,0\r\n",
            "Derdiyok,Switzerland,forward,191,4,47,1,0\r\n",
            "Eggimann,Switzerland,defender,1,0,0,0,0\r\n",
            "Fernandes,Switzerland,midfielder,212,1,56,7,0\r\n",
            "Frei,Switzerland,forward,63,2,11,0,0\r\n",
            "Grichting,Switzerland,defender,270,1,82,6,0\r\n",
            "Huggel,Switzerland,midfielder,258,0,87,8,0\r\n",
            "Inler,Switzerland,midfielder,270,2,138,6,0\r\n",
            "Lichtsteiner,Switzerland,defender,270,2,80,10,0\r\n",
            "Nkufo,Switzerland,forward,227,2,65,2,0\r\n",
            "Senderos,Switzerland,defender,36,0,9,1,0\r\n",
            "Shaqiri,Switzerland,midfielder,12,0,9,0,0\r\n",
            "Yakin,Switzerland,midfielder,56,3,26,0,0\r\n",
            "Ziegler,Switzerland,defender,270,1,71,9,0\r\n",
            "von Bergen,Switzerland,defender,234,0,79,3,0\r\n",
            "Abreu,Uruguay,forward,72,0,15,0,0\r\n",
            "Arevalo Rios,Uruguay,midfielder,570,5,195,21,0\r\n",
            "Cavani,Uruguay,forward,435,9,151,11,0\r\n",
            "Caceres,Uruguay,defender,90,0,32,4,0\r\n",
            "Eguren,Uruguay,midfielder,2,0,1,0,0\r\n",
            "Fernandez,Uruguay,midfielder,75,1,17,3,0\r\n",
            "Fernandez,Uruguay,forward,7,0,5,0,0\r\n",
            "Forlan,Uruguay,forward,564,18,202,0,0\r\n",
            "Fucile,Uruguay,defender,371,2,115,14,0\r\n",
            "Gargano,Uruguay,midfielder,91,0,44,1,0\r\n",
            "Goduen,Uruguay,defender,315,1,120,9,0\r\n",
            "Gonzalez,Uruguay,midfielder,63,0,34,2,0\r\n",
            "Lodeiro,Uruguay,midfielder,109,0,37,1,0\r\n",
            "Lugano,Uruguay,defender,398,2,67,6,0\r\n",
            "Maxi Pereira,Uruguay,midfielder,570,5,182,15,0\r\n",
            "Muslera,Uruguay,goalkeeper,570,0,75,0,16\r\n",
            "Perez,Uruguay,midfielder,567,2,252,34,0\r\n",
            "Scotti,Uruguay,defender,95,0,22,5,0\r\n",
            "Suarez,Uruguay,forward,452,19,127,4,0\r\n",
            "Victorino,Uruguay,defender,435,0,141,7,0\r\n",
            "Alvaro Pereira,Uruguay,midfielder,409,6,140,17,0\r\n",
            "Beasley,USA,midfielder,10,0,4,0,0\r\n",
            "Bocanegra,USA,defender,390,1,130,9,0\r\n",
            "Bornstein,USA,defender,200,2,72,5,0\r\n",
            "Bradley,USA,midfielder,390,6,210,9,0\r\n",
            "Buddle,USA,forward,39,1,12,0,0\r\n",
            "Cherundolo,USA,defender,390,1,180,10,0\r\n",
            "Clark,USA,midfielder,121,0,42,4,0\r\n",
            "Demerit,USA,defender,390,2,129,7,0\r\n",
            "Dempsey,USA,midfielder,390,15,137,6,0\r\n",
            "Donovan,USA,forward,390,7,165,9,0\r\n",
            "Edu,USA,midfielder,198,2,116,4,0\r\n",
            "Feilhaber,USA,midfielder,165,3,71,5,0\r\n",
            "Findley,USA,forward,167,1,40,0,0\r\n",
            "Gomez,USA,forward,85,4,18,0,0\r\n",
            "Holden,USA,midfielder,4,0,2,0,0\r\n",
            "Howard,USA,goalkeeper,390,0,81,0,14\r\n",
            "Jozy Altidore,USA,forward,356,8,84,2,0\r\n",
            "Onyewu,USA,defender,170,1,69,2,0\r\n",
            "Torres,USA,midfielder,45,1,32,0,0"
          ]
        }
      ],
      "source": [
        "#!cut -d\",\" -f1 Players.csv | tr -d \"'\" >> sample2.csv  \n",
        "#!paste -d',' sample2.csv Players.csv >> sample3.csv\n",
        "#!cut -d\",\" -f3-9,1 sample3.csv > Players.csv \n",
        "!sed -i $'s/\\'//g' Players.csv\n",
        "!cat Players.csv"
      ]
    },
    {
      "cell_type": "code",
      "execution_count": null,
      "metadata": {
        "id": "nN4CGJcFKfZG"
      },
      "outputs": [],
      "source": [
        "!mysql -e \"CREATE DATABASE aNewDB;\""
      ]
    },
    {
      "cell_type": "code",
      "execution_count": null,
      "metadata": {
        "id": "rXfAIjezUxzY"
      },
      "outputs": [],
      "source": [
        "!mysql -D \"aNewDB\" -e \"CREATE TABLE Players (surname VARCHAR(50), team VARCHAR(50), position VARCHAR(50), minutes SMALLINT UNSIGNED, shots SMALLINT UNSIGNED, passes SMALLINT UNSIGNED, tackles SMALLINT UNSIGNED, saves SMALLINT UNSIGNED);\""
      ]
    },
    {
      "cell_type": "code",
      "execution_count": null,
      "metadata": {
        "id": "y-xllvY0zbp0",
        "colab": {
          "base_uri": "https://localhost:8080/"
        },
        "outputId": "a462e03b-d486-48a8-f8b4-723da7502878"
      },
      "outputs": [
        {
          "output_type": "stream",
          "name": "stdout",
          "text": [
            "Writing Players.sh\n"
          ]
        }
      ],
      "source": [
        "%%writefile Players.sh\n",
        "\n",
        "#!/bin/bash\n",
        "\n",
        "cat Players.csv | awk 'NR>1' | while read line\n",
        "do \n",
        "  surname=$(echo ${line} | cut -d , -f 1) \n",
        "  team=$(echo ${line} | cut -d , -f 2)\n",
        "  position=$(echo ${line} | cut -d , -f 3)\n",
        "  minutes=$(echo ${line} | cut -d , -f 4)\n",
        "  shots=$(echo ${line} | cut -d , -f 5)\n",
        "  passes=$(echo ${line} | cut -d , -f 6)\n",
        "  tackles=$(echo ${line} | cut -d , -f 7)\n",
        "  saves=$(echo ${line} | cut -d , -f 8)\n",
        "  mysql -D \"aNewDB\" -e \"insert into Players values('$surname', '$team', '$position', $minutes, $shots, $passes, $tackles, $saves)\"\n",
        "done "
      ]
    },
    {
      "cell_type": "code",
      "execution_count": null,
      "metadata": {
        "colab": {
          "base_uri": "https://localhost:8080/"
        },
        "id": "eRE_wyt6CCE_",
        "outputId": "c337b33a-3c41-4268-aa9d-5415e1f26a6c"
      },
      "outputs": [
        {
          "output_type": "stream",
          "name": "stdout",
          "text": [
            "+---------------------+--------------+------------+---------+-------+--------+---------+-------+\n",
            "| surname             | team         | position   | minutes | shots | passes | tackles | saves |\n",
            "+---------------------+--------------+------------+---------+-------+--------+---------+-------+\n",
            "| Abdoun              | Algeria      | midfielder |      16 |     0 |      6 |       0 |     0 |\n",
            "| Belhadj             | Algeria      | defender   |     270 |     1 |    146 |       8 |     0 |\n",
            "| Boudebouz           | Algeria      | midfielder |      74 |     3 |     28 |       1 |     0 |\n",
            "| Bougherra           | Algeria      | defender   |     270 |     1 |     89 |      11 |     0 |\n",
            "| Chaouchi            | Algeria      | goalkeeper |      90 |     0 |     17 |       0 |     2 |\n",
            "| Djebbour            | Algeria      | forward    |     123 |     3 |     19 |       1 |     0 |\n",
            "| Ghezzal             | Algeria      | forward    |      40 |     3 |      8 |       0 |     0 |\n",
            "| Guedioura           | Algeria      | midfielder |      38 |     0 |     18 |       1 |     0 |\n",
            "| Halliche            | Algeria      | defender   |     270 |     2 |     94 |       4 |     0 |\n",
            "| Kadir               | Algeria      | midfielder |     262 |     0 |    104 |       3 |     0 |\n",
            "| Lacen               | Algeria      | midfielder |     270 |     0 |    158 |       8 |     0 |\n",
            "| MBolhi              | Algeria      | goalkeeper |     180 |     0 |     30 |       0 |    12 |\n",
            "| Matmour             | Algeria      | midfielder |     255 |     3 |     68 |       3 |     0 |\n",
            "| Mesbah              | Algeria      | midfielder |       1 |     0 |      1 |       0 |     0 |\n",
            "| Saifi               | Algeria      | forward    |      15 |     1 |      3 |       0 |     0 |\n",
            "| Yahia               | Algeria      | defender   |     269 |     1 |     79 |       4 |     0 |\n",
            "| Yebda               | Algeria      | midfielder |     269 |     8 |    138 |      10 |     0 |\n",
            "| Ziani               | Algeria      | midfielder |     240 |     5 |     93 |       6 |     0 |\n",
            "| Aguero              | Argentina    | forward    |     106 |     2 |     57 |       2 |     0 |\n",
            "| Bolatti             | Argentina    | midfielder |      98 |     2 |     97 |       4 |     0 |\n",
            "| Burdisso            | Argentina    | defender   |     341 |     1 |    167 |       1 |     0 |\n",
            "| Demichelis          | Argentina    | defender   |     450 |     1 |    218 |       7 |     0 |\n",
            "| Di Maria            | Argentina    | midfielder |     356 |     7 |    148 |      12 |     0 |\n",
            "| Gutierrez           | Argentina    | midfielder |     191 |     0 |     83 |      11 |     0 |\n",
            "| Heinze              | Argentina    | defender   |     360 |     3 |    188 |       6 |     0 |\n",
            "| Higuain             | Argentina    | forward    |     341 |    13 |     93 |       5 |     0 |\n",
            "| Mascherano          | Argentina    | midfielder |     360 |     0 |    237 |      19 |     0 |\n",
            "| Maxi Rodriguez      | Argentina    | midfielder |     346 |     2 |    218 |       9 |     0 |\n",
            "| Messi               | Argentina    | forward    |     450 |    21 |    321 |      10 |     0 |\n",
            "| Milito              | Argentina    | forward    |      91 |     0 |     33 |       0 |     0 |\n",
            "| Otamendi            | Argentina    | defender   |     250 |     0 |    141 |       6 |     0 |\n",
            "| Palermo             | Argentina    | forward    |      10 |     3 |      8 |       0 |     0 |\n",
            "| Pastore             | Argentina    | midfielder |      37 |     2 |     44 |       3 |     0 |\n",
            "| Rodriguez           | Argentina    | defender   |      90 |     1 |     72 |       1 |     0 |\n",
            "| Romero              | Argentina    | goalkeeper |     450 |     0 |     47 |       0 |    10 |\n",
            "| Samuel              | Argentina    | defender   |     114 |     2 |     43 |       1 |     0 |\n",
            "| Tevez               | Argentina    | forward    |     324 |     6 |    164 |       7 |     0 |\n",
            "| Veron               | Argentina    | midfielder |     185 |     3 |    235 |      10 |     0 |\n",
            "| Beauchamp           | Australia    | defender   |      90 |     0 |     33 |       2 |     0 |\n",
            "| Bresciano           | Australia    | midfielder |     132 |     3 |     47 |       1 |     0 |\n",
            "| Cahill              | Australia    | midfielder |     146 |     6 |     39 |       1 |     0 |\n",
            "| Carney              | Australia    | defender   |     180 |     0 |     56 |       4 |     0 |\n",
            "| Chipperfield        | Australia    | midfielder |     138 |     2 |     50 |       3 |     0 |\n",
            "| Culina              | Australia    | midfielder |     270 |     4 |    153 |       0 |     0 |\n",
            "| Emerton             | Australia    | midfielder |     254 |     1 |     89 |       3 |     0 |\n",
            "| Garcia              | Australia    | midfielder |      72 |     2 |     24 |       3 |     0 |\n",
            "| Grella              | Australia    | midfielder |      45 |     0 |     18 |       2 |     0 |\n",
            "| Holman              | Australia    | forward    |     138 |     3 |     49 |       2 |     0 |\n",
            "| Jedinak             | Australia    | midfielder |      16 |     0 |     15 |       0 |     0 |\n",
            "| Kennedy             | Australia    | forward    |     112 |     3 |     29 |       1 |     0 |\n",
            "| Kewell              | Australia    | midfielder |      24 |     0 |      7 |       1 |     0 |\n",
            "| Moore               | Australia    | defender   |     180 |     1 |     91 |       3 |     0 |\n",
            "| Neill               | Australia    | defender   |     270 |     1 |    135 |       4 |     0 |\n",
            "| Rukavytsya          | Australia    | forward    |      32 |     1 |     12 |       0 |     0 |\n",
            "| Schwarzer           | Australia    | goalkeeper |     270 |     0 |     51 |       0 |    13 |\n",
            "| Valeri              | Australia    | midfielder |     245 |     0 |    135 |       5 |     0 |\n",
            "| Wilkshire           | Australia    | midfielder |     256 |     2 |    117 |       8 |     0 |\n",
            "| Baptista            | Brazil       | midfielder |      82 |     0 |     42 |       1 |     0 |\n",
            "| Daniel Alves        | Brazil       | defender   |     310 |    11 |    215 |       6 |     0 |\n",
            "| Elano               | Brazil       | midfielder |     140 |     5 |     57 |       6 |     0 |\n",
            "| Fabiano             | Brazil       | forward    |     418 |     9 |     89 |       4 |     0 |\n",
            "| Gilberto            | Brazil       | defender   |      33 |     0 |      6 |       4 |     0 |\n",
            "| Gilberto Silva      | Brazil       | midfielder |     450 |     3 |    299 |      11 |     0 |\n",
            "| Grafite             | Brazil       | forward    |       5 |     0 |      4 |       0 |     0 |\n",
            "| Josue               | Brazil       | midfielder |      46 |     0 |     54 |       1 |     0 |\n",
            "| Juan                | Brazil       | defender   |     450 |     4 |    223 |       9 |     0 |\n",
            "| Julio Cesar         | Brazil       | goalkeeper |     450 |     0 |     69 |       0 |    10 |\n",
            "| Kaka                | Brazil       | midfielder |     337 |     6 |    139 |       2 |     0 |\n",
            "| Kleberson           | Brazil       | midfielder |       9 |     0 |      1 |       0 |     0 |\n",
            "| Lucio               | Brazil       | defender   |     450 |     1 |    223 |      14 |     0 |\n",
            "| Maicon              | Brazil       | defender   |     450 |     6 |    249 |      11 |     0 |\n",
            "| Melo                | Brazil       | midfielder |     291 |     2 |    249 |      12 |     0 |\n",
            "| Michel Bastos       | Brazil       | defender   |     422 |     7 |    224 |      14 |     0 |\n",
            "| Nilmar              | Brazil       | forward    |     129 |     5 |     18 |       3 |     0 |\n",
            "| Ramires             | Brazil       | midfielder |     105 |     3 |     53 |       3 |     0 |\n",
            "| Robinho             | Brazil       | forward    |     354 |     9 |    181 |       5 |     0 |\n",
            "| Aboubakar           | Cameroon     | forward    |      46 |     2 |     16 |       0 |     0 |\n",
            "| Alexandre Song      | Cameroon     | midfielder |      90 |     1 |     59 |       7 |     0 |\n",
            "| Assou-Ekotto        | Cameroon     | defender   |     270 |     0 |    116 |       5 |     0 |\n",
            "| Bassong             | Cameroon     | defender   |     163 |     0 |     71 |       3 |     0 |\n",
            "| Bong                | Cameroon     | defender   |      56 |     0 |     12 |       0 |     0 |\n",
            "| Chedjou             | Cameroon     | midfielder |      90 |     2 |     77 |       2 |     0 |\n",
            "| Choupo-Moting       | Cameroon     | forward    |     147 |     2 |     38 |       1 |     0 |\n",
            "| Emana               | Cameroon     | midfielder |     117 |     7 |     59 |       2 |     0 |\n",
            "| Enoh                | Cameroon     | midfielder |     135 |     2 |     56 |       8 |     0 |\n",
            "| Etoo                | Cameroon     | forward    |     270 |     4 |     89 |       3 |     0 |\n",
            "| Geremi              | Cameroon     | defender   |     195 |     1 |     93 |       1 |     0 |\n",
            "| Hamidou             | Cameroon     | goalkeeper |     270 |     0 |     54 |       0 |     9 |\n",
            "| Idrissou            | Cameroon     | forward    |      50 |     2 |     23 |       1 |     0 |\n",
            "| Makoun              | Cameroon     | midfielder |     210 |     4 |    164 |       2 |     0 |\n",
            "| Matip               | Cameroon     | defender   |      63 |     0 |     37 |       3 |     0 |\n",
            "| Mbia                | Cameroon     | defender   |     270 |     3 |    135 |       4 |     0 |\n",
            "| NGuemo              | Cameroon     | midfielder |      90 |     1 |     51 |       1 |     0 |\n",
            "| NKoulou             | Cameroon     | defender   |     253 |     0 |    152 |       4 |     0 |\n",
            "| Rigobert Song       | Cameroon     | defender   |      17 |     0 |      3 |       0 |     0 |\n",
            "| Webo                | Cameroon     | forward    |     168 |     4 |     39 |       3 |     0 |\n",
            "| Beausejour          | Chile        | midfielder |     360 |     2 |    100 |       7 |     0 |\n",
            "| Bravo               | Chile        | goalkeeper |     360 |     0 |     58 |       0 |     4 |\n",
            "| Carmona             | Chile        | midfielder |     270 |     1 |    175 |       9 |     0 |\n",
            "| Contreras           | Chile        | defender   |      54 |     0 |     17 |       1 |     0 |\n",
            "| Estrada             | Chile        | midfielder |      37 |     1 |     16 |       2 |     0 |\n",
            "| Fernandez           | Chile        | midfielder |     155 |     1 |     72 |       2 |     0 |\n",
            "| Fuentes             | Chile        | defender   |      90 |     0 |     27 |       3 |     0 |\n",
            "| Gonzalez            | Chile        | midfielder |     138 |    10 |     41 |       6 |     0 |\n",
            "| Isla                | Chile        | defender   |     332 |     1 |    123 |      10 |     0 |\n",
            "| Jara                | Chile        | defender   |     308 |     1 |    187 |       8 |     0 |\n",
            "| Medel               | Chile        | defender   |     270 |     1 |    123 |       7 |     0 |\n",
            "| Millar              | Chile        | midfielder |     125 |     1 |     80 |       3 |     0 |\n",
            "| Orellana            | Chile        | forward    |      25 |     1 |      7 |       0 |     0 |\n",
            "| Paredes             | Chile        | forward    |      70 |     3 |     11 |       5 |     0 |\n",
            "| Ponce               | Chile        | defender   |     270 |     2 |    113 |       4 |     0 |\n",
            "| Suazo               | Chile        | forward    |     135 |     4 |     39 |       1 |     0 |\n",
            "| Sanchez             | Chile        | forward    |     335 |     7 |    113 |      13 |     0 |\n",
            "| Tello               | Chile        | midfielder |      45 |     0 |     29 |       1 |     0 |\n",
            "| Valdivia            | Chile        | forward    |     222 |     3 |     91 |       3 |     0 |\n",
            "| Vidal               | Chile        | defender   |     306 |     6 |    178 |      17 |     0 |\n",
            "| Agger               | Denmark      | defender   |     270 |     2 |    120 |      10 |     0 |\n",
            "| Beckmann            | Denmark      | midfielder |      28 |     0 |      8 |       0 |     0 |\n",
            "| Bendtner            | Denmark      | forward    |     242 |     4 |     70 |       0 |     0 |\n",
            "| Christian Poulsen   | Denmark      | midfielder |     270 |     1 |    179 |       7 |     0 |\n",
            "| Enevoldsen          | Denmark      | midfielder |      56 |     2 |     10 |       0 |     0 |\n",
            "| Eriksen             | Denmark      | midfielder |      44 |     1 |     20 |       1 |     0 |\n",
            "| Gronkjaer           | Denmark      | midfielder |     101 |     1 |     29 |       3 |     0 |\n",
            "| Jacobsen            | Denmark      | defender   |     270 |     0 |     95 |       3 |     0 |\n",
            "| Jakob Poulsen       | Denmark      | midfielder |      60 |     2 |     40 |       0 |     0 |\n",
            "| Jensen              | Denmark      | midfielder |      45 |     0 |     21 |       2 |     0 |\n",
            "| Jorgensen           | Denmark      | midfielder |     169 |     1 |     78 |       8 |     0 |\n",
            "| Kahlenberg          | Denmark      | midfielder |     159 |     2 |     59 |       3 |     0 |\n",
            "| Kjaer               | Denmark      | defender   |     180 |     1 |     41 |       3 |     0 |\n",
            "| Kroldrup            | Denmark      | defender   |      56 |     1 |     32 |       0 |     0 |\n",
            "| Larsen              | Denmark      | forward    |      34 |     2 |      5 |       0 |     0 |\n",
            "| Rommedahl           | Denmark      | midfielder |     270 |     4 |     74 |       5 |     0 |\n",
            "| Simon Poulsen       | Denmark      | midfielder |     270 |     1 |     99 |       9 |     0 |\n",
            "| Sorensen            | Denmark      | goalkeeper |     270 |     0 |     52 |       0 |    16 |\n",
            "| Tomasson            | Denmark      | forward    |     176 |     7 |     51 |       1 |     0 |\n",
            "| Ashley Cole         | England      | defender   |     360 |     0 |    142 |      12 |     0 |\n",
            "| Barry               | England      | midfielder |     264 |     2 |    171 |       8 |     0 |\n",
            "| Carragher           | England      | defender   |     135 |     0 |     74 |       4 |     0 |\n",
            "| Crouch              | England      | forward    |      17 |     1 |      7 |       0 |     0 |\n",
            "| Defoe               | England      | forward    |     173 |     5 |     17 |       1 |     0 |\n",
            "| Gerrard             | England      | midfielder |     360 |    10 |    227 |       5 |     0 |\n",
            "| Glen Johnson        | England      | defender   |     357 |     3 |    173 |      17 |     0 |\n",
            "| Green               | England      | goalkeeper |      90 |     0 |     21 |       0 |     3 |\n",
            "| Heskey              | England      | forward    |     176 |     2 |     53 |       7 |     0 |\n",
            "| James               | England      | goalkeeper |     270 |     0 |     72 |       0 |     6 |\n",
            "| Joe Cole            | England      | midfielder |      44 |     1 |     26 |       0 |     0 |\n",
            "| King                | England      | defender   |      45 |     0 |     17 |       0 |     0 |\n",
            "| Lampard             | England      | midfielder |     360 |    11 |    232 |       3 |     0 |\n",
            "| Lennon              | England      | midfielder |     153 |     0 |     43 |       1 |     0 |\n",
            "| Milner              | England      | midfielder |     185 |     1 |     57 |       6 |     0 |\n",
            "| Rooney              | England      | forward    |     342 |     8 |    121 |       2 |     0 |\n",
            "| Terry               | England      | defender   |     360 |     2 |    223 |       3 |     0 |\n",
            "| Upson               | England      | defender   |     180 |     1 |     93 |       4 |     0 |\n",
            "| Wright-Phillips     | England      | midfielder |      89 |     2 |     29 |       2 |     0 |\n",
            "| Abidal              | France       | defender   |     180 |     0 |     91 |       6 |     0 |\n",
            "| Abou Diaby          | France       | midfielder |     270 |     1 |    111 |       5 |     0 |\n",
            "| Alou Diarra         | France       | midfielder |      82 |     0 |     31 |       0 |     0 |\n",
            "| Anelka              | France       | forward    |     117 |     7 |     37 |       1 |     0 |\n",
            "| Cisse               | France       | forward    |      55 |     3 |      7 |       1 |     0 |\n",
            "| Clichy              | France       | defender   |      90 |     0 |     46 |       2 |     0 |\n",
            "| Evra                | France       | defender   |     180 |     0 |     92 |       4 |     0 |\n",
            "| Gallas              | France       | defender   |     270 |     0 |     96 |       2 |     0 |\n",
            "| Gignac              | France       | forward    |      95 |     3 |     19 |       1 |     0 |\n",
            "| Gourcuff            | France       | midfielder |     100 |     3 |     40 |       3 |     0 |\n",
            "| Govou               | France       | forward    |     162 |     1 |     35 |       4 |     0 |\n",
            "| Henry               | France       | forward    |      53 |     1 |     21 |       2 |     0 |\n",
            "| Lloris              | France       | goalkeeper |     270 |     0 |     43 |       0 |    12 |\n",
            "| Malouda             | France       | midfielder |     150 |     4 |     76 |       1 |     0 |\n",
            "| Ribery              | France       | midfielder |     270 |     4 |    104 |       9 |     0 |\n",
            "| Sagna               | France       | defender   |     270 |     0 |    125 |       4 |     0 |\n",
            "| Squillaci           | France       | defender   |      90 |     0 |     34 |       1 |     0 |\n",
            "| Toulalan            | France       | midfielder |     180 |     1 |     98 |       9 |     0 |\n",
            "| Valbuena            | France       | midfielder |      21 |     1 |     11 |       1 |     0 |\n",
            "| Badstuber           | Germany      | defender   |     167 |     0 |     84 |       6 |     0 |\n",
            "| Boateng             | Germany      | defender   |     287 |     1 |    125 |      10 |     0 |\n",
            "| Cacau               | Germany      | forward    |     132 |     4 |     54 |       1 |     0 |\n",
            "| Friedrich           | Germany      | defender   |     540 |     1 |    244 |      16 |     0 |\n",
            "| Gomez               | Germany      | forward    |      57 |     2 |     18 |       0 |     0 |\n",
            "| Jansen              | Germany      | defender   |      73 |     1 |     44 |       3 |     0 |\n",
            "| Khedira             | Germany      | midfielder |     517 |     6 |    279 |      16 |     0 |\n",
            "| Kiessling           | Germany      | forward    |       7 |     0 |      5 |       0 |     0 |\n",
            "| Klose               | Germany      | forward    |     356 |    11 |     83 |       4 |     0 |\n",
            "| Kroos               | Germany      | midfielder |      50 |     2 |     29 |       4 |     0 |\n",
            "| Lahm                | Germany      | defender   |     540 |     0 |    360 |      17 |     0 |\n",
            "| Marin               | Germany      | midfielder |      29 |     1 |      6 |       0 |     0 |\n",
            "| Mertesacker         | Germany      | defender   |     540 |     0 |    282 |       9 |     0 |\n",
            "| Mueller             | Germany      | forward    |     383 |     7 |    165 |       9 |     0 |\n",
            "| Neuer               | Germany      | goalkeeper |     540 |     0 |     99 |       0 |    20 |\n",
            "| Podolski            | Germany      | forward    |     531 |    17 |    217 |       9 |     0 |\n",
            "| Schweinsteiger      | Germany      | midfielder |     531 |     5 |    423 |      23 |     0 |\n",
            "| Trochowski          | Germany      | midfielder |     109 |     1 |     60 |       5 |     0 |\n",
            "| Ozil                | Germany      | midfielder |     497 |     7 |    266 |       3 |     0 |\n",
            "| Addy                | Ghana        | defender   |     138 |     0 |     51 |       2 |     0 |\n",
            "| Adiyiah             | Ghana        | forward    |      33 |     0 |      9 |       0 |     0 |\n",
            "| Amoah               | Ghana        | forward    |      11 |     0 |      4 |       1 |     0 |\n",
            "| Annan               | Ghana        | midfielder |     510 |     4 |    307 |      11 |     0 |\n",
            "| Appiah              | Ghana        | midfielder |     105 |     1 |     54 |       2 |     0 |\n",
            "| Asamoah             | Ghana        | midfielder |     480 |    11 |    214 |       9 |     0 |\n",
            "| Ayew                | Ghana        | midfielder |     389 |     3 |    170 |      15 |     0 |\n",
            "| Boateng             | Ghana        | midfielder |     464 |    12 |    220 |      20 |     0 |\n",
            "| Gyan                | Ghana        | forward    |     501 |    27 |    151 |       1 |     0 |\n",
            "| Inkoom              | Ghana        | defender   |     187 |     1 |     62 |       3 |     0 |\n",
            "| John Mensah         | Ghana        | defender   |     420 |     1 |    108 |      10 |     0 |\n",
            "| Jonathan Mensah     | Ghana        | defender   |     300 |     2 |    105 |       6 |     0 |\n",
            "| Kingson             | Ghana        | goalkeeper |     510 |     0 |    105 |       1 |    20 |\n",
            "| Muntari             | Ghana        | midfielder |     134 |     5 |     69 |       3 |     0 |\n",
            "| Owusu-Abeyie        | Ghana        | forward    |      35 |     2 |     22 |       0 |     0 |\n",
            "| Pantsil             | Ghana        | defender   |     510 |     2 |    248 |       7 |     0 |\n",
            "| Sarpei              | Ghana        | defender   |     463 |     0 |    167 |      13 |     0 |\n",
            "| Tagoe               | Ghana        | forward    |     210 |     3 |     48 |       1 |     0 |\n",
            "| Vorsah              | Ghana        | defender   |     210 |     1 |     56 |       2 |     0 |\n",
            "| Avraam Papadopoulos | Greece       | defender   |     270 |     1 |     70 |       8 |     0 |\n",
            "| Charisteas          | Greece       | forward    |      61 |     0 |     12 |       2 |     0 |\n",
            "| Gekas               | Greece       | forward    |     169 |     3 |     26 |       0 |     0 |\n",
            "| Kapetanos           | Greece       | forward    |      29 |     1 |      7 |       0 |     0 |\n",
            "| Karagounis          | Greece       | midfielder |     180 |     4 |    105 |       7 |     0 |\n",
            "| Katsouranis         | Greece       | midfielder |     234 |     2 |    115 |       4 |     0 |\n",
            "| Kyrgiakos           | Greece       | defender   |     180 |     4 |     40 |       1 |     0 |\n",
            "| Moras               | Greece       | defender   |      90 |     0 |      4 |       2 |     0 |\n",
            "| Ninis               | Greece       | midfielder |      47 |     1 |     22 |       4 |     0 |\n",
            "| Papastathopoulos    | Greece       | defender   |     127 |     0 |     18 |      10 |     0 |\n",
            "| Patsatzoglou        | Greece       | midfielder |      80 |     0 |     31 |       0 |     0 |\n",
            "| Salpingidis         | Greece       | forward    |     121 |     3 |     28 |       4 |     0 |\n",
            "| Samaras             | Greece       | forward    |     202 |     7 |     43 |       1 |     0 |\n",
            "| Seitaridis          | Greece       | defender   |      90 |     0 |     39 |       6 |     0 |\n",
            "| Spiropoulos         | Greece       | defender   |      45 |     1 |      6 |       2 |     0 |\n",
            "| Torosidis           | Greece       | defender   |     235 |     3 |     74 |       5 |     0 |\n",
            "| Tziolis             | Greece       | midfielder |     270 |     2 |    153 |       8 |     0 |\n",
            "| Tzorvas             | Greece       | goalkeeper |     270 |     0 |     41 |       0 |    12 |\n",
            "| Vintra              | Greece       | defender   |     270 |     0 |     89 |       4 |     0 |\n",
            "| Alvarez             | Honduras     | midfielder |     180 |     1 |     57 |       1 |     0 |\n",
            "| Bernardez           | Honduras     | defender   |      90 |     2 |     34 |       4 |     0 |\n",
            "| Chavez              | Honduras     | defender   |     270 |     0 |     62 |       3 |     0 |\n",
            "| Espinoza            | Honduras     | midfielder |     135 |     0 |     36 |       4 |     0 |\n",
            "| Figueroa            | Honduras     | defender   |     270 |     1 |     94 |       5 |     0 |\n",
            "| Guevara             | Honduras     | midfielder |     156 |     0 |     60 |       6 |     0 |\n",
            "| Izaguirre           | Honduras     | defender   |     180 |     0 |     51 |       8 |     0 |\n",
            "| Jerry Palacios      | Honduras     | forward    |      84 |     0 |     19 |       0 |     0 |\n",
            "| Mauricio Sabilluen  | Honduras     | defender   |      90 |     0 |     38 |       5 |     0 |\n",
            "| Mendoza             | Honduras     | defender   |     180 |     0 |     51 |       3 |     0 |\n",
            "| Nunez               | Honduras     | midfielder |     172 |     4 |     60 |       1 |     0 |\n",
            "| Pavon               | Honduras     | forward    |      60 |     1 |      9 |       0 |     0 |\n",
            "| Suazo               | Honduras     | forward    |     171 |     2 |     35 |       0 |     0 |\n",
            "| Thomas              | Honduras     | midfielder |     114 |     0 |     37 |       5 |     0 |\n",
            "| Turcios             | Honduras     | midfielder |      66 |     0 |     27 |       0 |     0 |\n",
            "| Valladares          | Honduras     | goalkeeper |     270 |     0 |     51 |       0 |    12 |\n",
            "| Walter Martinez     | Honduras     | forward    |     125 |     0 |     43 |       1 |     0 |\n",
            "| Welcome             | Honduras     | forward    |      87 |     2 |     16 |       0 |     0 |\n",
            "| Wilson Palacios     | Honduras     | midfielder |     270 |     0 |     90 |      14 |     0 |\n",
            "| Buffon              | Italy        | goalkeeper |      45 |     0 |      4 |       0 |     0 |\n",
            "| Camoranesi          | Italy        | midfielder |      76 |     2 |     45 |       2 |     0 |\n",
            "| Cannavaro           | Italy        | defender   |     270 |     0 |    138 |      11 |     0 |\n",
            "| Chiellini           | Italy        | defender   |     270 |     2 |    155 |       7 |     0 |\n",
            "| Criscito            | Italy        | defender   |     225 |     1 |    114 |       6 |     0 |\n",
            "| De Rossi            | Italy        | midfielder |     270 |     3 |    204 |       9 |     0 |\n",
            "| Di Natale           | Italy        | forward    |     153 |     6 |     55 |       2 |     0 |\n",
            "| Gattuso             | Italy        | midfielder |      45 |     0 |     13 |       5 |     0 |\n",
            "| Gilardino           | Italy        | forward    |     117 |     1 |     32 |       0 |     0 |\n",
            "| Iaquinta            | Italy        | forward    |     270 |     5 |     48 |       3 |     0 |\n",
            "| Maggio              | Italy        | defender   |      45 |     0 |     21 |       1 |     0 |\n",
            "| Marchetti           | Italy        | goalkeeper |     225 |     0 |     21 |       0 |     1 |\n",
            "| Marchisio           | Italy        | midfielder |     120 |     0 |     57 |       2 |     0 |\n",
            "| Montolivo           | Italy        | midfielder |     236 |     8 |    163 |       9 |     0 |\n",
            "| Pazzini             | Italy        | forward    |      29 |     0 |      6 |       0 |     0 |\n",
            "| Pepe                | Italy        | forward    |     225 |     3 |    100 |       5 |     0 |\n",
            "| Pirlo               | Italy        | midfielder |      34 |     0 |     28 |       0 |     0 |\n",
            "| Quagliarella        | Italy        | forward    |      45 |     3 |     22 |       2 |     0 |\n",
            "| Zambrotta           | Italy        | defender   |     270 |     2 |    128 |       6 |     0 |\n",
            "| Barry               | Ivory Coast  | goalkeeper |     270 |     0 |     23 |       0 |     8 |\n",
            "| Boka                | Ivory Coast  | defender   |      90 |     2 |     50 |       5 |     0 |\n",
            "| Demel               | Ivory Coast  | defender   |     180 |     0 |     60 |       6 |     0 |\n",
            "| Dindane             | Ivory Coast  | forward    |     170 |     1 |     66 |       2 |     0 |\n",
            "| Doumbia             | Ivory Coast  | forward    |      11 |     0 |      2 |       0 |     0 |\n",
            "| Drogba              | Ivory Coast  | forward    |     204 |     8 |     35 |       2 |     0 |\n",
            "| Eboue               | Ivory Coast  | defender   |     251 |     3 |    126 |       6 |     0 |\n",
            "| Gervinho            | Ivory Coast  | forward    |     182 |     5 |     60 |       1 |     0 |\n",
            "| Kader Keita         | Ivory Coast  | midfielder |      94 |     2 |     48 |       2 |     0 |\n",
            "| Kalou               | Ivory Coast  | forward    |     160 |     4 |     50 |       3 |     0 |\n",
            "| Kolo Toure          | Ivory Coast  | defender   |     270 |     2 |     88 |       2 |     0 |\n",
            "| Romaric             | Ivory Coast  | midfielder |      98 |     5 |     82 |       4 |     0 |\n",
            "| Tiote               | Ivory Coast  | midfielder |     270 |     3 |    148 |       8 |     0 |\n",
            "| Tiene               | Ivory Coast  | defender   |     180 |     1 |     82 |       7 |     0 |\n",
            "| Yaya Toure          | Ivory Coast  | midfielder |     270 |     3 |    197 |       5 |     0 |\n",
            "| Zokora              | Ivory Coast  | midfielder |     270 |     0 |     96 |       5 |     0 |\n",
            "| Abe                 | Japan        | midfielder |     351 |     0 |    101 |      14 |     0 |\n",
            "| Endo                | Japan        | midfielder |     389 |     1 |    147 |       9 |     0 |\n",
            "| Hasebe              | Japan        | midfielder |     375 |     2 |    125 |       8 |     0 |\n",
            "| Honda               | Japan        | midfielder |     390 |     8 |    143 |       5 |     0 |\n",
            "| Inamoto             | Japan        | midfielder |       3 |     0 |      5 |       0 |     0 |\n",
            "| Kawashima           | Japan        | goalkeeper |     390 |     0 |     54 |       0 |    17 |\n",
            "| Kengo Nakamura      | Japan        | midfielder |      39 |     0 |     10 |       0 |     0 |\n",
            "| Komano              | Japan        | defender   |     390 |     3 |    115 |      16 |     0 |\n",
            "| Konno               | Japan        | defender   |       2 |     0 |      0 |       0 |     0 |\n",
            "| Marcus Tulio Tanaka | Japan        | defender   |     390 |     5 |    129 |       5 |     0 |\n",
            "| Matsui              | Japan        | midfielder |     273 |     3 |     95 |       4 |     0 |\n",
            "| Nagatomo            | Japan        | defender   |     390 |     4 |     68 |       4 |     0 |\n",
            "| Nakazawa            | Japan        | defender   |     390 |     1 |    106 |       3 |     0 |\n",
            "| Okazaki             | Japan        | forward    |     104 |     4 |     15 |       2 |     0 |\n",
            "| Okubo               | Japan        | forward    |     351 |     7 |     68 |       4 |     0 |\n",
            "| Shunsuke Nakamura   | Japan        | midfielder |      26 |     0 |     18 |       1 |     0 |\n",
            "| Tamada              | Japan        | forward    |      28 |     0 |      9 |       0 |     0 |\n",
            "| Yano                | Japan        | forward    |       9 |     0 |      4 |       0 |     0 |\n",
            "| Aguilar             | Mexico       | defender   |      55 |     0 |     31 |       2 |     0 |\n",
            "| Barrera             | Mexico       | midfielder |     149 |     4 |     59 |       2 |     0 |\n",
            "| Bautista            | Mexico       | forward    |      45 |     0 |      8 |       3 |     0 |\n",
            "| Blanco              | Mexico       | forward    |     112 |     2 |     60 |       3 |     0 |\n",
            "| Castro              | Mexico       | midfielder |      33 |     0 |     21 |       1 |     0 |\n",
            "| Franco              | Mexico       | forward    |     253 |     4 |     71 |       2 |     0 |\n",
            "| Giovani dos Santos  | Mexico       | midfielder |     360 |     2 |    106 |       4 |     0 |\n",
            "| Guardado            | Mexico       | midfielder |     142 |     5 |     92 |       2 |     0 |\n",
            "| Hernandez           | Mexico       | forward    |     169 |     6 |     37 |       1 |     0 |\n",
            "| Juarez              | Mexico       | defender   |     235 |     0 |    128 |       6 |     0 |\n",
            "| Moreno              | Mexico       | defender   |     147 |     0 |     74 |       4 |     0 |\n",
            "| Marquez             | Mexico       | defender   |     360 |     6 |    244 |      14 |     0 |\n",
            "| Osorio              | Mexico       | defender   |     360 |     1 |    202 |      14 |     0 |\n",
            "| Perez               | Mexico       | goalkeeper |     360 |     0 |     58 |       0 |    13 |\n",
            "| Rodrueguez          | Mexico       | defender   |     360 |     2 |    212 |       7 |     0 |\n",
            "| Salcido             | Mexico       | defender   |     360 |     9 |    174 |      15 |     0 |\n",
            "| Torrado             | Mexico       | midfielder |     360 |     1 |    253 |      22 |     0 |\n",
            "| Vela                | Mexico       | forward    |     100 |     1 |     25 |       1 |     0 |\n",
            "| Afellay             | Netherlands  | midfielder |      21 |     5 |     22 |       0 |     0 |\n",
            "| Boulahrouz          | Netherlands  | defender   |     180 |     0 |     81 |       8 |     0 |\n",
            "| Elia                | Netherlands  | forward    |      85 |     2 |     38 |       2 |     0 |\n",
            "| Heitinga            | Netherlands  | defender   |     540 |     0 |    259 |      10 |     0 |\n",
            "| Huntelaar           | Netherlands  | forward    |      48 |     1 |     12 |       0 |     0 |\n",
            "| Kuyt                | Netherlands  | forward    |     516 |    11 |    248 |       7 |     0 |\n",
            "| Mathijsen           | Netherlands  | defender   |     450 |     1 |    265 |       8 |     0 |\n",
            "| Ooijer              | Netherlands  | defender   |      90 |     0 |     30 |       2 |     0 |\n",
            "| Robben              | Netherlands  | forward    |     267 |     6 |     81 |       5 |     0 |\n",
            "| Sneijder            | Netherlands  | midfielder |     532 |    15 |    279 |       7 |     0 |\n",
            "| Stekelenburg        | Netherlands  | goalkeeper |     540 |     0 |    149 |       0 |    15 |\n",
            "| Van der Vaart       | Netherlands  | midfielder |     257 |     8 |    122 |       4 |     0 |\n",
            "| Van der Wiel        | Netherlands  | defender   |     360 |     0 |    189 |       2 |     0 |\n",
            "| de Jong             | Netherlands  | midfielder |     448 |     1 |    250 |      15 |     0 |\n",
            "| de Zeeuw            | Netherlands  | midfielder |      47 |     0 |     37 |       2 |     0 |\n",
            "| van Bommel          | Netherlands  | midfielder |     540 |     2 |    307 |      31 |     0 |\n",
            "| van Bronckhorst     | Netherlands  | defender   |     540 |     1 |    271 |      10 |     0 |\n",
            "| van Persie          | Netherlands  | forward    |     479 |    14 |    108 |       1 |     0 |\n",
            "| Barron              | New Zealand  | midfielder |       1 |     0 |      0 |       0 |     0 |\n",
            "| Bertos              | New Zealand  | midfielder |     270 |     0 |     79 |       5 |     0 |\n",
            "| Brockie             | New Zealand  | midfielder |      11 |     0 |      5 |       0 |     0 |\n",
            "| Christie            | New Zealand  | midfielder |      21 |     0 |      9 |       1 |     0 |\n",
            "| Elliott             | New Zealand  | midfielder |     270 |     1 |    119 |       7 |     0 |\n",
            "| Fallon              | New Zealand  | forward    |     222 |     1 |     60 |       1 |     0 |\n",
            "| Killen              | New Zealand  | forward    |     240 |     3 |     60 |       7 |     0 |\n",
            "| Lochhead            | New Zealand  | defender   |     270 |     0 |     47 |       5 |     0 |\n",
            "| Nelsen              | New Zealand  | defender   |     270 |     0 |     92 |       1 |     0 |\n",
            "| Paston              | New Zealand  | goalkeeper |     270 |     0 |     64 |       0 |     9 |\n",
            "| Reid                | New Zealand  | defender   |     270 |     2 |     90 |      10 |     0 |\n",
            "| Smeltz              | New Zealand  | forward    |     270 |     5 |     59 |       5 |     0 |\n",
            "| Smith               | New Zealand  | defender   |     270 |     1 |     79 |       2 |     0 |\n",
            "| Vicelich            | New Zealand  | defender   |     249 |     1 |     88 |       4 |     0 |\n",
            "| Wood                | New Zealand  | forward    |      66 |     1 |     16 |       0 |     0 |\n",
            "| Afolabi             | Nigeria      | defender   |     103 |     0 |     38 |       1 |     0 |\n",
            "| Ayila Yussuf        | Nigeria      | midfielder |      90 |     0 |     44 |       1 |     0 |\n",
            "| Echiejile           | Nigeria      | defender   |      67 |     0 |     22 |       1 |     0 |\n",
            "| Enyeama             | Nigeria      | goalkeeper |     270 |     0 |     30 |       0 |    20 |\n",
            "| Etuhu               | Nigeria      | midfielder |     270 |     0 |    111 |       5 |     0 |\n",
            "| Haruna              | Nigeria      | midfielder |     180 |     1 |     77 |       3 |     0 |\n",
            "| Kaita               | Nigeria      | midfielder |     123 |     2 |     45 |       2 |     0 |\n",
            "| Kanu                | Nigeria      | forward    |      57 |     0 |     18 |       0 |     0 |\n",
            "| Martins             | Nigeria      | forward    |      71 |     2 |     16 |       0 |     0 |\n",
            "| Obasi               | Nigeria      | forward    |     195 |     6 |     62 |       8 |     0 |\n",
            "| Odemwingie          | Nigeria      | forward    |      75 |     0 |     28 |       1 |     0 |\n",
            "| Odiah               | Nigeria      | defender   |     270 |     0 |    107 |       5 |     0 |\n",
            "| Shittu              | Nigeria      | defender   |     270 |     0 |     61 |       5 |     0 |\n",
            "| Taiwo               | Nigeria      | defender   |     129 |     3 |     36 |       4 |     0 |\n",
            "| Uche                | Nigeria      | midfielder |     196 |     6 |     73 |       2 |     0 |\n",
            "| Victor Obinna       | Nigeria      | forward    |      72 |     3 |     25 |       4 |     0 |\n",
            "| Yakubu              | Nigeria      | forward    |     250 |     6 |     43 |       2 |     0 |\n",
            "| Yobo                | Nigeria      | defender   |     225 |     0 |     52 |       2 |     0 |\n",
            "| Ahn Young-Hak       | North Korea  | midfielder |     270 |     1 |    123 |      11 |     0 |\n",
            "| Cha Jong-Hyok       | North Korea  | defender   |     255 |     4 |     74 |       5 |     0 |\n",
            "| Choe Kum-Chol       | North Korea  | forward    |      23 |     1 |     13 |       0 |     0 |\n",
            "| Hong Yong-Jo        | North Korea  | forward    |     270 |     4 |    107 |       3 |     0 |\n",
            "| Ji Yun-Nam          | North Korea  | midfielder |     270 |     3 |     73 |      11 |     0 |\n",
            "| Jong Tae-Se         | North Korea  | forward    |     270 |    13 |     58 |       2 |     0 |\n",
            "| Kim Kum-Il          | North Korea  | forward    |      42 |     0 |     18 |       0 |     0 |\n",
            "| Kim Yong-Jun        | North Korea  | midfielder |      32 |     1 |     10 |       0 |     0 |\n",
            "| Mun In-Guk          | North Korea  | midfielder |     205 |     2 |     71 |       7 |     0 |\n",
            "| Nam Song-Chol       | North Korea  | defender   |      15 |     0 |      6 |       0 |     0 |\n",
            "| Pak Chol-Jin        | North Korea  | defender   |     270 |     0 |     56 |       4 |     0 |\n",
            "| Pak Nam-Chol        | North Korea  | midfielder |     238 |     1 |    101 |       7 |     0 |\n",
            "| Ri Jun-Il           | North Korea  | defender   |     270 |     1 |     75 |       2 |     0 |\n",
            "| Ri Kwang-Chon       | North Korea  | defender   |     270 |     1 |     59 |       4 |     0 |\n",
            "| Ri Myong-Guk        | North Korea  | goalkeeper |     270 |     0 |     46 |       0 |    19 |\n",
            "| Alcaraz             | Paraguay     | defender   |     390 |     1 |    172 |      13 |     0 |\n",
            "| Barreto             | Paraguay     | midfielder |     111 |     2 |     38 |       3 |     0 |\n",
            "| Barrios             | Paraguay     | forward    |     308 |     6 |     89 |       2 |     0 |\n",
            "| Benitez             | Paraguay     | forward    |      83 |     2 |     25 |       2 |     0 |\n",
            "| Bonet               | Paraguay     | midfielder |     300 |     0 |    108 |       4 |     0 |\n",
            "| Caniza              | Paraguay     | defender   |      90 |     4 |     44 |       1 |     0 |\n",
            "| Cardozo             | Paraguay     | forward    |     204 |     3 |     53 |       2 |     0 |\n",
            "| Caceres             | Paraguay     | defender   |      90 |     0 |     71 |       0 |     0 |\n",
            "| Caceres             | Paraguay     | midfielder |     354 |     1 |    170 |      17 |     0 |\n",
            "| Da Silva            | Paraguay     | defender   |     480 |     1 |    235 |      11 |     0 |\n",
            "| Morel Rodriguez     | Paraguay     | defender   |     480 |     1 |    202 |       7 |     0 |\n",
            "| Ortigoza            | Paraguay     | midfielder |      75 |     0 |     60 |       5 |     0 |\n",
            "| Riveros             | Paraguay     | midfielder |     480 |     5 |    236 |      22 |     0 |\n",
            "| Santa Cruz          | Paraguay     | forward    |     312 |     6 |    134 |       1 |     0 |\n",
            "| Santana             | Paraguay     | midfielder |     120 |     2 |     28 |       7 |     0 |\n",
            "| Torres              | Paraguay     | defender   |      82 |     2 |     29 |       1 |     0 |\n",
            "| Valdez              | Paraguay     | forward    |     337 |     8 |     57 |       9 |     0 |\n",
            "| Vera                | Paraguay     | midfielder |     414 |     5 |    138 |      14 |     0 |\n",
            "| Veruen              | Paraguay     | defender   |      90 |     0 |     26 |       3 |     0 |\n",
            "| Villar              | Paraguay     | goalkeeper |     480 |     0 |     99 |       0 |    10 |\n",
            "| Almeida             | Portugal     | forward    |     136 |     5 |     42 |       3 |     0 |\n",
            "| Amorim              | Portugal     | midfielder |       5 |     1 |      7 |       0 |     0 |\n",
            "| Bruno Alves         | Portugal     | defender   |     360 |     1 |    166 |       5 |     0 |\n",
            "| Carvalho            | Portugal     | defender   |     360 |     2 |    173 |      11 |     0 |\n",
            "| Danny               | Portugal     | forward    |     176 |     1 |     62 |       7 |     0 |\n",
            "| Deco                | Portugal     | midfielder |      62 |     0 |     45 |       1 |     0 |\n",
            "| Duda                | Portugal     | defender   |      70 |     0 |     18 |       2 |     0 |\n",
            "| Eduardo             | Portugal     | goalkeeper |     360 |     0 |     51 |       0 |    17 |\n",
            "| Ferreira            | Portugal     | defender   |      90 |     0 |     37 |       1 |     0 |\n",
            "| Fabio Coentrao      | Portugal     | defender   |     360 |     1 |    152 |      13 |     0 |\n",
            "| Liedson             | Portugal     | forward    |     121 |     4 |     27 |       2 |     0 |\n",
            "| Meireles            | Portugal     | midfielder |     329 |     6 |    154 |       9 |     0 |\n",
            "| Mendes              | Portugal     | midfielder |     224 |     0 |    117 |       9 |     0 |\n",
            "| Miguel              | Portugal     | defender   |      90 |     1 |     52 |       2 |     0 |\n",
            "| Pepe                | Portugal     | midfielder |     136 |     1 |     43 |       3 |     0 |\n",
            "| Ricardo Costa       | Portugal     | defender   |     179 |     0 |     44 |       9 |     0 |\n",
            "| Ronaldo             | Portugal     | forward    |     360 |    18 |     91 |       3 |     0 |\n",
            "| Simao               | Portugal     | midfielder |     217 |     2 |     76 |       7 |     0 |\n",
            "| Tiago               | Portugal     | midfielder |     298 |     6 |    155 |      15 |     0 |\n",
            "| Veloso              | Portugal     | midfielder |      26 |     1 |     30 |       1 |     0 |\n",
            "| Ivanovic            | Serbia       | defender   |     270 |     3 |    115 |       2 |     0 |\n",
            "| Jovanovic           | Serbia       | midfielder |     245 |     4 |     65 |       2 |     0 |\n",
            "| Kacar               | Serbia       | midfielder |      20 |     1 |      7 |       1 |     0 |\n",
            "| Kolarov             | Serbia       | defender   |     180 |     2 |     46 |       8 |     0 |\n",
            "| Krasic              | Serbia       | midfielder |     242 |     3 |     60 |       2 |     0 |\n",
            "| Kuzmanovic          | Serbia       | midfielder |     180 |     4 |    103 |       1 |     0 |\n",
            "| Lazovic             | Serbia       | forward    |      44 |     1 |     14 |       0 |     0 |\n",
            "| Lukovic             | Serbia       | defender   |     164 |     1 |     98 |       6 |     0 |\n",
            "| Milijas             | Serbia       | midfielder |      62 |     0 |     35 |       3 |     0 |\n",
            "| Ninkovic            | Serbia       | midfielder |     160 |     1 |     91 |       2 |     0 |\n",
            "| Obradovic           | Serbia       | defender   |      90 |     1 |     42 |       2 |     0 |\n",
            "| Pantelic            | Serbia       | forward    |     113 |     3 |     24 |       1 |     0 |\n",
            "| Petrovic            | Serbia       | midfielder |      15 |     1 |      3 |       1 |     0 |\n",
            "| Stankovic           | Serbia       | midfielder |     270 |     3 |    165 |       5 |     0 |\n",
            "| Stojkovic           | Serbia       | goalkeeper |     270 |     0 |     52 |       0 |     7 |\n",
            "| Subotic             | Serbia       | defender   |     104 |     0 |     49 |       3 |     0 |\n",
            "| Tosic               | Serbia       | midfielder |      28 |     3 |      9 |       0 |     0 |\n",
            "| Vidic               | Serbia       | defender   |     270 |     2 |    158 |       7 |     0 |\n",
            "| Zigic               | Serbia       | forward    |     227 |     5 |     65 |       2 |     0 |\n",
            "| Cech                | Slovakia     | defender   |      90 |     0 |     35 |       2 |     0 |\n",
            "| Durica              | Slovakia     | defender   |     360 |     1 |    159 |       4 |     0 |\n",
            "| Hamsik              | Slovakia     | midfielder |     358 |     5 |    143 |       3 |     0 |\n",
            "| Holosko             | Slovakia     | forward    |      29 |     0 |     11 |       1 |     0 |\n",
            "| Jakubko             | Slovakia     | forward    |       2 |     0 |      1 |       0 |     0 |\n",
            "| Jendrisek           | Slovakia     | forward    |     250 |     3 |     55 |       4 |     0 |\n",
            "| Kopunek             | Slovakia     | midfielder |      22 |     1 |     17 |       0 |     0 |\n",
            "| Kozak               | Slovakia     | midfielder |      90 |     0 |     66 |       3 |     0 |\n",
            "| Kucka               | Slovakia     | midfielder |     181 |     4 |     71 |      10 |     0 |\n",
            "| Mucha               | Slovakia     | goalkeeper |     360 |     0 |     85 |       0 |    14 |\n",
            "| Pekaruek            | Slovakia     | defender   |     270 |     0 |     93 |       8 |     0 |\n",
            "| Petras              | Slovakia     | defender   |       1 |     0 |      0 |       0 |     0 |\n",
            "| Salata              | Slovakia     | defender   |      83 |     1 |     40 |       2 |     0 |\n",
            "| Sapara              | Slovakia     | midfielder |       2 |     0 |      5 |       0 |     0 |\n",
            "| Sestak              | Slovakia     | forward    |     152 |     3 |     27 |       1 |     0 |\n",
            "| Skrtel              | Slovakia     | defender   |     360 |     0 |    202 |       4 |     0 |\n",
            "| Stoch               | Slovakia     | midfielder |     193 |     2 |     76 |       1 |     0 |\n",
            "| Strba               | Slovakia     | midfielder |     267 |     2 |    137 |       5 |     0 |\n",
            "| Vittek              | Slovakia     | forward    |     353 |    10 |    118 |       0 |     0 |\n",
            "| Weiss               | Slovakia     | midfielder |     269 |     2 |     84 |       2 |     0 |\n",
            "| Zabavnuek           | Slovakia     | defender   |     268 |     1 |     94 |       8 |     0 |\n",
            "| Birsa               | Slovenia     | midfielder |     261 |     6 |     61 |       5 |     0 |\n",
            "| Brecko              | Slovenia     | defender   |     270 |     1 |     95 |       5 |     0 |\n",
            "| Cesar               | Slovenia     | defender   |     270 |     1 |     89 |       2 |     0 |\n",
            "| Dedic               | Slovenia     | forward    |      84 |     0 |     22 |       1 |     0 |\n",
            "| Handanovic          | Slovenia     | goalkeeper |     270 |     0 |     66 |       0 |    13 |\n",
            "| Jokic               | Slovenia     | defender   |     270 |     0 |    109 |      10 |     0 |\n",
            "| Kirm                | Slovenia     | midfielder |     259 |     1 |     88 |       4 |     0 |\n",
            "| Komac               | Slovenia     | midfielder |       4 |     0 |      3 |       1 |     0 |\n",
            "| Koren               | Slovenia     | midfielder |     270 |     3 |    162 |       3 |     0 |\n",
            "| Ljubijankic         | Slovenia     | forward    |     173 |     2 |     36 |       2 |     0 |\n",
            "| Matavz              | Slovenia     | forward    |      11 |     0 |      4 |       0 |     0 |\n",
            "| Novakovic           | Slovenia     | forward    |     270 |     2 |     68 |       1 |     0 |\n",
            "| Pecnik              | Slovenia     | forward    |      21 |     0 |      4 |       1 |     0 |\n",
            "| Radosavljevic       | Slovenia     | midfielder |     267 |     1 |    129 |       6 |     0 |\n",
            "| Suler               | Slovenia     | defender   |     270 |     0 |    102 |       5 |     0 |\n",
            "| Dikgacoi            | South Africa | midfielder |     180 |     2 |    108 |       4 |     0 |\n",
            "| Josephs             | South Africa | goalkeeper |     101 |     0 |     20 |       0 |     3 |\n",
            "| Khuboni             | South Africa | midfielder |      78 |     1 |     48 |       1 |     0 |\n",
            "| Khumalo             | South Africa | defender   |     270 |     2 |     74 |       4 |     0 |\n",
            "| Khune               | South Africa | goalkeeper |     166 |     1 |     24 |       0 |     4 |\n",
            "| Letsholonyane       | South Africa | midfielder |     147 |     0 |     89 |       6 |     0 |\n",
            "| Masilela            | South Africa | defender   |     225 |     0 |    107 |       6 |     0 |\n",
            "| Modise              | South Africa | midfielder |     192 |     5 |    111 |       4 |     0 |\n",
            "| Mokoena             | South Africa | defender   |     270 |     0 |     83 |       5 |     0 |\n",
            "| Moriri              | South Africa | midfielder |      33 |     0 |     22 |       0 |     0 |\n",
            "| Mphela              | South Africa | forward    |     270 |    10 |     60 |       2 |     0 |\n",
            "| Ngongca             | South Africa | defender   |      55 |     0 |     21 |       1 |     0 |\n",
            "| Nomvete             | South Africa | forward    |      22 |     0 |      5 |       1 |     0 |\n",
            "| Pa Gaxa             | South Africa | defender   |     215 |     1 |     95 |       2 |     0 |\n",
            "| Parker              | South Africa | forward    |      75 |     1 |     32 |       2 |     0 |\n",
            "| Pienaar             | South Africa | midfielder |     252 |     2 |    126 |       3 |     0 |\n",
            "| Sibaya              | South Africa | midfielder |      90 |     1 |     39 |       2 |     0 |\n",
            "| Thwala              | South Africa | defender   |      45 |     0 |     19 |       2 |     0 |\n",
            "| Tshabalala          | South Africa | midfielder |     270 |     9 |    135 |       8 |     0 |\n",
            "| Cha Du-Ri           | South Korea  | defender   |     270 |     2 |    105 |       3 |     0 |\n",
            "| Cho Yong-Hyung      | South Korea  | defender   |     360 |     0 |    111 |      10 |     0 |\n",
            "| Jung Sung-Ryong     | South Korea  | goalkeeper |     360 |     0 |     49 |       0 |    14 |\n",
            "| Ki Sung-Yong        | South Korea  | midfielder |     292 |     2 |    162 |       6 |     0 |\n",
            "| Kim Dong-Jin        | South Korea  | defender   |       1 |     0 |      0 |       0 |     0 |\n",
            "| Kim Jae-Sung        | South Korea  | midfielder |      65 |     0 |     37 |       0 |     0 |\n",
            "| Kim Jung-Woo        | South Korea  | midfielder |     360 |     4 |    184 |      10 |     0 |\n",
            "| Kim Nam-Il          | South Korea  | midfielder |      86 |     2 |     38 |       6 |     0 |\n",
            "| Lee Chung-Yong      | South Korea  | midfielder |     359 |     7 |    147 |      12 |     0 |\n",
            "| Lee Dong-Gook       | South Korea  | forward    |      38 |     1 |     14 |       0 |     0 |\n",
            "| Lee Jung-Soo        | South Korea  | defender   |     360 |     2 |    164 |       8 |     0 |\n",
            "| Lee Seung-Yeoul     | South Korea  | forward    |       3 |     0 |      0 |       0 |     0 |\n",
            "| Lee Young-Pyo       | South Korea  | defender   |     360 |     2 |    160 |       2 |     0 |\n",
            "| Oh Beom-Seok        | South Korea  | defender   |      90 |     1 |     34 |       3 |     0 |\n",
            "| Park Chu-Young      | South Korea  | forward    |     347 |    14 |     96 |       0 |     0 |\n",
            "| Park Ji-Sung        | South Korea  | midfielder |     360 |     5 |    127 |      13 |     0 |\n",
            "| Yeom Ki-Hun         | South Korea  | midfielder |     249 |     2 |     80 |       6 |     0 |\n",
            "| Alonso              | Spain        | midfielder |     506 |     9 |    465 |      18 |     0 |\n",
            "| Arbeloa             | Spain        | defender   |      13 |     0 |     12 |       0 |     0 |\n",
            "| Busquets            | Spain        | midfielder |     511 |     0 |    466 |      15 |     0 |\n",
            "| Capdevila           | Spain        | defender   |     540 |     1 |    310 |      10 |     0 |\n",
            "| Casillas            | Spain        | goalkeeper |     540 |     0 |     67 |       0 |    11 |\n",
            "| Fabregas            | Spain        | midfielder |      94 |     1 |    116 |       2 |     0 |\n",
            "| Iniesta             | Spain        | midfielder |     437 |     8 |    299 |      11 |     0 |\n",
            "| Javi Martuenez      | Spain        | midfielder |      17 |     0 |     17 |       0 |     0 |\n",
            "| Jesus Navas         | Spain        | midfielder |     118 |     4 |     61 |       1 |     0 |\n",
            "| Juan Mata           | Spain        | midfielder |      20 |     1 |     16 |       0 |     0 |\n",
            "| Llorente            | Spain        | forward    |      31 |     2 |     12 |       0 |     0 |\n",
            "| Marchena            | Spain        | defender   |       8 |     0 |      1 |       0 |     0 |\n",
            "| Pedro Rodriguez     | Spain        | midfielder |     116 |     5 |     80 |       0 |     0 |\n",
            "| Pique               | Spain        | defender   |     540 |     2 |    402 |      15 |     0 |\n",
            "| Puyol               | Spain        | defender   |     534 |     3 |    254 |       8 |     0 |\n",
            "| Ramos               | Spain        | defender   |     527 |     9 |    299 |       7 |     0 |\n",
            "| Silva               | Spain        | midfielder |      66 |     2 |     42 |       2 |     0 |\n",
            "| Torres              | Spain        | forward    |     278 |     9 |     50 |       0 |     0 |\n",
            "| Villa               | Spain        | forward    |     529 |    22 |    169 |       2 |     0 |\n",
            "| Xavi                | Spain        | midfielder |     515 |     4 |    563 |       6 |     0 |\n",
            "| Barnetta            | Switzerland  | midfielder |     227 |     3 |    104 |       5 |     0 |\n",
            "| Behrami             | Switzerland  | midfielder |      31 |     0 |      4 |       1 |     0 |\n",
            "| Benaglio            | Switzerland  | goalkeeper |     270 |     0 |     75 |       0 |    11 |\n",
            "| Bunjaku             | Switzerland  | forward    |      13 |     0 |      5 |       0 |     0 |\n",
            "| Derdiyok            | Switzerland  | forward    |     191 |     4 |     47 |       1 |     0 |\n",
            "| Eggimann            | Switzerland  | defender   |       1 |     0 |      0 |       0 |     0 |\n",
            "| Fernandes           | Switzerland  | midfielder |     212 |     1 |     56 |       7 |     0 |\n",
            "| Frei                | Switzerland  | forward    |      63 |     2 |     11 |       0 |     0 |\n",
            "| Grichting           | Switzerland  | defender   |     270 |     1 |     82 |       6 |     0 |\n",
            "| Huggel              | Switzerland  | midfielder |     258 |     0 |     87 |       8 |     0 |\n",
            "| Inler               | Switzerland  | midfielder |     270 |     2 |    138 |       6 |     0 |\n",
            "| Lichtsteiner        | Switzerland  | defender   |     270 |     2 |     80 |      10 |     0 |\n",
            "| Nkufo               | Switzerland  | forward    |     227 |     2 |     65 |       2 |     0 |\n",
            "| Senderos            | Switzerland  | defender   |      36 |     0 |      9 |       1 |     0 |\n",
            "| Shaqiri             | Switzerland  | midfielder |      12 |     0 |      9 |       0 |     0 |\n",
            "| Yakin               | Switzerland  | midfielder |      56 |     3 |     26 |       0 |     0 |\n",
            "| Ziegler             | Switzerland  | defender   |     270 |     1 |     71 |       9 |     0 |\n",
            "| von Bergen          | Switzerland  | defender   |     234 |     0 |     79 |       3 |     0 |\n",
            "| Abreu               | Uruguay      | forward    |      72 |     0 |     15 |       0 |     0 |\n",
            "| Arevalo Rios        | Uruguay      | midfielder |     570 |     5 |    195 |      21 |     0 |\n",
            "| Cavani              | Uruguay      | forward    |     435 |     9 |    151 |      11 |     0 |\n",
            "| Caceres             | Uruguay      | defender   |      90 |     0 |     32 |       4 |     0 |\n",
            "| Eguren              | Uruguay      | midfielder |       2 |     0 |      1 |       0 |     0 |\n",
            "| Fernandez           | Uruguay      | midfielder |      75 |     1 |     17 |       3 |     0 |\n",
            "| Fernandez           | Uruguay      | forward    |       7 |     0 |      5 |       0 |     0 |\n",
            "| Forlan              | Uruguay      | forward    |     564 |    18 |    202 |       0 |     0 |\n",
            "| Fucile              | Uruguay      | defender   |     371 |     2 |    115 |      14 |     0 |\n",
            "| Gargano             | Uruguay      | midfielder |      91 |     0 |     44 |       1 |     0 |\n",
            "| Goduen              | Uruguay      | defender   |     315 |     1 |    120 |       9 |     0 |\n",
            "| Gonzalez            | Uruguay      | midfielder |      63 |     0 |     34 |       2 |     0 |\n",
            "| Lodeiro             | Uruguay      | midfielder |     109 |     0 |     37 |       1 |     0 |\n",
            "| Lugano              | Uruguay      | defender   |     398 |     2 |     67 |       6 |     0 |\n",
            "| Maxi Pereira        | Uruguay      | midfielder |     570 |     5 |    182 |      15 |     0 |\n",
            "| Muslera             | Uruguay      | goalkeeper |     570 |     0 |     75 |       0 |    16 |\n",
            "| Perez               | Uruguay      | midfielder |     567 |     2 |    252 |      34 |     0 |\n",
            "| Scotti              | Uruguay      | defender   |      95 |     0 |     22 |       5 |     0 |\n",
            "| Suarez              | Uruguay      | forward    |     452 |    19 |    127 |       4 |     0 |\n",
            "| Victorino           | Uruguay      | defender   |     435 |     0 |    141 |       7 |     0 |\n",
            "| Alvaro Pereira      | Uruguay      | midfielder |     409 |     6 |    140 |      17 |     0 |\n",
            "| Beasley             | USA          | midfielder |      10 |     0 |      4 |       0 |     0 |\n",
            "| Bocanegra           | USA          | defender   |     390 |     1 |    130 |       9 |     0 |\n",
            "| Bornstein           | USA          | defender   |     200 |     2 |     72 |       5 |     0 |\n",
            "| Bradley             | USA          | midfielder |     390 |     6 |    210 |       9 |     0 |\n",
            "| Buddle              | USA          | forward    |      39 |     1 |     12 |       0 |     0 |\n",
            "| Cherundolo          | USA          | defender   |     390 |     1 |    180 |      10 |     0 |\n",
            "| Clark               | USA          | midfielder |     121 |     0 |     42 |       4 |     0 |\n",
            "| Demerit             | USA          | defender   |     390 |     2 |    129 |       7 |     0 |\n",
            "| Dempsey             | USA          | midfielder |     390 |    15 |    137 |       6 |     0 |\n",
            "| Donovan             | USA          | forward    |     390 |     7 |    165 |       9 |     0 |\n",
            "| Edu                 | USA          | midfielder |     198 |     2 |    116 |       4 |     0 |\n",
            "| Feilhaber           | USA          | midfielder |     165 |     3 |     71 |       5 |     0 |\n",
            "| Findley             | USA          | forward    |     167 |     1 |     40 |       0 |     0 |\n",
            "| Gomez               | USA          | forward    |      85 |     4 |     18 |       0 |     0 |\n",
            "| Holden              | USA          | midfielder |       4 |     0 |      2 |       0 |     0 |\n",
            "| Howard              | USA          | goalkeeper |     390 |     0 |     81 |       0 |    14 |\n",
            "| Jozy Altidore       | USA          | forward    |     356 |     8 |     84 |       2 |     0 |\n",
            "| Onyewu              | USA          | defender   |     170 |     1 |     69 |       2 |     0 |\n",
            "| Torres              | USA          | midfielder |      45 |     1 |     32 |       0 |     0 |\n",
            "+---------------------+--------------+------------+---------+-------+--------+---------+-------+\n"
          ]
        }
      ],
      "source": [
        "!bash Players.sh\n",
        "!mysql -D \"aNewDB\" -e \"SELECT * FROM Players\""
      ]
    },
    {
      "cell_type": "code",
      "execution_count": null,
      "metadata": {
        "id": "WUNMLhgW6ukU"
      },
      "outputs": [],
      "source": [
        "!mysql -D \"aNewDB\" -e \"create table Teams (team varchar(50),ranking smallint unsigned,games smallint unsigned,wins smallint unsigned, draws smallint unsigned, losses smallint unsigned,goalsFor smallint unsigned,goalsAgainst smallint unsigned,yellowCards smallint unsigned,redCards smallint unsigned)\""
      ]
    },
    {
      "cell_type": "code",
      "execution_count": null,
      "metadata": {
        "id": "dirz6gAHztOO",
        "colab": {
          "base_uri": "https://localhost:8080/"
        },
        "outputId": "af0bc285-174d-4532-9672-9c247f762c31"
      },
      "outputs": [
        {
          "output_type": "stream",
          "name": "stdout",
          "text": [
            "Writing Teams.sh\n"
          ]
        }
      ],
      "source": [
        "%%writefile Teams.sh\n",
        "\n",
        "#!/bin/bash\n",
        "\n",
        "cat Teams.csv | awk 'NR>1' | while read line\n",
        "do \n",
        "  team=$(echo ${line} | cut -d , -f 1) \n",
        "  ranking=$(echo ${line} | cut -d , -f 2)\n",
        "  games=$(echo ${line} | cut -d , -f 3)\n",
        "  wins=$(echo ${line} | cut -d , -f 4)\n",
        "  draws=$(echo ${line} | cut -d , -f 5)\n",
        "  losses=$(echo ${line} | cut -d , -f 6)\n",
        "  goalsFor=$(echo ${line} | cut -d , -f 7)\n",
        "  goalsAgainst=$(echo ${line} | cut -d , -f 8)\n",
        "  yellowCards=$(echo ${line} | cut -d , -f 9)\n",
        "  redCards=$(echo ${line} | cut -d , -f 10)\n",
        "  mysql -D \"aNewDB\" -e \"insert into Teams values('$team', $ranking, $games, $wins, $draws, $losses, $goalsFor, $goalsAgainst, $yellowCards, $redCards)\"\n",
        "done "
      ]
    },
    {
      "cell_type": "code",
      "execution_count": null,
      "metadata": {
        "colab": {
          "base_uri": "https://localhost:8080/"
        },
        "id": "8FMXk-GyVDHy",
        "outputId": "6ec64546-fde9-4073-cb8a-ee5d5c6fd5b4"
      },
      "outputs": [
        {
          "output_type": "stream",
          "name": "stdout",
          "text": [
            "+--------------+---------+-------+------+-------+--------+----------+--------------+-------------+----------+\n",
            "| team         | ranking | games | wins | draws | losses | goalsFor | goalsAgainst | yellowCards | redCards |\n",
            "+--------------+---------+-------+------+-------+--------+----------+--------------+-------------+----------+\n",
            "| Brazil       |       1 |     5 |    3 |     1 |      1 |        9 |            4 |           7 |        2 |\n",
            "| Spain        |       2 |     6 |    5 |     0 |      1 |        7 |            2 |           3 |        0 |\n",
            "| Portugal     |       3 |     4 |    1 |     2 |      1 |        7 |            1 |           8 |        1 |\n",
            "| Netherlands  |       4 |     6 |    6 |     0 |      0 |       12 |            5 |          15 |        0 |\n",
            "| Italy        |       5 |     3 |    0 |     2 |      1 |        4 |            5 |           5 |        0 |\n",
            "| Germany      |       6 |     6 |    4 |     0 |      2 |       13 |            3 |           8 |        1 |\n",
            "| Argentina    |       7 |     5 |    4 |     0 |      1 |       10 |            6 |           7 |        0 |\n",
            "| England      |       8 |     4 |    1 |     2 |      1 |        3 |            5 |           6 |        0 |\n",
            "| France       |       9 |     3 |    0 |     1 |      2 |        1 |            4 |           6 |        1 |\n",
            "| Greece       |      13 |     3 |    1 |     0 |      2 |        2 |            5 |           5 |        0 |\n",
            "| USA          |      14 |     4 |    1 |     2 |      1 |        5 |            5 |           9 |        0 |\n",
            "| Serbia       |      15 |     3 |    1 |     0 |      2 |        2 |            3 |           8 |        1 |\n",
            "| Uruguay      |      16 |     6 |    3 |     2 |      1 |        9 |            5 |           8 |        2 |\n",
            "| Mexico       |      17 |     4 |    1 |     1 |      2 |        4 |            5 |           9 |        0 |\n",
            "| Chile        |      18 |     4 |    2 |     0 |      2 |        3 |            5 |          13 |        1 |\n",
            "| Cameroon     |      19 |     3 |    0 |     0 |      3 |        2 |            5 |           5 |        0 |\n",
            "| Australia    |      20 |     3 |    1 |     1 |      1 |        3 |            6 |           7 |        2 |\n",
            "| Nigeria      |      21 |     3 |    0 |     1 |      2 |        3 |            5 |           5 |        1 |\n",
            "| Switzerland  |      24 |     3 |    1 |     1 |      1 |        1 |            1 |           8 |        1 |\n",
            "| Slovenia     |      25 |     3 |    1 |     1 |      1 |        3 |            3 |           9 |        0 |\n",
            "| Ivory Coast  |      27 |     3 |    1 |     1 |      1 |        4 |            3 |           5 |        0 |\n",
            "| Algeria      |      30 |     3 |    0 |     1 |      2 |        0 |            2 |           4 |        2 |\n",
            "| Paraguay     |      31 |     5 |    1 |     3 |      1 |        3 |            2 |           9 |        0 |\n",
            "| Ghana        |      32 |     5 |    2 |     2 |      1 |        5 |            4 |          11 |        0 |\n",
            "| Slovakia     |      34 |     4 |    1 |     1 |      2 |        5 |            7 |          11 |        0 |\n",
            "| Denmark      |      36 |     3 |    1 |     0 |      2 |        3 |            6 |           6 |        0 |\n",
            "| Honduras     |      38 |     3 |    0 |     1 |      2 |        0 |            3 |           7 |        0 |\n",
            "| Japan        |      45 |     4 |    2 |     1 |      1 |        4 |            2 |           7 |        0 |\n",
            "| South Korea  |      47 |     4 |    1 |     1 |      2 |        6 |            8 |           6 |        0 |\n",
            "| New Zealand  |      78 |     3 |    0 |     3 |      0 |        2 |            2 |           6 |        0 |\n",
            "| South Africa |      83 |     3 |    1 |     1 |      1 |        3 |            5 |           4 |        1 |\n",
            "| North Korea  |     105 |     3 |    0 |     0 |      3 |        1 |           12 |           2 |        0 |\n",
            "+--------------+---------+-------+------+-------+--------+----------+--------------+-------------+----------+\n"
          ]
        }
      ],
      "source": [
        "!bash Teams.sh\n",
        "!mysql -D \"aNewDB\" -e \"select * from Teams\""
      ]
    },
    {
      "cell_type": "code",
      "execution_count": null,
      "metadata": {
        "colab": {
          "base_uri": "https://localhost:8080/"
        },
        "id": "3fmKNGLiW5Z1",
        "outputId": "51e21149-4cb0-4d2f-a839-980c0b3529e8"
      },
      "outputs": [
        {
          "output_type": "stream",
          "name": "stdout",
          "text": [
            "+------------+\n",
            "| surname    |\n",
            "+------------+\n",
            "| Kuzmanovic |\n",
            "+------------+\n"
          ]
        }
      ],
      "source": [
        "!mysql -D \"aNewDB\" -e \"select surname from Players where team like '%ia%' and minutes < 200 and passes > 100\""
      ]
    },
    {
      "cell_type": "code",
      "execution_count": null,
      "metadata": {
        "colab": {
          "base_uri": "https://localhost:8080/"
        },
        "id": "JAsIar79o0Qa",
        "outputId": "bb17d0dc-c27f-46de-c53d-30572ddfa838"
      },
      "outputs": [
        {
          "output_type": "stream",
          "name": "stdout",
          "text": [
            "+---------+-----------+----------+---------+-------+--------+---------+-------+\n",
            "| surname | team      | position | minutes | shots | passes | tackles | saves |\n",
            "+---------+-----------+----------+---------+-------+--------+---------+-------+\n",
            "| Gyan    | Ghana     | forward  |     501 |    27 |    151 |       1 |     0 |\n",
            "| Villa   | Spain     | forward  |     529 |    22 |    169 |       2 |     0 |\n",
            "| Messi   | Argentina | forward  |     450 |    21 |    321 |      10 |     0 |\n",
            "+---------+-----------+----------+---------+-------+--------+---------+-------+\n"
          ]
        }
      ],
      "source": [
        "!mysql -D \"aNewDB\" -e \"select * from Players where shots > 20 order by shots desc\""
      ]
    },
    {
      "cell_type": "code",
      "execution_count": null,
      "metadata": {
        "colab": {
          "base_uri": "https://localhost:8080/"
        },
        "id": "LLHcQyu-pa_h",
        "outputId": "2e994557-5365-4339-de5d-ea755812fd08"
      },
      "outputs": [
        {
          "output_type": "stream",
          "name": "stdout",
          "text": [
            "+--------------+-------------+---------+\n",
            "| surname      | team        | minutes |\n",
            "+--------------+-------------+---------+\n",
            "| Romero       | Argentina   |     450 |\n",
            "| Julio Cesar  | Brazil      |     450 |\n",
            "| Neuer        | Germany     |     540 |\n",
            "| Kingson      | Ghana       |     510 |\n",
            "| Stekelenburg | Netherlands |     540 |\n",
            "| Villar       | Paraguay    |     480 |\n",
            "| Casillas     | Spain       |     540 |\n",
            "| Muslera      | Uruguay     |     570 |\n",
            "+--------------+-------------+---------+\n"
          ]
        }
      ],
      "source": [
        "!mysql -D \"aNewDB\" -e \"select Players.surname,Players.team,Players.minutes from Players join Teams where Players.team=Teams.team and games>4 and position='goalkeeper'\""
      ]
    },
    {
      "cell_type": "code",
      "execution_count": null,
      "metadata": {
        "colab": {
          "base_uri": "https://localhost:8080/"
        },
        "id": "tlFqpJfVtQLv",
        "outputId": "75c01405-3555-4e34-b99f-85ebd5e287d6"
      },
      "outputs": [
        {
          "output_type": "stream",
          "name": "stdout",
          "text": [
            "+-----------+\n",
            "| superstar |\n",
            "+-----------+\n",
            "|        54 |\n",
            "+-----------+\n"
          ]
        }
      ],
      "source": [
        "!mysql -D \"aNewDB\" -e \"select count(*) as superstar from Players join Teams where Players.team=Teams.team and ranking<10 and minutes>350\""
      ]
    },
    {
      "cell_type": "code",
      "execution_count": null,
      "metadata": {
        "colab": {
          "base_uri": "https://localhost:8080/"
        },
        "id": "D5wGbnGGuqSY",
        "outputId": "9411f65b-2cc6-4883-9ce9-7aa6459ce518"
      },
      "outputs": [
        {
          "output_type": "stream",
          "name": "stdout",
          "text": [
            "+-------------+----------------+\n",
            "| avgForwards | avgMidfielders |\n",
            "+-------------+----------------+\n",
            "|     50.8252 |        95.2719 |\n",
            "+-------------+----------------+\n"
          ]
        }
      ],
      "source": [
        "!mysql -D \"aNewDB\" -e \"select (select avg(passes) from Players where position='forward') as avgForwards,(select avg(passes) from Players where position='midfielder') as avgMidfielders\""
      ]
    },
    {
      "cell_type": "code",
      "execution_count": null,
      "metadata": {
        "colab": {
          "base_uri": "https://localhost:8080/"
        },
        "id": "uBtzFB9_4Oas",
        "outputId": "fde01eb0-2f3f-435e-b496-a3b694fcf135"
      },
      "outputs": [
        {
          "output_type": "stream",
          "name": "stdout",
          "text": [
            "+----------+--------+\n",
            "| team     | Ratio  |\n",
            "+----------+--------+\n",
            "| Portugal | 7.0000 |\n",
            "+----------+--------+\n"
          ]
        }
      ],
      "source": [
        "!mysql -D \"aNewDB\" -e \"select team,(goalsFor/goalsAgainst) as Ratio from Teams order by Ratio desc limit 1\""
      ]
    },
    {
      "cell_type": "code",
      "execution_count": null,
      "metadata": {
        "colab": {
          "base_uri": "https://localhost:8080/"
        },
        "id": "BruFEPGS6Cna",
        "outputId": "7f259209-fbba-4009-d7f3-a83119040186"
      },
      "outputs": [
        {
          "output_type": "stream",
          "name": "stdout",
          "text": [
            "+-------------+-----------+\n",
            "| team        | avgPasses |\n",
            "+-------------+-----------+\n",
            "| Spain       |  213.0000 |\n",
            "| Brazil      |  190.0000 |\n",
            "| Germany     |  189.8333 |\n",
            "| Netherlands |  182.5000 |\n",
            "| Mexico      |  152.1429 |\n",
            "+-------------+-----------+\n"
          ]
        }
      ],
      "source": [
        "!mysql -D \"aNewDB\" -e \"select team,avg(passes) as avgPasses from Players where position='defender' group by team having avg(passes)>150 order by avgPasses desc\""
      ]
    },
    {
      "cell_type": "code",
      "execution_count": null,
      "metadata": {
        "colab": {
          "base_uri": "https://localhost:8080/"
        },
        "id": "fyicfSuqiROh",
        "outputId": "7a0de2b6-dfee-431d-e546-7cfcd236e5b2"
      },
      "outputs": [
        {
          "output_type": "stream",
          "name": "stdout",
          "text": [
            "Preconfiguring packages ...\n",
            "Selecting previously unselected package ncurses-term.\n",
            "(Reading database ... 124522 files and directories currently installed.)\n",
            "Preparing to unpack .../00-ncurses-term_6.1-1ubuntu1.18.04_all.deb ...\n",
            "Unpacking ncurses-term (6.1-1ubuntu1.18.04) ...\n",
            "Selecting previously unselected package openssh-sftp-server.\n",
            "Preparing to unpack .../01-openssh-sftp-server_1%3a7.6p1-4ubuntu0.7_amd64.deb ...\n",
            "Unpacking openssh-sftp-server (1:7.6p1-4ubuntu0.7) ...\n",
            "Selecting previously unselected package openssh-server.\n",
            "Preparing to unpack .../02-openssh-server_1%3a7.6p1-4ubuntu0.7_amd64.deb ...\n",
            "Unpacking openssh-server (1:7.6p1-4ubuntu0.7) ...\n",
            "Selecting previously unselected package python3-certifi.\n",
            "Preparing to unpack .../03-python3-certifi_2018.1.18-2_all.deb ...\n",
            "Unpacking python3-certifi (2018.1.18-2) ...\n",
            "Selecting previously unselected package python3-pkg-resources.\n",
            "Preparing to unpack .../04-python3-pkg-resources_39.0.1-2_all.deb ...\n",
            "Unpacking python3-pkg-resources (39.0.1-2) ...\n",
            "Selecting previously unselected package python3-chardet.\n",
            "Preparing to unpack .../05-python3-chardet_3.0.4-1_all.deb ...\n",
            "Unpacking python3-chardet (3.0.4-1) ...\n",
            "Selecting previously unselected package python3-idna.\n",
            "Preparing to unpack .../06-python3-idna_2.6-1_all.deb ...\n",
            "Unpacking python3-idna (2.6-1) ...\n",
            "Selecting previously unselected package python3-six.\n",
            "Preparing to unpack .../07-python3-six_1.11.0-2_all.deb ...\n",
            "Unpacking python3-six (1.11.0-2) ...\n",
            "Selecting previously unselected package python3-urllib3.\n",
            "Preparing to unpack .../08-python3-urllib3_1.22-1ubuntu0.18.04.2_all.deb ...\n",
            "Unpacking python3-urllib3 (1.22-1ubuntu0.18.04.2) ...\n",
            "Selecting previously unselected package python3-requests.\n",
            "Preparing to unpack .../09-python3-requests_2.18.4-2ubuntu0.1_all.deb ...\n",
            "Unpacking python3-requests (2.18.4-2ubuntu0.1) ...\n",
            "Selecting previously unselected package ssh-import-id.\n",
            "Preparing to unpack .../10-ssh-import-id_5.7-0ubuntu1.1_all.deb ...\n",
            "Unpacking ssh-import-id (5.7-0ubuntu1.1) ...\n",
            "Setting up ncurses-term (6.1-1ubuntu1.18.04) ...\n",
            "Setting up python3-idna (2.6-1) ...\n",
            "/usr/lib/python3.8/subprocess.py:842: RuntimeWarning: line buffering (buffering=1) isn't supported in binary mode, the default buffer size will be used\n",
            "  self.stdin = io.open(p2cwrite, 'wb', bufsize)\n",
            "Setting up python3-six (1.11.0-2) ...\n",
            "/usr/lib/python3.8/subprocess.py:842: RuntimeWarning: line buffering (buffering=1) isn't supported in binary mode, the default buffer size will be used\n",
            "  self.stdin = io.open(p2cwrite, 'wb', bufsize)\n",
            "Setting up python3-certifi (2018.1.18-2) ...\n",
            "/usr/lib/python3.8/subprocess.py:842: RuntimeWarning: line buffering (buffering=1) isn't supported in binary mode, the default buffer size will be used\n",
            "  self.stdin = io.open(p2cwrite, 'wb', bufsize)\n",
            "Setting up python3-pkg-resources (39.0.1-2) ...\n",
            "/usr/lib/python3.8/subprocess.py:842: RuntimeWarning: line buffering (buffering=1) isn't supported in binary mode, the default buffer size will be used\n",
            "  self.stdin = io.open(p2cwrite, 'wb', bufsize)\n",
            "Setting up openssh-sftp-server (1:7.6p1-4ubuntu0.7) ...\n",
            "Setting up python3-chardet (3.0.4-1) ...\n",
            "/usr/lib/python3.8/subprocess.py:842: RuntimeWarning: line buffering (buffering=1) isn't supported in binary mode, the default buffer size will be used\n",
            "  self.stdin = io.open(p2cwrite, 'wb', bufsize)\n",
            "Setting up python3-urllib3 (1.22-1ubuntu0.18.04.2) ...\n",
            "/usr/lib/python3.8/subprocess.py:842: RuntimeWarning: line buffering (buffering=1) isn't supported in binary mode, the default buffer size will be used\n",
            "  self.stdin = io.open(p2cwrite, 'wb', bufsize)\n",
            "Setting up openssh-server (1:7.6p1-4ubuntu0.7) ...\n",
            "\n",
            "Creating config file /etc/ssh/sshd_config with new version\n",
            "Creating SSH2 RSA key; this may take some time ...\n",
            "2048 SHA256:jiZJ+j/p/gK+a+PDvtsTLrgFOCyN2bBiOvkEF5XqGI8 root@fb842b25c2b2 (RSA)\n",
            "Creating SSH2 ECDSA key; this may take some time ...\n",
            "256 SHA256:4h0sQ7GXFeH8MJXQr1UfjKByox2D+Iwo3NLAYnROJpA root@fb842b25c2b2 (ECDSA)\n",
            "Creating SSH2 ED25519 key; this may take some time ...\n",
            "256 SHA256:rndEad5F49EmHiHpmUEVQp64N+7LqlT6yQfyipsZcLE root@fb842b25c2b2 (ED25519)\n",
            "Created symlink /etc/systemd/system/sshd.service → /lib/systemd/system/ssh.service.\n",
            "Created symlink /etc/systemd/system/multi-user.target.wants/ssh.service → /lib/systemd/system/ssh.service.\n",
            "invoke-rc.d: could not determine current runlevel\n",
            "invoke-rc.d: policy-rc.d denied execution of start.\n",
            "Setting up python3-requests (2.18.4-2ubuntu0.1) ...\n",
            "/usr/lib/python3.8/subprocess.py:842: RuntimeWarning: line buffering (buffering=1) isn't supported in binary mode, the default buffer size will be used\n",
            "  self.stdin = io.open(p2cwrite, 'wb', bufsize)\n",
            "Setting up ssh-import-id (5.7-0ubuntu1.1) ...\n",
            "/usr/lib/python3.8/subprocess.py:842: RuntimeWarning: line buffering (buffering=1) isn't supported in binary mode, the default buffer size will be used\n",
            "  self.stdin = io.open(p2cwrite, 'wb', bufsize)\n",
            "Processing triggers for man-db (2.8.3-2ubuntu0.1) ...\n",
            "Processing triggers for systemd (237-3ubuntu10.56) ...\n"
          ]
        }
      ],
      "source": [
        "!apt-get install openssh-server -qq"
      ]
    },
    {
      "cell_type": "code",
      "execution_count": null,
      "metadata": {
        "colab": {
          "base_uri": "https://localhost:8080/"
        },
        "id": "BRN3huEoiuk_",
        "outputId": "6d8e7ec4-22dd-4b57-a3e3-a25663bce1d0"
      },
      "outputs": [
        {
          "output_type": "stream",
          "name": "stdout",
          "text": [
            " * Starting OpenBSD Secure Shell server sshd\n",
            "   ...done.\n"
          ]
        }
      ],
      "source": [
        "!service ssh start"
      ]
    },
    {
      "cell_type": "code",
      "execution_count": null,
      "metadata": {
        "colab": {
          "base_uri": "https://localhost:8080/"
        },
        "id": "udj0y75Ri1QX",
        "outputId": "57aec9a4-12ee-437b-836d-76f4f84a4add"
      },
      "outputs": [
        {
          "output_type": "stream",
          "name": "stdout",
          "text": [
            "Generating public/private rsa key pair.\n",
            "Created directory '/root/.ssh'.\n",
            "Your identification has been saved in /root/.ssh/id_rsa.\n",
            "Your public key has been saved in /root/.ssh/id_rsa.pub.\n",
            "The key fingerprint is:\n",
            "SHA256:Lz36DpdD/WuyrEdk6ijUpi//Wuoa8pTpCweNVxkUIZg root@fb842b25c2b2\n",
            "The key's randomart image is:\n",
            "+---[RSA 2048]----+\n",
            "|     o..=o       |\n",
            "|    E  . o       |\n",
            "|        o        |\n",
            "|     o .   .o    |\n",
            "|    o o.S .+.    |\n",
            "|     o.oo+....   |\n",
            "|    o.*oooO.  .  |\n",
            "|     B+..B.+o .. |\n",
            "|      =OB==oo+.  |\n",
            "+----[SHA256]-----+\n"
          ]
        }
      ],
      "source": [
        "!ssh-keygen -t rsa -P \"\" -f ~/.ssh/id_rsa"
      ]
    },
    {
      "cell_type": "code",
      "execution_count": null,
      "metadata": {
        "id": "5fCMaFbBi6ke"
      },
      "outputs": [],
      "source": [
        "!cat $HOME/.ssh/id_rsa.pub>>$HOME/.ssh/authorized_keys"
      ]
    },
    {
      "cell_type": "code",
      "execution_count": null,
      "metadata": {
        "id": "lknkkx5Mi-32"
      },
      "outputs": [],
      "source": [
        "!chmod 0600 ~/.ssh/authorized_keys"
      ]
    },
    {
      "cell_type": "code",
      "execution_count": null,
      "metadata": {
        "colab": {
          "base_uri": "https://localhost:8080/"
        },
        "id": "sEDGyW6sjB8e",
        "outputId": "06311255-96a2-4338-faea-81da516f536d"
      },
      "outputs": [
        {
          "output_type": "stream",
          "name": "stdout",
          "text": [
            "Warning: Permanently added 'localhost' (ECDSA) to the list of known hosts.\r\n",
            " 01:37:05 up 4 min,  0 users,  load average: 0.47, 0.43, 0.21\n"
          ]
        }
      ],
      "source": [
        "!ssh -o StrictHostKeyChecking=no localhost uptime"
      ]
    },
    {
      "cell_type": "code",
      "execution_count": null,
      "metadata": {
        "id": "xOxu_Vz4jJhO"
      },
      "outputs": [],
      "source": [
        "import os"
      ]
    },
    {
      "cell_type": "code",
      "execution_count": null,
      "metadata": {
        "colab": {
          "base_uri": "https://localhost:8080/"
        },
        "id": "3Vh_fqbmjLxt",
        "outputId": "950c6c83-4f80-4008-e1d6-4787d3948d43"
      },
      "outputs": [
        {
          "output_type": "stream",
          "name": "stdout",
          "text": [
            "--2022-12-03 01:37:08--  https://dlcdn.apache.org/hadoop/common/hadoop-3.3.3/hadoop-3.3.3.tar.gz\n",
            "Resolving dlcdn.apache.org (dlcdn.apache.org)... 151.101.2.132, 2a04:4e42::644\n",
            "Connecting to dlcdn.apache.org (dlcdn.apache.org)|151.101.2.132|:443... connected.\n",
            "HTTP request sent, awaiting response... 200 OK\n",
            "Length: 645040598 (615M) [application/x-gzip]\n",
            "Saving to: ‘hadoop-3.3.3.tar.gz’\n",
            "\n",
            "hadoop-3.3.3.tar.gz 100%[===================>] 615.16M   289MB/s    in 2.1s    \n",
            "\n",
            "2022-12-03 01:37:10 (289 MB/s) - ‘hadoop-3.3.3.tar.gz’ saved [645040598/645040598]\n",
            "\n"
          ]
        }
      ],
      "source": [
        "!if [ ! -d /usr/local/hadoop-3.3.3/ ]; then \\\n",
        "wget https://dlcdn.apache.org/hadoop/common/hadoop-3.3.3/hadoop-3.3.3.tar.gz; \\\n",
        "tar -xzf hadoop-3.3.3.tar.gz; \\\n",
        "cp -r hadoop-3.3.3/ /usr/local/; \\\n",
        "rm -rf hadoop-3.3.3/; \\\n",
        "rm hadoop-3.3.3.tar.gz; \\\n",
        "echo \"export JAVA_HOME=$(dirname $(dirname $(realpath $(which java))))\" >> /usr/local/hadoop-3.3.3/etc/hadoop/hadoop-env.sh; \\\n",
        "fi"
      ]
    },
    {
      "cell_type": "code",
      "execution_count": null,
      "metadata": {
        "id": "UlI0EqIhjXg4"
      },
      "outputs": [],
      "source": [
        "os.environ['PATH'] = \"/usr/local/hadoop-3.3.3/bin/:\" + os.environ['PATH']\n",
        "os.environ[\"HADOOP_HOME\"] = \"/usr/local/hadoop-3.3.3\""
      ]
    },
    {
      "cell_type": "code",
      "execution_count": null,
      "metadata": {
        "colab": {
          "base_uri": "https://localhost:8080/"
        },
        "id": "i0bpk48FVG3E",
        "outputId": "31fac0c8-6544-4fe9-be4f-4f639e662408"
      },
      "outputs": [
        {
          "output_type": "stream",
          "name": "stdout",
          "text": [
            "Writing configure.sh\n"
          ]
        }
      ],
      "source": [
        "%%writefile configure.sh\n",
        "\n",
        "#!/bin/bash\n",
        "\n",
        "# Config for core-site.xml\n",
        "sed -i '/<configuration>/a\\\n",
        "  <property>\\n\\\n",
        "    <name>fs.defaultFS</name>\\n\\\n",
        "    <value>hdfs://localhost:9000</value>\\n\\\n",
        "  </property>' \\\n",
        "$HADOOP_HOME/etc/hadoop/core-site.xml\n",
        "\n",
        "# Config for hdfs-site.xml \n",
        "# Since we are running Hadoop in only one machine, a replication factor >1 does not make sense \n",
        "sed -i '/<configuration>/a\\\n",
        "  <property>\\n\\\n",
        "    <name>dfs.replication</name>\\n\\\n",
        "    <value>1</value>\\n\\\n",
        "  </property>' \\\n",
        "$HADOOP_HOME/etc/hadoop/hdfs-site.xml\n",
        "\n",
        "# Config for mapred-site.xml \n",
        "sed -i '/<configuration>/a\\\n",
        "  <property>\\n\\\n",
        "    <name>mapreduce.framework.name</name>\\n\\\n",
        "    <value>yarn</value>\\n\\\n",
        "  </property>\\n\\\n",
        "  <property>\\n\\\n",
        "    <name>mapreduce.application.classpath</name>\\n\\\n",
        "    <value>$HADOOP_MAPRED_HOME/share/hadoop/mapreduce/*:$HADOOP_MAPRED_HOME/share/hadoop/mapreduce/lib/*</value>\\n\\\n",
        "  </property>' \\\n",
        "$HADOOP_HOME/etc/hadoop/mapred-site.xml\n",
        "\n",
        "# Config for yarn-site.xml\n",
        "sed -i '/<configuration>/a\\\n",
        "  <property>\\n\\\n",
        "    <description>The hostname of the RM.</description>\\n\\\n",
        "    <name>yarn.resourcemanager.hostname</name>\\n\\\n",
        "    <value>localhost</value>\\n\\\n",
        "  </property>\\n\\\n",
        "  <property>\\n\\\n",
        "    <name>yarn.nodemanager.aux-services</name>\\n\\\n",
        "    <value>mapreduce_shuffle</value>\\n\\\n",
        "  </property>\\n\\\n",
        "  <property>\\n\\\n",
        "    <name>yarn.nodemanager.env-whitelist</name>\\n\\\n",
        "    <value>JAVA_HOME,HADOOP_COMMON_HOME,HADOOP_HDFS_HOME,HADOOP_CONF_DIR,CLASSPATH_PREPEND_DISTCACHE,HADOOP_YARN_HOME,HADOOP_HOME,PATH,LANG,TZ,HADOOP_MAPRED_HOME</value>\\n\\\n",
        "  </property>' \\\n",
        "$HADOOP_HOME/etc/hadoop/yarn-site.xml"
      ]
    },
    {
      "cell_type": "code",
      "execution_count": null,
      "metadata": {
        "id": "RJfZOV7UjnQX"
      },
      "outputs": [],
      "source": [
        "!bash configure.sh"
      ]
    },
    {
      "cell_type": "code",
      "execution_count": null,
      "metadata": {
        "colab": {
          "base_uri": "https://localhost:8080/"
        },
        "id": "60x6dBzcjy0i",
        "outputId": "85b56206-ee96-4177-ad3e-ff72acd0d109"
      },
      "outputs": [
        {
          "output_type": "stream",
          "name": "stdout",
          "text": [
            "WARNING: /usr/local/hadoop-3.3.3/logs does not exist. Creating.\n",
            "2022-12-03 01:37:41,211 INFO namenode.NameNode: STARTUP_MSG: \n",
            "/************************************************************\n",
            "STARTUP_MSG: Starting NameNode\n",
            "STARTUP_MSG:   host = fb842b25c2b2/172.28.0.12\n",
            "STARTUP_MSG:   args = [-format]\n",
            "STARTUP_MSG:   version = 3.3.3\n",
            "STARTUP_MSG:   classpath = /usr/local/hadoop-3.3.3/etc/hadoop:/usr/local/hadoop-3.3.3/share/hadoop/common/lib/avro-1.7.7.jar:/usr/local/hadoop-3.3.3/share/hadoop/common/lib/commons-io-2.8.0.jar:/usr/local/hadoop-3.3.3/share/hadoop/common/lib/slf4j-api-1.7.36.jar:/usr/local/hadoop-3.3.3/share/hadoop/common/lib/jsr305-3.0.2.jar:/usr/local/hadoop-3.3.3/share/hadoop/common/lib/jakarta.activation-api-1.2.1.jar:/usr/local/hadoop-3.3.3/share/hadoop/common/lib/checker-qual-2.5.2.jar:/usr/local/hadoop-3.3.3/share/hadoop/common/lib/jetty-security-9.4.43.v20210629.jar:/usr/local/hadoop-3.3.3/share/hadoop/common/lib/metrics-core-3.2.4.jar:/usr/local/hadoop-3.3.3/share/hadoop/common/lib/kerby-pkix-1.0.1.jar:/usr/local/hadoop-3.3.3/share/hadoop/common/lib/commons-math3-3.1.1.jar:/usr/local/hadoop-3.3.3/share/hadoop/common/lib/json-smart-2.4.7.jar:/usr/local/hadoop-3.3.3/share/hadoop/common/lib/commons-logging-1.1.3.jar:/usr/local/hadoop-3.3.3/share/hadoop/common/lib/hadoop-shaded-protobuf_3_7-1.1.1.jar:/usr/local/hadoop-3.3.3/share/hadoop/common/lib/jackson-jaxrs-1.9.13.jar:/usr/local/hadoop-3.3.3/share/hadoop/common/lib/reload4j-1.2.18.3.jar:/usr/local/hadoop-3.3.3/share/hadoop/common/lib/jetty-server-9.4.43.v20210629.jar:/usr/local/hadoop-3.3.3/share/hadoop/common/lib/commons-cli-1.2.jar:/usr/local/hadoop-3.3.3/share/hadoop/common/lib/jetty-servlet-9.4.43.v20210629.jar:/usr/local/hadoop-3.3.3/share/hadoop/common/lib/listenablefuture-9999.0-empty-to-avoid-conflict-with-guava.jar:/usr/local/hadoop-3.3.3/share/hadoop/common/lib/jersey-servlet-1.19.jar:/usr/local/hadoop-3.3.3/share/hadoop/common/lib/commons-net-3.6.jar:/usr/local/hadoop-3.3.3/share/hadoop/common/lib/kerb-util-1.0.1.jar:/usr/local/hadoop-3.3.3/share/hadoop/common/lib/kerby-asn1-1.0.1.jar:/usr/local/hadoop-3.3.3/share/hadoop/common/lib/animal-sniffer-annotations-1.17.jar:/usr/local/hadoop-3.3.3/share/hadoop/common/lib/kerb-server-1.0.1.jar:/usr/local/hadoop-3.3.3/share/hadoop/common/lib/protobuf-java-2.5.0.jar:/usr/local/hadoop-3.3.3/share/hadoop/common/lib/commons-lang3-3.12.0.jar:/usr/local/hadoop-3.3.3/share/hadoop/common/lib/paranamer-2.3.jar:/usr/local/hadoop-3.3.3/share/hadoop/common/lib/kerb-common-1.0.1.jar:/usr/local/hadoop-3.3.3/share/hadoop/common/lib/commons-compress-1.21.jar:/usr/local/hadoop-3.3.3/share/hadoop/common/lib/snappy-java-1.1.8.2.jar:/usr/local/hadoop-3.3.3/share/hadoop/common/lib/kerb-core-1.0.1.jar:/usr/local/hadoop-3.3.3/share/hadoop/common/lib/jettison-1.1.jar:/usr/local/hadoop-3.3.3/share/hadoop/common/lib/commons-codec-1.15.jar:/usr/local/hadoop-3.3.3/share/hadoop/common/lib/jetty-http-9.4.43.v20210629.jar:/usr/local/hadoop-3.3.3/share/hadoop/common/lib/commons-beanutils-1.9.4.jar:/usr/local/hadoop-3.3.3/share/hadoop/common/lib/netty-3.10.6.Final.jar:/usr/local/hadoop-3.3.3/share/hadoop/common/lib/jcip-annotations-1.0-1.jar:/usr/local/hadoop-3.3.3/share/hadoop/common/lib/accessors-smart-2.4.7.jar:/usr/local/hadoop-3.3.3/share/hadoop/common/lib/commons-text-1.4.jar:/usr/local/hadoop-3.3.3/share/hadoop/common/lib/jersey-server-1.19.jar:/usr/local/hadoop-3.3.3/share/hadoop/common/lib/hadoop-shaded-guava-1.1.1.jar:/usr/local/hadoop-3.3.3/share/hadoop/common/lib/kerby-xdr-1.0.1.jar:/usr/local/hadoop-3.3.3/share/hadoop/common/lib/jackson-databind-2.13.2.2.jar:/usr/local/hadoop-3.3.3/share/hadoop/common/lib/kerby-util-1.0.1.jar:/usr/local/hadoop-3.3.3/share/hadoop/common/lib/jackson-mapper-asl-1.9.13.jar:/usr/local/hadoop-3.3.3/share/hadoop/common/lib/curator-client-4.2.0.jar:/usr/local/hadoop-3.3.3/share/hadoop/common/lib/audience-annotations-0.5.0.jar:/usr/local/hadoop-3.3.3/share/hadoop/common/lib/commons-daemon-1.0.13.jar:/usr/local/hadoop-3.3.3/share/hadoop/common/lib/jaxb-impl-2.2.3-1.jar:/usr/local/hadoop-3.3.3/share/hadoop/common/lib/jersey-core-1.19.jar:/usr/local/hadoop-3.3.3/share/hadoop/common/lib/curator-recipes-4.2.0.jar:/usr/local/hadoop-3.3.3/share/hadoop/common/lib/re2j-1.1.jar:/usr/local/hadoop-3.3.3/share/hadoop/common/lib/guava-27.0-jre.jar:/usr/local/hadoop-3.3.3/share/hadoop/common/lib/jsp-api-2.1.jar:/usr/local/hadoop-3.3.3/share/hadoop/common/lib/failureaccess-1.0.jar:/usr/local/hadoop-3.3.3/share/hadoop/common/lib/kerb-crypto-1.0.1.jar:/usr/local/hadoop-3.3.3/share/hadoop/common/lib/jetty-util-9.4.43.v20210629.jar:/usr/local/hadoop-3.3.3/share/hadoop/common/lib/jersey-json-1.19.jar:/usr/local/hadoop-3.3.3/share/hadoop/common/lib/gson-2.8.9.jar:/usr/local/hadoop-3.3.3/share/hadoop/common/lib/stax2-api-4.2.1.jar:/usr/local/hadoop-3.3.3/share/hadoop/common/lib/jetty-webapp-9.4.43.v20210629.jar:/usr/local/hadoop-3.3.3/share/hadoop/common/lib/hadoop-annotations-3.3.3.jar:/usr/local/hadoop-3.3.3/share/hadoop/common/lib/httpclient-4.5.13.jar:/usr/local/hadoop-3.3.3/share/hadoop/common/lib/commons-collections-3.2.2.jar:/usr/local/hadoop-3.3.3/share/hadoop/common/lib/hadoop-auth-3.3.3.jar:/usr/local/hadoop-3.3.3/share/hadoop/common/lib/kerb-identity-1.0.1.jar:/usr/local/hadoop-3.3.3/share/hadoop/common/lib/kerb-simplekdc-1.0.1.jar:/usr/local/hadoop-3.3.3/share/hadoop/common/lib/jetty-xml-9.4.43.v20210629.jar:/usr/local/hadoop-3.3.3/share/hadoop/common/lib/kerby-config-1.0.1.jar:/usr/local/hadoop-3.3.3/share/hadoop/common/lib/httpcore-4.4.13.jar:/usr/local/hadoop-3.3.3/share/hadoop/common/lib/commons-configuration2-2.1.1.jar:/usr/local/hadoop-3.3.3/share/hadoop/common/lib/zookeeper-jute-3.5.6.jar:/usr/local/hadoop-3.3.3/share/hadoop/common/lib/token-provider-1.0.1.jar:/usr/local/hadoop-3.3.3/share/hadoop/common/lib/zookeeper-3.5.6.jar:/usr/local/hadoop-3.3.3/share/hadoop/common/lib/kerb-admin-1.0.1.jar:/usr/local/hadoop-3.3.3/share/hadoop/common/lib/jackson-core-asl-1.9.13.jar:/usr/local/hadoop-3.3.3/share/hadoop/common/lib/jaxb-api-2.2.11.jar:/usr/local/hadoop-3.3.3/share/hadoop/common/lib/jackson-annotations-2.13.2.jar:/usr/local/hadoop-3.3.3/share/hadoop/common/lib/jetty-util-ajax-9.4.43.v20210629.jar:/usr/local/hadoop-3.3.3/share/hadoop/common/lib/asm-5.0.4.jar:/usr/local/hadoop-3.3.3/share/hadoop/common/lib/j2objc-annotations-1.1.jar:/usr/local/hadoop-3.3.3/share/hadoop/common/lib/woodstox-core-5.3.0.jar:/usr/local/hadoop-3.3.3/share/hadoop/common/lib/curator-framework-4.2.0.jar:/usr/local/hadoop-3.3.3/share/hadoop/common/lib/kerb-client-1.0.1.jar:/usr/local/hadoop-3.3.3/share/hadoop/common/lib/slf4j-reload4j-1.7.36.jar:/usr/local/hadoop-3.3.3/share/hadoop/common/lib/jackson-core-2.13.2.jar:/usr/local/hadoop-3.3.3/share/hadoop/common/lib/nimbus-jose-jwt-9.8.1.jar:/usr/local/hadoop-3.3.3/share/hadoop/common/lib/jsr311-api-1.1.1.jar:/usr/local/hadoop-3.3.3/share/hadoop/common/lib/jetty-io-9.4.43.v20210629.jar:/usr/local/hadoop-3.3.3/share/hadoop/common/lib/jackson-xc-1.9.13.jar:/usr/local/hadoop-3.3.3/share/hadoop/common/lib/jsch-0.1.55.jar:/usr/local/hadoop-3.3.3/share/hadoop/common/lib/dnsjava-2.1.7.jar:/usr/local/hadoop-3.3.3/share/hadoop/common/lib/jul-to-slf4j-1.7.36.jar:/usr/local/hadoop-3.3.3/share/hadoop/common/lib/javax.servlet-api-3.1.0.jar:/usr/local/hadoop-3.3.3/share/hadoop/common/hadoop-kms-3.3.3.jar:/usr/local/hadoop-3.3.3/share/hadoop/common/hadoop-registry-3.3.3.jar:/usr/local/hadoop-3.3.3/share/hadoop/common/hadoop-nfs-3.3.3.jar:/usr/local/hadoop-3.3.3/share/hadoop/common/hadoop-common-3.3.3.jar:/usr/local/hadoop-3.3.3/share/hadoop/common/hadoop-common-3.3.3-tests.jar:/usr/local/hadoop-3.3.3/share/hadoop/hdfs:/usr/local/hadoop-3.3.3/share/hadoop/hdfs/lib/avro-1.7.7.jar:/usr/local/hadoop-3.3.3/share/hadoop/hdfs/lib/commons-io-2.8.0.jar:/usr/local/hadoop-3.3.3/share/hadoop/hdfs/lib/jsr305-3.0.2.jar:/usr/local/hadoop-3.3.3/share/hadoop/hdfs/lib/jakarta.activation-api-1.2.1.jar:/usr/local/hadoop-3.3.3/share/hadoop/hdfs/lib/checker-qual-2.5.2.jar:/usr/local/hadoop-3.3.3/share/hadoop/hdfs/lib/jetty-security-9.4.43.v20210629.jar:/usr/local/hadoop-3.3.3/share/hadoop/hdfs/lib/kerby-pkix-1.0.1.jar:/usr/local/hadoop-3.3.3/share/hadoop/hdfs/lib/commons-math3-3.1.1.jar:/usr/local/hadoop-3.3.3/share/hadoop/hdfs/lib/leveldbjni-all-1.8.jar:/usr/local/hadoop-3.3.3/share/hadoop/hdfs/lib/json-smart-2.4.7.jar:/usr/local/hadoop-3.3.3/share/hadoop/hdfs/lib/commons-logging-1.1.3.jar:/usr/local/hadoop-3.3.3/share/hadoop/hdfs/lib/hadoop-shaded-protobuf_3_7-1.1.1.jar:/usr/local/hadoop-3.3.3/share/hadoop/hdfs/lib/jackson-jaxrs-1.9.13.jar:/usr/local/hadoop-3.3.3/share/hadoop/hdfs/lib/reload4j-1.2.18.3.jar:/usr/local/hadoop-3.3.3/share/hadoop/hdfs/lib/jetty-server-9.4.43.v20210629.jar:/usr/local/hadoop-3.3.3/share/hadoop/hdfs/lib/commons-cli-1.2.jar:/usr/local/hadoop-3.3.3/share/hadoop/hdfs/lib/jetty-servlet-9.4.43.v20210629.jar:/usr/local/hadoop-3.3.3/share/hadoop/hdfs/lib/listenablefuture-9999.0-empty-to-avoid-conflict-with-guava.jar:/usr/local/hadoop-3.3.3/share/hadoop/hdfs/lib/jersey-servlet-1.19.jar:/usr/local/hadoop-3.3.3/share/hadoop/hdfs/lib/commons-net-3.6.jar:/usr/local/hadoop-3.3.3/share/hadoop/hdfs/lib/kerb-util-1.0.1.jar:/usr/local/hadoop-3.3.3/share/hadoop/hdfs/lib/kerby-asn1-1.0.1.jar:/usr/local/hadoop-3.3.3/share/hadoop/hdfs/lib/animal-sniffer-annotations-1.17.jar:/usr/local/hadoop-3.3.3/share/hadoop/hdfs/lib/kerb-server-1.0.1.jar:/usr/local/hadoop-3.3.3/share/hadoop/hdfs/lib/protobuf-java-2.5.0.jar:/usr/local/hadoop-3.3.3/share/hadoop/hdfs/lib/commons-lang3-3.12.0.jar:/usr/local/hadoop-3.3.3/share/hadoop/hdfs/lib/paranamer-2.3.jar:/usr/local/hadoop-3.3.3/share/hadoop/hdfs/lib/kerb-common-1.0.1.jar:/usr/local/hadoop-3.3.3/share/hadoop/hdfs/lib/commons-compress-1.21.jar:/usr/local/hadoop-3.3.3/share/hadoop/hdfs/lib/snappy-java-1.1.8.2.jar:/usr/local/hadoop-3.3.3/share/hadoop/hdfs/lib/kerb-core-1.0.1.jar:/usr/local/hadoop-3.3.3/share/hadoop/hdfs/lib/netty-all-4.1.68.Final.jar:/usr/local/hadoop-3.3.3/share/hadoop/hdfs/lib/okhttp-2.7.5.jar:/usr/local/hadoop-3.3.3/share/hadoop/hdfs/lib/jettison-1.1.jar:/usr/local/hadoop-3.3.3/share/hadoop/hdfs/lib/commons-codec-1.15.jar:/usr/local/hadoop-3.3.3/share/hadoop/hdfs/lib/jetty-http-9.4.43.v20210629.jar:/usr/local/hadoop-3.3.3/share/hadoop/hdfs/lib/commons-beanutils-1.9.4.jar:/usr/local/hadoop-3.3.3/share/hadoop/hdfs/lib/netty-3.10.6.Final.jar:/usr/local/hadoop-3.3.3/share/hadoop/hdfs/lib/jcip-annotations-1.0-1.jar:/usr/local/hadoop-3.3.3/share/hadoop/hdfs/lib/accessors-smart-2.4.7.jar:/usr/local/hadoop-3.3.3/share/hadoop/hdfs/lib/commons-text-1.4.jar:/usr/local/hadoop-3.3.3/share/hadoop/hdfs/lib/jersey-server-1.19.jar:/usr/local/hadoop-3.3.3/share/hadoop/hdfs/lib/hadoop-shaded-guava-1.1.1.jar:/usr/local/hadoop-3.3.3/share/hadoop/hdfs/lib/kerby-xdr-1.0.1.jar:/usr/local/hadoop-3.3.3/share/hadoop/hdfs/lib/jackson-databind-2.13.2.2.jar:/usr/local/hadoop-3.3.3/share/hadoop/hdfs/lib/kerby-util-1.0.1.jar:/usr/local/hadoop-3.3.3/share/hadoop/hdfs/lib/jackson-mapper-asl-1.9.13.jar:/usr/local/hadoop-3.3.3/share/hadoop/hdfs/lib/curator-client-4.2.0.jar:/usr/local/hadoop-3.3.3/share/hadoop/hdfs/lib/audience-annotations-0.5.0.jar:/usr/local/hadoop-3.3.3/share/hadoop/hdfs/lib/commons-daemon-1.0.13.jar:/usr/local/hadoop-3.3.3/share/hadoop/hdfs/lib/jaxb-impl-2.2.3-1.jar:/usr/local/hadoop-3.3.3/share/hadoop/hdfs/lib/jersey-core-1.19.jar:/usr/local/hadoop-3.3.3/share/hadoop/hdfs/lib/curator-recipes-4.2.0.jar:/usr/local/hadoop-3.3.3/share/hadoop/hdfs/lib/re2j-1.1.jar:/usr/local/hadoop-3.3.3/share/hadoop/hdfs/lib/guava-27.0-jre.jar:/usr/local/hadoop-3.3.3/share/hadoop/hdfs/lib/okio-1.6.0.jar:/usr/local/hadoop-3.3.3/share/hadoop/hdfs/lib/json-simple-1.1.1.jar:/usr/local/hadoop-3.3.3/share/hadoop/hdfs/lib/failureaccess-1.0.jar:/usr/local/hadoop-3.3.3/share/hadoop/hdfs/lib/kerb-crypto-1.0.1.jar:/usr/local/hadoop-3.3.3/share/hadoop/hdfs/lib/jetty-util-9.4.43.v20210629.jar:/usr/local/hadoop-3.3.3/share/hadoop/hdfs/lib/jersey-json-1.19.jar:/usr/local/hadoop-3.3.3/share/hadoop/hdfs/lib/gson-2.8.9.jar:/usr/local/hadoop-3.3.3/share/hadoop/hdfs/lib/stax2-api-4.2.1.jar:/usr/local/hadoop-3.3.3/share/hadoop/hdfs/lib/jetty-webapp-9.4.43.v20210629.jar:/usr/local/hadoop-3.3.3/share/hadoop/hdfs/lib/hadoop-annotations-3.3.3.jar:/usr/local/hadoop-3.3.3/share/hadoop/hdfs/lib/httpclient-4.5.13.jar:/usr/local/hadoop-3.3.3/share/hadoop/hdfs/lib/commons-collections-3.2.2.jar:/usr/local/hadoop-3.3.3/share/hadoop/hdfs/lib/hadoop-auth-3.3.3.jar:/usr/local/hadoop-3.3.3/share/hadoop/hdfs/lib/kerb-identity-1.0.1.jar:/usr/local/hadoop-3.3.3/share/hadoop/hdfs/lib/kerb-simplekdc-1.0.1.jar:/usr/local/hadoop-3.3.3/share/hadoop/hdfs/lib/jetty-xml-9.4.43.v20210629.jar:/usr/local/hadoop-3.3.3/share/hadoop/hdfs/lib/kerby-config-1.0.1.jar:/usr/local/hadoop-3.3.3/share/hadoop/hdfs/lib/httpcore-4.4.13.jar:/usr/local/hadoop-3.3.3/share/hadoop/hdfs/lib/commons-configuration2-2.1.1.jar:/usr/local/hadoop-3.3.3/share/hadoop/hdfs/lib/zookeeper-jute-3.5.6.jar:/usr/local/hadoop-3.3.3/share/hadoop/hdfs/lib/token-provider-1.0.1.jar:/usr/local/hadoop-3.3.3/share/hadoop/hdfs/lib/zookeeper-3.5.6.jar:/usr/local/hadoop-3.3.3/share/hadoop/hdfs/lib/kerb-admin-1.0.1.jar:/usr/local/hadoop-3.3.3/share/hadoop/hdfs/lib/jackson-core-asl-1.9.13.jar:/usr/local/hadoop-3.3.3/share/hadoop/hdfs/lib/jaxb-api-2.2.11.jar:/usr/local/hadoop-3.3.3/share/hadoop/hdfs/lib/jackson-annotations-2.13.2.jar:/usr/local/hadoop-3.3.3/share/hadoop/hdfs/lib/jetty-util-ajax-9.4.43.v20210629.jar:/usr/local/hadoop-3.3.3/share/hadoop/hdfs/lib/asm-5.0.4.jar:/usr/local/hadoop-3.3.3/share/hadoop/hdfs/lib/j2objc-annotations-1.1.jar:/usr/local/hadoop-3.3.3/share/hadoop/hdfs/lib/woodstox-core-5.3.0.jar:/usr/local/hadoop-3.3.3/share/hadoop/hdfs/lib/curator-framework-4.2.0.jar:/usr/local/hadoop-3.3.3/share/hadoop/hdfs/lib/kerb-client-1.0.1.jar:/usr/local/hadoop-3.3.3/share/hadoop/hdfs/lib/jackson-core-2.13.2.jar:/usr/local/hadoop-3.3.3/share/hadoop/hdfs/lib/nimbus-jose-jwt-9.8.1.jar:/usr/local/hadoop-3.3.3/share/hadoop/hdfs/lib/jsr311-api-1.1.1.jar:/usr/local/hadoop-3.3.3/share/hadoop/hdfs/lib/jetty-io-9.4.43.v20210629.jar:/usr/local/hadoop-3.3.3/share/hadoop/hdfs/lib/jackson-xc-1.9.13.jar:/usr/local/hadoop-3.3.3/share/hadoop/hdfs/lib/jsch-0.1.55.jar:/usr/local/hadoop-3.3.3/share/hadoop/hdfs/lib/dnsjava-2.1.7.jar:/usr/local/hadoop-3.3.3/share/hadoop/hdfs/lib/javax.servlet-api-3.1.0.jar:/usr/local/hadoop-3.3.3/share/hadoop/hdfs/hadoop-hdfs-client-3.3.3.jar:/usr/local/hadoop-3.3.3/share/hadoop/hdfs/hadoop-hdfs-native-client-3.3.3.jar:/usr/local/hadoop-3.3.3/share/hadoop/hdfs/hadoop-hdfs-nfs-3.3.3.jar:/usr/local/hadoop-3.3.3/share/hadoop/hdfs/hadoop-hdfs-3.3.3.jar:/usr/local/hadoop-3.3.3/share/hadoop/hdfs/hadoop-hdfs-3.3.3-tests.jar:/usr/local/hadoop-3.3.3/share/hadoop/hdfs/hadoop-hdfs-client-3.3.3-tests.jar:/usr/local/hadoop-3.3.3/share/hadoop/hdfs/hadoop-hdfs-rbf-3.3.3-tests.jar:/usr/local/hadoop-3.3.3/share/hadoop/hdfs/hadoop-hdfs-httpfs-3.3.3.jar:/usr/local/hadoop-3.3.3/share/hadoop/hdfs/hadoop-hdfs-native-client-3.3.3-tests.jar:/usr/local/hadoop-3.3.3/share/hadoop/hdfs/hadoop-hdfs-rbf-3.3.3.jar:/usr/local/hadoop-3.3.3/share/hadoop/mapreduce/hadoop-mapreduce-client-hs-plugins-3.3.3.jar:/usr/local/hadoop-3.3.3/share/hadoop/mapreduce/hadoop-mapreduce-client-hs-3.3.3.jar:/usr/local/hadoop-3.3.3/share/hadoop/mapreduce/hadoop-mapreduce-client-shuffle-3.3.3.jar:/usr/local/hadoop-3.3.3/share/hadoop/mapreduce/hadoop-mapreduce-client-common-3.3.3.jar:/usr/local/hadoop-3.3.3/share/hadoop/mapreduce/hadoop-mapreduce-client-nativetask-3.3.3.jar:/usr/local/hadoop-3.3.3/share/hadoop/mapreduce/hadoop-mapreduce-client-uploader-3.3.3.jar:/usr/local/hadoop-3.3.3/share/hadoop/mapreduce/hadoop-mapreduce-client-app-3.3.3.jar:/usr/local/hadoop-3.3.3/share/hadoop/mapreduce/hadoop-mapreduce-examples-3.3.3.jar:/usr/local/hadoop-3.3.3/share/hadoop/mapreduce/hadoop-mapreduce-client-jobclient-3.3.3.jar:/usr/local/hadoop-3.3.3/share/hadoop/mapreduce/hadoop-mapreduce-client-core-3.3.3.jar:/usr/local/hadoop-3.3.3/share/hadoop/mapreduce/hadoop-mapreduce-client-jobclient-3.3.3-tests.jar:/usr/local/hadoop-3.3.3/share/hadoop/yarn:/usr/local/hadoop-3.3.3/share/hadoop/yarn/lib/asm-tree-9.1.jar:/usr/local/hadoop-3.3.3/share/hadoop/yarn/lib/jetty-plus-9.4.43.v20210629.jar:/usr/local/hadoop-3.3.3/share/hadoop/yarn/lib/metrics-core-3.2.4.jar:/usr/local/hadoop-3.3.3/share/hadoop/yarn/lib/bcpkix-jdk15on-1.60.jar:/usr/local/hadoop-3.3.3/share/hadoop/yarn/lib/guice-4.0.jar:/usr/local/hadoop-3.3.3/share/hadoop/yarn/lib/asm-commons-9.1.jar:/usr/local/hadoop-3.3.3/share/hadoop/yarn/lib/javax-websocket-server-impl-9.4.43.v20210629.jar:/usr/local/hadoop-3.3.3/share/hadoop/yarn/lib/mssql-jdbc-6.2.1.jre7.jar:/usr/local/hadoop-3.3.3/share/hadoop/yarn/lib/javax.inject-1.jar:/usr/local/hadoop-3.3.3/share/hadoop/yarn/lib/jackson-jaxrs-json-provider-2.13.2.jar:/usr/local/hadoop-3.3.3/share/hadoop/yarn/lib/fst-2.50.jar:/usr/local/hadoop-3.3.3/share/hadoop/yarn/lib/jersey-guice-1.19.jar:/usr/local/hadoop-3.3.3/share/hadoop/yarn/lib/websocket-common-9.4.43.v20210629.jar:/usr/local/hadoop-3.3.3/share/hadoop/yarn/lib/websocket-server-9.4.43.v20210629.jar:/usr/local/hadoop-3.3.3/share/hadoop/yarn/lib/jetty-annotations-9.4.43.v20210629.jar:/usr/local/hadoop-3.3.3/share/hadoop/yarn/lib/jackson-jaxrs-base-2.13.2.jar:/usr/local/hadoop-3.3.3/share/hadoop/yarn/lib/javax.websocket-api-1.0.jar:/usr/local/hadoop-3.3.3/share/hadoop/yarn/lib/bcprov-jdk15on-1.60.jar:/usr/local/hadoop-3.3.3/share/hadoop/yarn/lib/aopalliance-1.0.jar:/usr/local/hadoop-3.3.3/share/hadoop/yarn/lib/asm-analysis-9.1.jar:/usr/local/hadoop-3.3.3/share/hadoop/yarn/lib/json-io-2.5.1.jar:/usr/local/hadoop-3.3.3/share/hadoop/yarn/lib/jline-3.9.0.jar:/usr/local/hadoop-3.3.3/share/hadoop/yarn/lib/snakeyaml-1.26.jar:/usr/local/hadoop-3.3.3/share/hadoop/yarn/lib/objenesis-2.6.jar:/usr/local/hadoop-3.3.3/share/hadoop/yarn/lib/websocket-servlet-9.4.43.v20210629.jar:/usr/local/hadoop-3.3.3/share/hadoop/yarn/lib/swagger-annotations-1.5.4.jar:/usr/local/hadoop-3.3.3/share/hadoop/yarn/lib/websocket-api-9.4.43.v20210629.jar:/usr/local/hadoop-3.3.3/share/hadoop/yarn/lib/jetty-jndi-9.4.43.v20210629.jar:/usr/local/hadoop-3.3.3/share/hadoop/yarn/lib/jakarta.xml.bind-api-2.3.3.jar:/usr/local/hadoop-3.3.3/share/hadoop/yarn/lib/HikariCP-java7-2.4.12.jar:/usr/local/hadoop-3.3.3/share/hadoop/yarn/lib/jersey-client-1.19.jar:/usr/local/hadoop-3.3.3/share/hadoop/yarn/lib/guice-servlet-4.0.jar:/usr/local/hadoop-3.3.3/share/hadoop/yarn/lib/javax.ws.rs-api-2.1.1.jar:/usr/local/hadoop-3.3.3/share/hadoop/yarn/lib/java-util-1.9.0.jar:/usr/local/hadoop-3.3.3/share/hadoop/yarn/lib/websocket-client-9.4.43.v20210629.jar:/usr/local/hadoop-3.3.3/share/hadoop/yarn/lib/jackson-module-jaxb-annotations-2.13.2.jar:/usr/local/hadoop-3.3.3/share/hadoop/yarn/lib/geronimo-jcache_1.0_spec-1.0-alpha-1.jar:/usr/local/hadoop-3.3.3/share/hadoop/yarn/lib/jna-5.2.0.jar:/usr/local/hadoop-3.3.3/share/hadoop/yarn/lib/javax.websocket-client-api-1.0.jar:/usr/local/hadoop-3.3.3/share/hadoop/yarn/lib/ehcache-3.3.1.jar:/usr/local/hadoop-3.3.3/share/hadoop/yarn/lib/javax-websocket-client-impl-9.4.43.v20210629.jar:/usr/local/hadoop-3.3.3/share/hadoop/yarn/lib/jetty-client-9.4.43.v20210629.jar:/usr/local/hadoop-3.3.3/share/hadoop/yarn/hadoop-yarn-applications-unmanaged-am-launcher-3.3.3.jar:/usr/local/hadoop-3.3.3/share/hadoop/yarn/hadoop-yarn-services-core-3.3.3.jar:/usr/local/hadoop-3.3.3/share/hadoop/yarn/hadoop-yarn-applications-mawo-core-3.3.3.jar:/usr/local/hadoop-3.3.3/share/hadoop/yarn/hadoop-yarn-client-3.3.3.jar:/usr/local/hadoop-3.3.3/share/hadoop/yarn/hadoop-yarn-server-tests-3.3.3.jar:/usr/local/hadoop-3.3.3/share/hadoop/yarn/hadoop-yarn-server-web-proxy-3.3.3.jar:/usr/local/hadoop-3.3.3/share/hadoop/yarn/hadoop-yarn-api-3.3.3.jar:/usr/local/hadoop-3.3.3/share/hadoop/yarn/hadoop-yarn-applications-distributedshell-3.3.3.jar:/usr/local/hadoop-3.3.3/share/hadoop/yarn/hadoop-yarn-registry-3.3.3.jar:/usr/local/hadoop-3.3.3/share/hadoop/yarn/hadoop-yarn-server-applicationhistoryservice-3.3.3.jar:/usr/local/hadoop-3.3.3/share/hadoop/yarn/hadoop-yarn-server-resourcemanager-3.3.3.jar:/usr/local/hadoop-3.3.3/share/hadoop/yarn/hadoop-yarn-server-common-3.3.3.jar:/usr/local/hadoop-3.3.3/share/hadoop/yarn/hadoop-yarn-server-router-3.3.3.jar:/usr/local/hadoop-3.3.3/share/hadoop/yarn/hadoop-yarn-common-3.3.3.jar:/usr/local/hadoop-3.3.3/share/hadoop/yarn/hadoop-yarn-server-timeline-pluginstorage-3.3.3.jar:/usr/local/hadoop-3.3.3/share/hadoop/yarn/hadoop-yarn-server-sharedcachemanager-3.3.3.jar:/usr/local/hadoop-3.3.3/share/hadoop/yarn/hadoop-yarn-server-nodemanager-3.3.3.jar:/usr/local/hadoop-3.3.3/share/hadoop/yarn/hadoop-yarn-services-api-3.3.3.jar\n",
            "STARTUP_MSG:   build = https://github.com/apache/hadoop.git -r d37586cbda38c338d9fe481addda5a05fb516f71; compiled by 'stevel' on 2022-05-09T16:36Z\n",
            "STARTUP_MSG:   java = 11.0.17\n",
            "************************************************************/\n",
            "2022-12-03 01:37:41,318 INFO namenode.NameNode: registered UNIX signal handlers for [TERM, HUP, INT]\n",
            "2022-12-03 01:37:41,476 INFO namenode.NameNode: createNameNode [-format]\n",
            "2022-12-03 01:37:42,249 INFO namenode.NameNode: Formatting using clusterid: CID-8e3d47bc-2fd8-4264-99ab-e738fc475784\n",
            "2022-12-03 01:37:42,280 INFO namenode.FSEditLog: Edit logging is async:true\n",
            "2022-12-03 01:37:42,312 INFO namenode.FSNamesystem: KeyProvider: null\n",
            "2022-12-03 01:37:42,314 INFO namenode.FSNamesystem: fsLock is fair: true\n",
            "2022-12-03 01:37:42,314 INFO namenode.FSNamesystem: Detailed lock hold time metrics enabled: false\n",
            "2022-12-03 01:37:42,352 INFO namenode.FSNamesystem: fsOwner                = root (auth:SIMPLE)\n",
            "2022-12-03 01:37:42,353 INFO namenode.FSNamesystem: supergroup             = supergroup\n",
            "2022-12-03 01:37:42,353 INFO namenode.FSNamesystem: isPermissionEnabled    = true\n",
            "2022-12-03 01:37:42,353 INFO namenode.FSNamesystem: isStoragePolicyEnabled = true\n",
            "2022-12-03 01:37:42,353 INFO namenode.FSNamesystem: HA Enabled: false\n",
            "2022-12-03 01:37:42,397 INFO common.Util: dfs.datanode.fileio.profiling.sampling.percentage set to 0. Disabling file IO profiling\n",
            "2022-12-03 01:37:42,407 INFO blockmanagement.DatanodeManager: dfs.block.invalidate.limit: configured=1000, counted=60, effected=1000\n",
            "2022-12-03 01:37:42,407 INFO blockmanagement.DatanodeManager: dfs.namenode.datanode.registration.ip-hostname-check=true\n",
            "2022-12-03 01:37:42,411 INFO blockmanagement.BlockManager: dfs.namenode.startup.delay.block.deletion.sec is set to 000:00:00:00.000\n",
            "2022-12-03 01:37:42,411 INFO blockmanagement.BlockManager: The block deletion will start around 2022 Dec 03 01:37:42\n",
            "2022-12-03 01:37:42,412 INFO util.GSet: Computing capacity for map BlocksMap\n",
            "2022-12-03 01:37:42,412 INFO util.GSet: VM type       = 64-bit\n",
            "2022-12-03 01:37:42,413 INFO util.GSet: 2.0% max memory 3.2 GB = 65.0 MB\n",
            "2022-12-03 01:37:42,413 INFO util.GSet: capacity      = 2^23 = 8388608 entries\n",
            "2022-12-03 01:37:42,427 INFO blockmanagement.BlockManager: Storage policy satisfier is disabled\n",
            "2022-12-03 01:37:42,427 INFO blockmanagement.BlockManager: dfs.block.access.token.enable = false\n",
            "2022-12-03 01:37:42,432 INFO blockmanagement.BlockManagerSafeMode: dfs.namenode.safemode.threshold-pct = 0.999\n",
            "2022-12-03 01:37:42,433 INFO blockmanagement.BlockManagerSafeMode: dfs.namenode.safemode.min.datanodes = 0\n",
            "2022-12-03 01:37:42,433 INFO blockmanagement.BlockManagerSafeMode: dfs.namenode.safemode.extension = 30000\n",
            "2022-12-03 01:37:42,433 INFO blockmanagement.BlockManager: defaultReplication         = 1\n",
            "2022-12-03 01:37:42,433 INFO blockmanagement.BlockManager: maxReplication             = 512\n",
            "2022-12-03 01:37:42,433 INFO blockmanagement.BlockManager: minReplication             = 1\n",
            "2022-12-03 01:37:42,433 INFO blockmanagement.BlockManager: maxReplicationStreams      = 2\n",
            "2022-12-03 01:37:42,433 INFO blockmanagement.BlockManager: redundancyRecheckInterval  = 3000ms\n",
            "2022-12-03 01:37:42,433 INFO blockmanagement.BlockManager: encryptDataTransfer        = false\n",
            "2022-12-03 01:37:42,433 INFO blockmanagement.BlockManager: maxNumBlocksToLog          = 1000\n",
            "2022-12-03 01:37:42,452 INFO namenode.FSDirectory: GLOBAL serial map: bits=29 maxEntries=536870911\n",
            "2022-12-03 01:37:42,452 INFO namenode.FSDirectory: USER serial map: bits=24 maxEntries=16777215\n",
            "2022-12-03 01:37:42,452 INFO namenode.FSDirectory: GROUP serial map: bits=24 maxEntries=16777215\n",
            "2022-12-03 01:37:42,452 INFO namenode.FSDirectory: XATTR serial map: bits=24 maxEntries=16777215\n",
            "2022-12-03 01:37:42,461 INFO util.GSet: Computing capacity for map INodeMap\n",
            "2022-12-03 01:37:42,461 INFO util.GSet: VM type       = 64-bit\n",
            "2022-12-03 01:37:42,461 INFO util.GSet: 1.0% max memory 3.2 GB = 32.5 MB\n",
            "2022-12-03 01:37:42,461 INFO util.GSet: capacity      = 2^22 = 4194304 entries\n",
            "2022-12-03 01:37:42,465 INFO namenode.FSDirectory: ACLs enabled? true\n",
            "2022-12-03 01:37:42,465 INFO namenode.FSDirectory: POSIX ACL inheritance enabled? true\n",
            "2022-12-03 01:37:42,465 INFO namenode.FSDirectory: XAttrs enabled? true\n",
            "2022-12-03 01:37:42,465 INFO namenode.NameNode: Caching file names occurring more than 10 times\n",
            "2022-12-03 01:37:42,469 INFO snapshot.SnapshotManager: Loaded config captureOpenFiles: false, skipCaptureAccessTimeOnlyChange: false, snapshotDiffAllowSnapRootDescendant: true, maxSnapshotLimit: 65536\n",
            "2022-12-03 01:37:42,470 INFO snapshot.SnapshotManager: SkipList is disabled\n",
            "2022-12-03 01:37:42,473 INFO util.GSet: Computing capacity for map cachedBlocks\n",
            "2022-12-03 01:37:42,473 INFO util.GSet: VM type       = 64-bit\n",
            "2022-12-03 01:37:42,474 INFO util.GSet: 0.25% max memory 3.2 GB = 8.1 MB\n",
            "2022-12-03 01:37:42,474 INFO util.GSet: capacity      = 2^20 = 1048576 entries\n",
            "2022-12-03 01:37:42,481 INFO metrics.TopMetrics: NNTop conf: dfs.namenode.top.window.num.buckets = 10\n",
            "2022-12-03 01:37:42,481 INFO metrics.TopMetrics: NNTop conf: dfs.namenode.top.num.users = 10\n",
            "2022-12-03 01:37:42,481 INFO metrics.TopMetrics: NNTop conf: dfs.namenode.top.windows.minutes = 1,5,25\n",
            "2022-12-03 01:37:42,485 INFO namenode.FSNamesystem: Retry cache on namenode is enabled\n",
            "2022-12-03 01:37:42,485 INFO namenode.FSNamesystem: Retry cache will use 0.03 of total heap and retry cache entry expiry time is 600000 millis\n",
            "2022-12-03 01:37:42,486 INFO util.GSet: Computing capacity for map NameNodeRetryCache\n",
            "2022-12-03 01:37:42,486 INFO util.GSet: VM type       = 64-bit\n",
            "2022-12-03 01:37:42,487 INFO util.GSet: 0.029999999329447746% max memory 3.2 GB = 997.8 KB\n",
            "2022-12-03 01:37:42,487 INFO util.GSet: capacity      = 2^17 = 131072 entries\n",
            "2022-12-03 01:37:42,507 INFO namenode.FSImage: Allocated new BlockPoolId: BP-1782421428-172.28.0.12-1670031462500\n",
            "2022-12-03 01:37:42,547 INFO common.Storage: Storage directory /tmp/hadoop-root/dfs/name has been successfully formatted.\n",
            "2022-12-03 01:37:42,605 INFO namenode.FSImageFormatProtobuf: Saving image file /tmp/hadoop-root/dfs/name/current/fsimage.ckpt_0000000000000000000 using no compression\n",
            "2022-12-03 01:37:42,724 INFO namenode.FSImageFormatProtobuf: Image file /tmp/hadoop-root/dfs/name/current/fsimage.ckpt_0000000000000000000 of size 399 bytes saved in 0 seconds .\n",
            "2022-12-03 01:37:42,745 INFO namenode.NNStorageRetentionManager: Going to retain 1 images with txid >= 0\n",
            "2022-12-03 01:37:42,776 INFO namenode.FSNamesystem: Stopping services started for active state\n",
            "2022-12-03 01:37:42,776 INFO namenode.FSNamesystem: Stopping services started for standby state\n",
            "2022-12-03 01:37:42,781 INFO namenode.FSImage: FSImageSaver clean checkpoint: txid=0 when meet shutdown.\n",
            "2022-12-03 01:37:42,782 INFO namenode.NameNode: SHUTDOWN_MSG: \n",
            "/************************************************************\n",
            "SHUTDOWN_MSG: Shutting down NameNode at fb842b25c2b2/172.28.0.12\n",
            "************************************************************/\n"
          ]
        }
      ],
      "source": [
        "!$HADOOP_HOME/bin/hdfs namenode -format"
      ]
    },
    {
      "cell_type": "code",
      "execution_count": null,
      "metadata": {
        "id": "n7lvXXjLj48w"
      },
      "outputs": [],
      "source": [
        "os.environ[\"HDFS_NAMENODE_USER\"] = \"root\"\n",
        "os.environ[\"HDFS_DATANODE_USER\"] = \"root\"\n",
        "os.environ[\"HDFS_SECONDARYNAMENODE_USER\"] = \"root\"\n",
        "os.environ[\"YARN_RESOURCEMANAGER_USER\"] = \"root\"\n",
        "os.environ[\"YARN_NODEMANAGER_USER\"] = \"root\""
      ]
    },
    {
      "cell_type": "code",
      "execution_count": null,
      "metadata": {
        "colab": {
          "base_uri": "https://localhost:8080/"
        },
        "id": "ERp7vvxGj9kx",
        "outputId": "747390d7-36fa-4fe0-cd3c-34d6e12539c0"
      },
      "outputs": [
        {
          "output_type": "stream",
          "name": "stdout",
          "text": [
            "Starting namenodes on [localhost]\n",
            "Starting datanodes\n",
            "Starting secondary namenodes [fb842b25c2b2]\n",
            "fb842b25c2b2: Warning: Permanently added 'fb842b25c2b2,172.28.0.12' (ECDSA) to the list of known hosts.\n"
          ]
        }
      ],
      "source": [
        "!$HADOOP_HOME/sbin/start-dfs.sh"
      ]
    },
    {
      "cell_type": "code",
      "execution_count": null,
      "metadata": {
        "colab": {
          "base_uri": "https://localhost:8080/"
        },
        "id": "gBLqbDJJkINW",
        "outputId": "4afc2431-f970-4b89-ef7e-ea9440c188f4"
      },
      "outputs": [
        {
          "output_type": "stream",
          "name": "stdout",
          "text": [
            "19094 Jps\n",
            "18566 NameNode\n",
            "18921 SecondaryNameNode\n",
            "18700 DataNode\n"
          ]
        }
      ],
      "source": [
        "!jps"
      ]
    },
    {
      "cell_type": "code",
      "execution_count": null,
      "metadata": {
        "colab": {
          "base_uri": "https://localhost:8080/"
        },
        "id": "GdvPX2nOkLp9",
        "outputId": "a2f74178-706e-4f00-aa4d-24921c591b88"
      },
      "outputs": [
        {
          "output_type": "stream",
          "name": "stdout",
          "text": [
            "nohup: ignoring input and appending output to 'nohup.out'\n"
          ]
        }
      ],
      "source": [
        "!nohup $HADOOP_HOME/sbin/start-yarn.sh"
      ]
    },
    {
      "cell_type": "code",
      "execution_count": null,
      "metadata": {
        "colab": {
          "base_uri": "https://localhost:8080/"
        },
        "id": "UCI-oz18kSgn",
        "outputId": "1e150266-1c3a-417d-d7cd-20434355d51c"
      },
      "outputs": [
        {
          "output_type": "stream",
          "name": "stdout",
          "text": [
            "19712 Jps\n",
            "19238 ResourceManager\n",
            "18566 NameNode\n",
            "18921 SecondaryNameNode\n",
            "19369 NodeManager\n",
            "18700 DataNode\n"
          ]
        }
      ],
      "source": [
        "!jps"
      ]
    },
    {
      "cell_type": "code",
      "execution_count": null,
      "metadata": {
        "colab": {
          "base_uri": "https://localhost:8080/"
        },
        "id": "c9JVs-TskVIG",
        "outputId": "be8b4fe5-e3cd-494b-ade2-d6733a988678"
      },
      "outputs": [
        {
          "output_type": "stream",
          "name": "stdout",
          "text": [
            "Configured Capacity: 115658190848 (107.72 GB)\n",
            "Present Capacity: 89617719296 (83.46 GB)\n",
            "DFS Remaining: 89617694720 (83.46 GB)\n",
            "DFS Used: 24576 (24 KB)\n",
            "DFS Used%: 0.00%\n",
            "Replicated Blocks:\n",
            "\tUnder replicated blocks: 0\n",
            "\tBlocks with corrupt replicas: 0\n",
            "\tMissing blocks: 0\n",
            "\tMissing blocks (with replication factor 1): 0\n",
            "\tLow redundancy blocks with highest priority to recover: 0\n",
            "\tPending deletion blocks: 0\n",
            "Erasure Coded Block Groups: \n",
            "\tLow redundancy block groups: 0\n",
            "\tBlock groups with corrupt internal blocks: 0\n",
            "\tMissing block groups: 0\n",
            "\tLow redundancy blocks with highest priority to recover: 0\n",
            "\tPending deletion blocks: 0\n",
            "\n",
            "-------------------------------------------------\n",
            "Live datanodes (1):\n",
            "\n",
            "Name: 127.0.0.1:9866 (localhost)\n",
            "Hostname: fb842b25c2b2\n",
            "Decommission Status : Normal\n",
            "Configured Capacity: 115658190848 (107.72 GB)\n",
            "DFS Used: 24576 (24 KB)\n",
            "Non DFS Used: 26023694336 (24.24 GB)\n",
            "DFS Remaining: 89617694720 (83.46 GB)\n",
            "DFS Used%: 0.00%\n",
            "DFS Remaining%: 77.48%\n",
            "Configured Cache Capacity: 0 (0 B)\n",
            "Cache Used: 0 (0 B)\n",
            "Cache Remaining: 0 (0 B)\n",
            "Cache Used%: 100.00%\n",
            "Cache Remaining%: 0.00%\n",
            "Xceivers: 0\n",
            "Last contact: Sat Dec 03 01:38:22 UTC 2022\n",
            "Last Block Report: Sat Dec 03 01:37:59 UTC 2022\n",
            "Num of Blocks: 0\n",
            "\n",
            "\n"
          ]
        }
      ],
      "source": [
        "!$HADOOP_HOME/bin/hdfs dfsadmin -report"
      ]
    },
    {
      "cell_type": "code",
      "execution_count": null,
      "metadata": {
        "colab": {
          "base_uri": "https://localhost:8080/"
        },
        "id": "fZal0dNtkalG",
        "outputId": "d518c00a-4e2e-4f1c-ad08-a02ef3ad1737"
      },
      "outputs": [
        {
          "output_type": "stream",
          "name": "stdout",
          "text": [
            "--2022-12-03 01:38:27--  http://www.gutenberg.org/cache/epub/1524/pg1524.txt\n",
            "Resolving www.gutenberg.org (www.gutenberg.org)... 152.19.134.47, 2610:28:3090:3000:0:bad:cafe:47\n",
            "Connecting to www.gutenberg.org (www.gutenberg.org)|152.19.134.47|:80... connected.\n",
            "HTTP request sent, awaiting response... 302 Found\n",
            "Location: https://www.gutenberg.org/cache/epub/1524/pg1524.txt [following]\n",
            "--2022-12-03 01:38:27--  https://www.gutenberg.org/cache/epub/1524/pg1524.txt\n",
            "Connecting to www.gutenberg.org (www.gutenberg.org)|152.19.134.47|:443... connected.\n",
            "HTTP request sent, awaiting response... 200 OK\n",
            "Length: 204364 (200K) [text/plain]\n",
            "Saving to: ‘pg1524.txt’\n",
            "\n",
            "\rpg1524.txt            0%[                    ]       0  --.-KB/s               \rpg1524.txt          100%[===================>] 199.57K  --.-KB/s    in 0.04s   \n",
            "\n",
            "2022-12-03 01:38:27 (4.37 MB/s) - ‘pg1524.txt’ saved [204364/204364]\n",
            "\n"
          ]
        }
      ],
      "source": [
        "!wget http://www.gutenberg.org/cache/epub/1524/pg1524.txt"
      ]
    },
    {
      "cell_type": "code",
      "execution_count": null,
      "metadata": {
        "id": "linjZ40xkyIl"
      },
      "outputs": [],
      "source": [
        "!$HADOOP_HOME/bin/hdfs dfs -mkdir /word_count"
      ]
    },
    {
      "cell_type": "code",
      "execution_count": null,
      "metadata": {
        "id": "wyx23JuplMzV"
      },
      "outputs": [],
      "source": [
        "!$HADOOP_HOME/bin/hdfs dfs -put pg1524.txt /word_count"
      ]
    },
    {
      "cell_type": "code",
      "execution_count": null,
      "metadata": {
        "colab": {
          "base_uri": "https://localhost:8080/"
        },
        "id": "Lc-pFkvLlbtL",
        "outputId": "41b74d0f-93e6-4583-894e-edae6e594d96"
      },
      "outputs": [
        {
          "output_type": "stream",
          "name": "stdout",
          "text": [
            "Found 1 items\n",
            "-rw-r--r--   1 root supergroup     204364 2022-12-03 01:38 /word_count/pg1524.txt\n"
          ]
        }
      ],
      "source": [
        "!$HADOOP_HOME/bin/hdfs dfs -ls /word_count"
      ]
    },
    {
      "cell_type": "code",
      "execution_count": null,
      "metadata": {
        "colab": {
          "base_uri": "https://localhost:8080/"
        },
        "id": "2l0_P_UruLIh",
        "outputId": "bcfa51e2-8f05-402b-a118-b823f02aef5a"
      },
      "outputs": [
        {
          "output_type": "stream",
          "name": "stdout",
          "text": [
            "Writing mapper.py\n"
          ]
        }
      ],
      "source": [
        "%%writefile mapper.py\n",
        "\n",
        "#!/usr/bin/env python\n",
        "\n",
        "import sys\n",
        "import string\n",
        "\n",
        "\n",
        "for line in sys.stdin:\n",
        "  for i in string.punctuation:\n",
        "    line = line.replace(i,'')\n",
        "    line = line.strip()\n",
        "    words = line.split()\n",
        "  for word in words:\n",
        "    print('%s\\t%s' % (word, 1))"
      ]
    },
    {
      "cell_type": "code",
      "execution_count": null,
      "metadata": {
        "colab": {
          "base_uri": "https://localhost:8080/"
        },
        "id": "K3yORSCbuo1r",
        "outputId": "f847da56-f6e6-4918-91bc-1b5235e66cb1"
      },
      "outputs": [
        {
          "output_type": "stream",
          "name": "stdout",
          "text": [
            "Writing reducer.py\n"
          ]
        }
      ],
      "source": [
        "%%writefile reducer.py\n",
        "\n",
        "#!/usr/bin/env python\n",
        "  \n",
        "import sys\n",
        "from operator import itemgetter\n",
        "  \n",
        "wordCount = 0\n",
        "word = None\n",
        "\n",
        "for line in sys.stdin:\n",
        "  line = line.strip()\n",
        "  word, count = line.split('\\t', 1)\n",
        "  if (word.startswith('Y')) or (word.startswith('y')):\n",
        "    wordCount = wordCount + 1\n",
        "print(wordCount)"
      ]
    },
    {
      "cell_type": "code",
      "execution_count": null,
      "metadata": {
        "id": "6SeULWqSI8jL"
      },
      "outputs": [],
      "source": [
        "!chmod u+x /content/mapper.py /content/reducer.py"
      ]
    },
    {
      "cell_type": "code",
      "execution_count": null,
      "metadata": {
        "colab": {
          "base_uri": "https://localhost:8080/"
        },
        "id": "BOpDMfI5MqsV",
        "outputId": "026181b1-aad1-4966-e186-7146eed9dc79"
      },
      "outputs": [
        {
          "output_type": "stream",
          "name": "stdout",
          "text": [
            "packageJobJar: [/tmp/hadoop-unjar2351620659738069372/] [] /tmp/streamjob5274815066022081521.jar tmpDir=null\n",
            "2022-12-03 01:38:54,467 INFO client.DefaultNoHARMFailoverProxyProvider: Connecting to ResourceManager at localhost/127.0.0.1:8032\n",
            "2022-12-03 01:38:54,674 INFO client.DefaultNoHARMFailoverProxyProvider: Connecting to ResourceManager at localhost/127.0.0.1:8032\n",
            "2022-12-03 01:38:54,976 INFO mapreduce.JobResourceUploader: Disabling Erasure Coding for path: /tmp/hadoop-yarn/staging/root/.staging/job_1670031496891_0001\n",
            "2022-12-03 01:38:55,222 INFO mapred.FileInputFormat: Total input files to process : 1\n",
            "2022-12-03 01:38:55,383 INFO mapreduce.JobSubmitter: number of splits:2\n",
            "2022-12-03 01:38:55,737 INFO mapreduce.JobSubmitter: Submitting tokens for job: job_1670031496891_0001\n",
            "2022-12-03 01:38:55,737 INFO mapreduce.JobSubmitter: Executing with tokens: []\n",
            "2022-12-03 01:38:55,934 INFO conf.Configuration: resource-types.xml not found\n",
            "2022-12-03 01:38:55,935 INFO resource.ResourceUtils: Unable to find 'resource-types.xml'.\n",
            "2022-12-03 01:38:56,188 INFO impl.YarnClientImpl: Submitted application application_1670031496891_0001\n",
            "2022-12-03 01:38:56,264 INFO mapreduce.Job: The url to track the job: http://fb842b25c2b2:8088/proxy/application_1670031496891_0001/\n",
            "2022-12-03 01:38:56,270 INFO mapreduce.Job: Running job: job_1670031496891_0001\n",
            "2022-12-03 01:39:04,500 INFO mapreduce.Job: Job job_1670031496891_0001 running in uber mode : false\n",
            "2022-12-03 01:39:04,501 INFO mapreduce.Job:  map 0% reduce 0%\n",
            "2022-12-03 01:39:13,599 INFO mapreduce.Job:  map 100% reduce 0%\n",
            "2022-12-03 01:39:18,639 INFO mapreduce.Job:  map 100% reduce 100%\n",
            "2022-12-03 01:39:19,655 INFO mapreduce.Job: Job job_1670031496891_0001 completed successfully\n",
            "2022-12-03 01:39:19,738 INFO mapreduce.Job: Counters: 54\n",
            "\tFile System Counters\n",
            "\t\tFILE: Number of bytes read=328413\n",
            "\t\tFILE: Number of bytes written=1490327\n",
            "\t\tFILE: Number of read operations=0\n",
            "\t\tFILE: Number of large read operations=0\n",
            "\t\tFILE: Number of write operations=0\n",
            "\t\tHDFS: Number of bytes read=208650\n",
            "\t\tHDFS: Number of bytes written=6\n",
            "\t\tHDFS: Number of read operations=11\n",
            "\t\tHDFS: Number of large read operations=0\n",
            "\t\tHDFS: Number of write operations=2\n",
            "\t\tHDFS: Number of bytes read erasure-coded=0\n",
            "\tJob Counters \n",
            "\t\tLaunched map tasks=2\n",
            "\t\tLaunched reduce tasks=1\n",
            "\t\tData-local map tasks=2\n",
            "\t\tTotal time spent by all maps in occupied slots (ms)=12472\n",
            "\t\tTotal time spent by all reduces in occupied slots (ms)=3195\n",
            "\t\tTotal time spent by all map tasks (ms)=12472\n",
            "\t\tTotal time spent by all reduce tasks (ms)=3195\n",
            "\t\tTotal vcore-milliseconds taken by all map tasks=12472\n",
            "\t\tTotal vcore-milliseconds taken by all reduce tasks=3195\n",
            "\t\tTotal megabyte-milliseconds taken by all map tasks=12771328\n",
            "\t\tTotal megabyte-milliseconds taken by all reduce tasks=3271680\n",
            "\tMap-Reduce Framework\n",
            "\t\tMap input records=5068\n",
            "\t\tMap output records=34974\n",
            "\t\tMap output bytes=258459\n",
            "\t\tMap output materialized bytes=328419\n",
            "\t\tInput split bytes=190\n",
            "\t\tCombine input records=0\n",
            "\t\tCombine output records=0\n",
            "\t\tReduce input groups=6067\n",
            "\t\tReduce shuffle bytes=328419\n",
            "\t\tReduce input records=34974\n",
            "\t\tReduce output records=1\n",
            "\t\tSpilled Records=69948\n",
            "\t\tShuffled Maps =2\n",
            "\t\tFailed Shuffles=0\n",
            "\t\tMerged Map outputs=2\n",
            "\t\tGC time elapsed (ms)=107\n",
            "\t\tCPU time spent (ms)=2970\n",
            "\t\tPhysical memory (bytes) snapshot=780201984\n",
            "\t\tVirtual memory (bytes) snapshot=8331087872\n",
            "\t\tTotal committed heap usage (bytes)=648019968\n",
            "\t\tPeak Map Physical memory (bytes)=314249216\n",
            "\t\tPeak Map Virtual memory (bytes)=2776694784\n",
            "\t\tPeak Reduce Physical memory (bytes)=184578048\n",
            "\t\tPeak Reduce Virtual memory (bytes)=2781904896\n",
            "\tShuffle Errors\n",
            "\t\tBAD_ID=0\n",
            "\t\tCONNECTION=0\n",
            "\t\tIO_ERROR=0\n",
            "\t\tWRONG_LENGTH=0\n",
            "\t\tWRONG_MAP=0\n",
            "\t\tWRONG_REDUCE=0\n",
            "\tFile Input Format Counters \n",
            "\t\tBytes Read=208460\n",
            "\tFile Output Format Counters \n",
            "\t\tBytes Written=6\n",
            "2022-12-03 01:39:19,739 INFO streaming.StreamJob: Output directory: /word_count/python_output\n"
          ]
        }
      ],
      "source": [
        "!$HADOOP_HOME/bin/hadoop jar $HADOOP_HOME/share/hadoop/tools/lib/hadoop-streaming-3.3.3.jar \\\n",
        "  -input /word_count/pg1524.txt \\\n",
        "  -output /word_count/python_output \\\n",
        "  -mapper \"python /content/mapper.py\" \\\n",
        "  -reducer \"python /content/reducer.py\""
      ]
    },
    {
      "cell_type": "code",
      "execution_count": null,
      "metadata": {
        "colab": {
          "base_uri": "https://localhost:8080/"
        },
        "id": "Q59iwwNwNLEg",
        "outputId": "2230f591-0b1c-4f9f-c72e-1edaa1577775"
      },
      "outputs": [
        {
          "output_type": "stream",
          "name": "stdout",
          "text": [
            "Found 2 items\n",
            "-rw-r--r--   1 root supergroup          0 2022-12-03 01:39 /word_count/python_output/_SUCCESS\n",
            "-rw-r--r--   1 root supergroup          6 2022-12-03 01:39 /word_count/python_output/part-00000\n"
          ]
        }
      ],
      "source": [
        "!$HADOOP_HOME/bin/hdfs dfs -ls /word_count/python_output"
      ]
    },
    {
      "cell_type": "code",
      "execution_count": null,
      "metadata": {
        "colab": {
          "base_uri": "https://localhost:8080/"
        },
        "id": "IyihcHpHNR8k",
        "outputId": "bbc98588-0fd7-4cae-d2c0-d2117746f7a2"
      },
      "outputs": [
        {
          "output_type": "stream",
          "name": "stdout",
          "text": [
            "1018\t\n"
          ]
        }
      ],
      "source": [
        "!$HADOOP_HOME/bin/hdfs dfs -cat /word_count/python_output/part-00000"
      ]
    },
    {
      "cell_type": "code",
      "execution_count": null,
      "metadata": {
        "colab": {
          "base_uri": "https://localhost:8080/"
        },
        "id": "tEgYocEfN3-l",
        "outputId": "bba88982-3cf0-48a6-9344-8cceec63112b"
      },
      "outputs": [
        {
          "output_type": "stream",
          "name": "stdout",
          "text": [
            "Overwriting reducer.py\n"
          ]
        }
      ],
      "source": [
        "%%writefile reducer.py\n",
        "#!/usr/bin/env python\n",
        "  \n",
        "import sys\n",
        "from operator import itemgetter\n",
        "\n",
        "word = None\n",
        "wordCount = 0\n",
        "wordList = []\n",
        "  \n",
        "for line in sys.stdin:\n",
        "  line = line.strip()\n",
        "  word, count = line.split('\\t', 1)  \n",
        "  wordList.append(word)\n",
        "\n",
        "wordsdict = {x: wordList.count(x) for x in set(wordList)}\n",
        "\n",
        "for value in wordsdict.values():\n",
        "  if value == 1:\n",
        "    wordCount = wordCount + 1\n",
        "\n",
        "print(wordCount)    "
      ]
    },
    {
      "cell_type": "code",
      "execution_count": null,
      "metadata": {
        "id": "z1vfGJP_jdxn"
      },
      "outputs": [],
      "source": [
        "!chmod u+x /content/mapper.py /content/reducer.py"
      ]
    },
    {
      "cell_type": "code",
      "execution_count": null,
      "metadata": {
        "colab": {
          "base_uri": "https://localhost:8080/"
        },
        "id": "BqVW5OH0jpRI",
        "outputId": "e3a995db-1258-45e1-92b0-f1480b4ecd9f"
      },
      "outputs": [
        {
          "output_type": "stream",
          "name": "stdout",
          "text": [
            "packageJobJar: [/tmp/hadoop-unjar9539179321508996465/] [] /tmp/streamjob16068023235941485668.jar tmpDir=null\n",
            "2022-12-03 01:39:40,339 INFO client.DefaultNoHARMFailoverProxyProvider: Connecting to ResourceManager at localhost/127.0.0.1:8032\n",
            "2022-12-03 01:39:40,719 INFO client.DefaultNoHARMFailoverProxyProvider: Connecting to ResourceManager at localhost/127.0.0.1:8032\n",
            "2022-12-03 01:39:41,149 INFO mapreduce.JobResourceUploader: Disabling Erasure Coding for path: /tmp/hadoop-yarn/staging/root/.staging/job_1670031496891_0002\n",
            "2022-12-03 01:39:41,628 INFO mapred.FileInputFormat: Total input files to process : 1\n",
            "2022-12-03 01:39:41,809 INFO mapreduce.JobSubmitter: number of splits:2\n",
            "2022-12-03 01:39:42,278 INFO mapreduce.JobSubmitter: Submitting tokens for job: job_1670031496891_0002\n",
            "2022-12-03 01:39:42,278 INFO mapreduce.JobSubmitter: Executing with tokens: []\n",
            "2022-12-03 01:39:42,602 INFO conf.Configuration: resource-types.xml not found\n",
            "2022-12-03 01:39:42,602 INFO resource.ResourceUtils: Unable to find 'resource-types.xml'.\n",
            "2022-12-03 01:39:42,783 INFO impl.YarnClientImpl: Submitted application application_1670031496891_0002\n",
            "2022-12-03 01:39:42,851 INFO mapreduce.Job: The url to track the job: http://fb842b25c2b2:8088/proxy/application_1670031496891_0002/\n",
            "2022-12-03 01:39:42,855 INFO mapreduce.Job: Running job: job_1670031496891_0002\n",
            "2022-12-03 01:39:49,968 INFO mapreduce.Job: Job job_1670031496891_0002 running in uber mode : false\n",
            "2022-12-03 01:39:49,969 INFO mapreduce.Job:  map 0% reduce 0%\n",
            "2022-12-03 01:39:58,056 INFO mapreduce.Job:  map 100% reduce 0%\n",
            "2022-12-03 01:40:06,111 INFO mapreduce.Job:  map 100% reduce 100%\n",
            "2022-12-03 01:40:07,126 INFO mapreduce.Job: Job job_1670031496891_0002 completed successfully\n",
            "2022-12-03 01:40:07,217 INFO mapreduce.Job: Counters: 54\n",
            "\tFile System Counters\n",
            "\t\tFILE: Number of bytes read=328413\n",
            "\t\tFILE: Number of bytes written=1490333\n",
            "\t\tFILE: Number of read operations=0\n",
            "\t\tFILE: Number of large read operations=0\n",
            "\t\tFILE: Number of write operations=0\n",
            "\t\tHDFS: Number of bytes read=208650\n",
            "\t\tHDFS: Number of bytes written=6\n",
            "\t\tHDFS: Number of read operations=11\n",
            "\t\tHDFS: Number of large read operations=0\n",
            "\t\tHDFS: Number of write operations=2\n",
            "\t\tHDFS: Number of bytes read erasure-coded=0\n",
            "\tJob Counters \n",
            "\t\tLaunched map tasks=2\n",
            "\t\tLaunched reduce tasks=1\n",
            "\t\tData-local map tasks=2\n",
            "\t\tTotal time spent by all maps in occupied slots (ms)=11948\n",
            "\t\tTotal time spent by all reduces in occupied slots (ms)=5767\n",
            "\t\tTotal time spent by all map tasks (ms)=11948\n",
            "\t\tTotal time spent by all reduce tasks (ms)=5767\n",
            "\t\tTotal vcore-milliseconds taken by all map tasks=11948\n",
            "\t\tTotal vcore-milliseconds taken by all reduce tasks=5767\n",
            "\t\tTotal megabyte-milliseconds taken by all map tasks=12234752\n",
            "\t\tTotal megabyte-milliseconds taken by all reduce tasks=5905408\n",
            "\tMap-Reduce Framework\n",
            "\t\tMap input records=5068\n",
            "\t\tMap output records=34974\n",
            "\t\tMap output bytes=258459\n",
            "\t\tMap output materialized bytes=328419\n",
            "\t\tInput split bytes=190\n",
            "\t\tCombine input records=0\n",
            "\t\tCombine output records=0\n",
            "\t\tReduce input groups=6067\n",
            "\t\tReduce shuffle bytes=328419\n",
            "\t\tReduce input records=34974\n",
            "\t\tReduce output records=1\n",
            "\t\tSpilled Records=69948\n",
            "\t\tShuffled Maps =2\n",
            "\t\tFailed Shuffles=0\n",
            "\t\tMerged Map outputs=2\n",
            "\t\tGC time elapsed (ms)=137\n",
            "\t\tCPU time spent (ms)=3200\n",
            "\t\tPhysical memory (bytes) snapshot=785797120\n",
            "\t\tVirtual memory (bytes) snapshot=8332820480\n",
            "\t\tTotal committed heap usage (bytes)=648019968\n",
            "\t\tPeak Map Physical memory (bytes)=311963648\n",
            "\t\tPeak Map Virtual memory (bytes)=2773336064\n",
            "\t\tPeak Reduce Physical memory (bytes)=193757184\n",
            "\t\tPeak Reduce Virtual memory (bytes)=2786963456\n",
            "\tShuffle Errors\n",
            "\t\tBAD_ID=0\n",
            "\t\tCONNECTION=0\n",
            "\t\tIO_ERROR=0\n",
            "\t\tWRONG_LENGTH=0\n",
            "\t\tWRONG_MAP=0\n",
            "\t\tWRONG_REDUCE=0\n",
            "\tFile Input Format Counters \n",
            "\t\tBytes Read=208460\n",
            "\tFile Output Format Counters \n",
            "\t\tBytes Written=6\n",
            "2022-12-03 01:40:07,217 INFO streaming.StreamJob: Output directory: /word_count/python_output1\n"
          ]
        }
      ],
      "source": [
        "!$HADOOP_HOME/bin/hadoop jar $HADOOP_HOME/share/hadoop/tools/lib/hadoop-streaming-3.3.3.jar \\\n",
        "  -input /word_count/pg1524.txt \\\n",
        "  -output /word_count/python_output1 \\\n",
        "  -mapper \"python /content/mapper.py\" \\\n",
        "  -reducer \"python /content/reducer.py\""
      ]
    },
    {
      "cell_type": "code",
      "execution_count": null,
      "metadata": {
        "colab": {
          "base_uri": "https://localhost:8080/"
        },
        "id": "KGqRdayYkAjv",
        "outputId": "5caddd1c-ca5a-4bf2-b199-b2beacdc996f"
      },
      "outputs": [
        {
          "output_type": "stream",
          "name": "stdout",
          "text": [
            "Found 2 items\n",
            "-rw-r--r--   1 root supergroup          0 2022-12-03 01:40 /word_count/python_output1/_SUCCESS\n",
            "-rw-r--r--   1 root supergroup          6 2022-12-03 01:40 /word_count/python_output1/part-00000\n"
          ]
        }
      ],
      "source": [
        "!$HADOOP_HOME/bin/hdfs dfs -ls /word_count/python_output1"
      ]
    },
    {
      "cell_type": "code",
      "execution_count": null,
      "metadata": {
        "colab": {
          "base_uri": "https://localhost:8080/"
        },
        "id": "kShWW19tkIHA",
        "outputId": "0b29af5b-e23d-45aa-cc5f-05171b038a92"
      },
      "outputs": [
        {
          "output_type": "stream",
          "name": "stdout",
          "text": [
            "3686\t\n"
          ]
        }
      ],
      "source": [
        "!$HADOOP_HOME/bin/hdfs dfs -cat /word_count/python_output1/part-00000"
      ]
    },
    {
      "cell_type": "code",
      "execution_count": null,
      "metadata": {
        "colab": {
          "base_uri": "https://localhost:8080/"
        },
        "id": "WSc2QE5pkakW",
        "outputId": "594b2fac-da41-4c1c-eb5e-6306a9551d7b"
      },
      "outputs": [
        {
          "output_type": "stream",
          "name": "stdout",
          "text": [
            "Overwriting reducer.py\n"
          ]
        }
      ],
      "source": [
        "%%writefile reducer.py\n",
        "#!/usr/bin/env python\n",
        "  \n",
        "import sys\n",
        "from operator import itemgetter\n",
        "  \n",
        "word = None\n",
        "wordList = []\n",
        "  \n",
        "for line in sys.stdin:\n",
        "  line = line.strip()\n",
        "  word, count = line.split('\\t', 1)  \n",
        "  wordList.append(word)\n",
        "\n",
        "wordsdict = {x: wordList.count(x) for x in set(wordList)}\n",
        "\n",
        "for key,value in wordsdict.items():\n",
        "  if (value == max(wordsdict.values())):\n",
        "    print(key,value)"
      ]
    },
    {
      "cell_type": "code",
      "execution_count": null,
      "metadata": {
        "id": "oGOy7kAxli-J"
      },
      "outputs": [],
      "source": [
        "!chmod u+x /content/mapper.py /content/reducer.py"
      ]
    },
    {
      "cell_type": "code",
      "execution_count": null,
      "metadata": {
        "colab": {
          "base_uri": "https://localhost:8080/"
        },
        "id": "t5Oi-jP0mG9W",
        "outputId": "0c7aa4b4-fccb-4d69-fadf-85e275e1acf7"
      },
      "outputs": [
        {
          "output_type": "stream",
          "name": "stdout",
          "text": [
            "packageJobJar: [/tmp/hadoop-unjar702465823826245382/] [] /tmp/streamjob5831185363276792883.jar tmpDir=null\n",
            "2022-12-03 01:40:26,930 INFO client.DefaultNoHARMFailoverProxyProvider: Connecting to ResourceManager at localhost/127.0.0.1:8032\n",
            "2022-12-03 01:40:27,098 INFO client.DefaultNoHARMFailoverProxyProvider: Connecting to ResourceManager at localhost/127.0.0.1:8032\n",
            "2022-12-03 01:40:27,349 INFO mapreduce.JobResourceUploader: Disabling Erasure Coding for path: /tmp/hadoop-yarn/staging/root/.staging/job_1670031496891_0003\n",
            "2022-12-03 01:40:27,630 INFO mapred.FileInputFormat: Total input files to process : 1\n",
            "2022-12-03 01:40:27,720 INFO mapreduce.JobSubmitter: number of splits:2\n",
            "2022-12-03 01:40:28,391 INFO mapreduce.JobSubmitter: Submitting tokens for job: job_1670031496891_0003\n",
            "2022-12-03 01:40:28,391 INFO mapreduce.JobSubmitter: Executing with tokens: []\n",
            "2022-12-03 01:40:28,580 INFO conf.Configuration: resource-types.xml not found\n",
            "2022-12-03 01:40:28,580 INFO resource.ResourceUtils: Unable to find 'resource-types.xml'.\n",
            "2022-12-03 01:40:28,653 INFO impl.YarnClientImpl: Submitted application application_1670031496891_0003\n",
            "2022-12-03 01:40:28,681 INFO mapreduce.Job: The url to track the job: http://fb842b25c2b2:8088/proxy/application_1670031496891_0003/\n",
            "2022-12-03 01:40:28,682 INFO mapreduce.Job: Running job: job_1670031496891_0003\n",
            "2022-12-03 01:40:34,796 INFO mapreduce.Job: Job job_1670031496891_0003 running in uber mode : false\n",
            "2022-12-03 01:40:34,798 INFO mapreduce.Job:  map 0% reduce 0%\n",
            "2022-12-03 01:40:42,910 INFO mapreduce.Job:  map 100% reduce 0%\n",
            "2022-12-03 01:40:51,982 INFO mapreduce.Job:  map 100% reduce 100%\n",
            "2022-12-03 01:40:51,990 INFO mapreduce.Job: Job job_1670031496891_0003 completed successfully\n",
            "2022-12-03 01:40:52,082 INFO mapreduce.Job: Counters: 54\n",
            "\tFile System Counters\n",
            "\t\tFILE: Number of bytes read=328413\n",
            "\t\tFILE: Number of bytes written=1490330\n",
            "\t\tFILE: Number of read operations=0\n",
            "\t\tFILE: Number of large read operations=0\n",
            "\t\tFILE: Number of write operations=0\n",
            "\t\tHDFS: Number of bytes read=208650\n",
            "\t\tHDFS: Number of bytes written=10\n",
            "\t\tHDFS: Number of read operations=11\n",
            "\t\tHDFS: Number of large read operations=0\n",
            "\t\tHDFS: Number of write operations=2\n",
            "\t\tHDFS: Number of bytes read erasure-coded=0\n",
            "\tJob Counters \n",
            "\t\tLaunched map tasks=2\n",
            "\t\tLaunched reduce tasks=1\n",
            "\t\tData-local map tasks=2\n",
            "\t\tTotal time spent by all maps in occupied slots (ms)=11860\n",
            "\t\tTotal time spent by all reduces in occupied slots (ms)=5632\n",
            "\t\tTotal time spent by all map tasks (ms)=11860\n",
            "\t\tTotal time spent by all reduce tasks (ms)=5632\n",
            "\t\tTotal vcore-milliseconds taken by all map tasks=11860\n",
            "\t\tTotal vcore-milliseconds taken by all reduce tasks=5632\n",
            "\t\tTotal megabyte-milliseconds taken by all map tasks=12144640\n",
            "\t\tTotal megabyte-milliseconds taken by all reduce tasks=5767168\n",
            "\tMap-Reduce Framework\n",
            "\t\tMap input records=5068\n",
            "\t\tMap output records=34974\n",
            "\t\tMap output bytes=258459\n",
            "\t\tMap output materialized bytes=328419\n",
            "\t\tInput split bytes=190\n",
            "\t\tCombine input records=0\n",
            "\t\tCombine output records=0\n",
            "\t\tReduce input groups=6067\n",
            "\t\tReduce shuffle bytes=328419\n",
            "\t\tReduce input records=34974\n",
            "\t\tReduce output records=1\n",
            "\t\tSpilled Records=69948\n",
            "\t\tShuffled Maps =2\n",
            "\t\tFailed Shuffles=0\n",
            "\t\tMerged Map outputs=2\n",
            "\t\tGC time elapsed (ms)=85\n",
            "\t\tCPU time spent (ms)=2810\n",
            "\t\tPhysical memory (bytes) snapshot=832294912\n",
            "\t\tVirtual memory (bytes) snapshot=8334172160\n",
            "\t\tTotal committed heap usage (bytes)=674234368\n",
            "\t\tPeak Map Physical memory (bytes)=317775872\n",
            "\t\tPeak Map Virtual memory (bytes)=2780745728\n",
            "\t\tPeak Reduce Physical memory (bytes)=229715968\n",
            "\t\tPeak Reduce Virtual memory (bytes)=2776424448\n",
            "\tShuffle Errors\n",
            "\t\tBAD_ID=0\n",
            "\t\tCONNECTION=0\n",
            "\t\tIO_ERROR=0\n",
            "\t\tWRONG_LENGTH=0\n",
            "\t\tWRONG_MAP=0\n",
            "\t\tWRONG_REDUCE=0\n",
            "\tFile Input Format Counters \n",
            "\t\tBytes Read=208460\n",
            "\tFile Output Format Counters \n",
            "\t\tBytes Written=10\n",
            "2022-12-03 01:40:52,082 INFO streaming.StreamJob: Output directory: /word_count/python_output2\n"
          ]
        }
      ],
      "source": [
        "!$HADOOP_HOME/bin/hadoop jar $HADOOP_HOME/share/hadoop/tools/lib/hadoop-streaming-3.3.3.jar \\\n",
        "  -input /word_count/pg1524.txt \\\n",
        "  -output /word_count/python_output2 \\\n",
        "  -mapper \"python /content/mapper.py\" \\\n",
        "  -reducer \"python /content/reducer.py\""
      ]
    },
    {
      "cell_type": "code",
      "execution_count": null,
      "metadata": {
        "colab": {
          "base_uri": "https://localhost:8080/"
        },
        "id": "PfeQgWbxmQJt",
        "outputId": "cdcedbca-9d84-49cd-d533-80fbd5379fe5"
      },
      "outputs": [
        {
          "output_type": "stream",
          "name": "stdout",
          "text": [
            "Found 2 items\n",
            "-rw-r--r--   1 root supergroup          0 2022-12-03 01:40 /word_count/python_output2/_SUCCESS\n",
            "-rw-r--r--   1 root supergroup         10 2022-12-03 01:40 /word_count/python_output2/part-00000\n"
          ]
        }
      ],
      "source": [
        "!$HADOOP_HOME/bin/hdfs dfs -ls /word_count/python_output2"
      ]
    },
    {
      "cell_type": "code",
      "execution_count": null,
      "metadata": {
        "colab": {
          "base_uri": "https://localhost:8080/"
        },
        "id": "OF66a547mVCv",
        "outputId": "52f725e6-530f-408b-a453-6de83a46d8af"
      },
      "outputs": [
        {
          "output_type": "stream",
          "name": "stdout",
          "text": [
            "the 1118\t\n"
          ]
        }
      ],
      "source": [
        "!$HADOOP_HOME/bin/hdfs dfs -cat /word_count/python_output2/part-00000"
      ]
    },
    {
      "cell_type": "code",
      "execution_count": null,
      "metadata": {
        "colab": {
          "base_uri": "https://localhost:8080/"
        },
        "id": "fPTekfKIaqvs",
        "outputId": "7dfbab47-7703-426e-a671-391e9469fc7c"
      },
      "outputs": [
        {
          "output_type": "stream",
          "name": "stdout",
          "text": [
            "Overwriting mapper.py\n"
          ]
        }
      ],
      "source": [
        "%%writefile mapper.py\n",
        "\n",
        "#!/usr/bin/env python\n",
        "\n",
        "import sys\n",
        "import string\n",
        "\n",
        "wordList = []\n",
        "\n",
        "for line in sys.stdin:\n",
        "  for i in string.punctuation:\n",
        "    line = line.replace(i,'')\n",
        "    line = line.strip()\n",
        "    words = line.split()\n",
        "  for word in words:\n",
        "    wordList.append(word)\n",
        "wordsdict = {x: wordList.count(x) for x in set(wordList)}\n",
        "for key, value in wordsdict.items():\n",
        "    if (value == max(wordsdict.values())):\n",
        "        frequentKey = key\n",
        "for i in range(0, len(wordList)):\n",
        "    if wordList[i] == frequentKey:\n",
        "        print('%s\\t%s' % (frequentKey, wordList[i + 1]))"
      ]
    },
    {
      "cell_type": "code",
      "execution_count": null,
      "metadata": {
        "colab": {
          "base_uri": "https://localhost:8080/"
        },
        "id": "nUAKG9xcoDNm",
        "outputId": "d5a89a4d-f975-4638-8600-3ea3c6b5a531"
      },
      "outputs": [
        {
          "output_type": "stream",
          "name": "stdout",
          "text": [
            "Overwriting reducer.py\n"
          ]
        }
      ],
      "source": [
        "%%writefile reducer.py\n",
        "\n",
        "#!/usr/bin/env python\n",
        "  \n",
        "import sys\n",
        "from operator import itemgetter\n",
        "\n",
        "resultList = []\n",
        "for line in sys.stdin: \n",
        "  line = line.strip()\n",
        "  word1, word2 = line.split('\\t', 1)\n",
        "  resultList.append(word2) \n",
        "\n",
        "wordsdict = {x: resultList.count(x) for x in set(resultList)}\n",
        "\n",
        "for key,value in wordsdict.items():\n",
        "  if (value == max(wordsdict.values())):\n",
        "    print(key,end = \" \")  "
      ]
    },
    {
      "cell_type": "code",
      "execution_count": null,
      "metadata": {
        "id": "nJESAtr9-PLx"
      },
      "outputs": [],
      "source": [
        "!chmod u+x /content/mapper.py /content/reducer.py"
      ]
    },
    {
      "cell_type": "code",
      "execution_count": null,
      "metadata": {
        "colab": {
          "base_uri": "https://localhost:8080/"
        },
        "id": "phVC6uwN-VmK",
        "outputId": "78f96499-b444-4c75-dd36-cf88e805fdc2"
      },
      "outputs": [
        {
          "output_type": "stream",
          "name": "stdout",
          "text": [
            "packageJobJar: [/tmp/hadoop-unjar3316856663501225351/] [] /tmp/streamjob3368936947984641729.jar tmpDir=null\n",
            "2022-12-03 01:41:14,920 INFO client.DefaultNoHARMFailoverProxyProvider: Connecting to ResourceManager at localhost/127.0.0.1:8032\n",
            "2022-12-03 01:41:15,088 INFO client.DefaultNoHARMFailoverProxyProvider: Connecting to ResourceManager at localhost/127.0.0.1:8032\n",
            "2022-12-03 01:41:15,310 INFO mapreduce.JobResourceUploader: Disabling Erasure Coding for path: /tmp/hadoop-yarn/staging/root/.staging/job_1670031496891_0004\n",
            "2022-12-03 01:41:15,575 INFO mapred.FileInputFormat: Total input files to process : 1\n",
            "2022-12-03 01:41:16,069 INFO mapreduce.JobSubmitter: number of splits:2\n",
            "2022-12-03 01:41:16,370 INFO mapreduce.JobSubmitter: Submitting tokens for job: job_1670031496891_0004\n",
            "2022-12-03 01:41:16,370 INFO mapreduce.JobSubmitter: Executing with tokens: []\n",
            "2022-12-03 01:41:16,565 INFO conf.Configuration: resource-types.xml not found\n",
            "2022-12-03 01:41:16,565 INFO resource.ResourceUtils: Unable to find 'resource-types.xml'.\n",
            "2022-12-03 01:41:16,622 INFO impl.YarnClientImpl: Submitted application application_1670031496891_0004\n",
            "2022-12-03 01:41:16,658 INFO mapreduce.Job: The url to track the job: http://fb842b25c2b2:8088/proxy/application_1670031496891_0004/\n",
            "2022-12-03 01:41:16,659 INFO mapreduce.Job: Running job: job_1670031496891_0004\n",
            "2022-12-03 01:41:22,786 INFO mapreduce.Job: Job job_1670031496891_0004 running in uber mode : false\n",
            "2022-12-03 01:41:22,787 INFO mapreduce.Job:  map 0% reduce 0%\n",
            "2022-12-03 01:41:32,905 INFO mapreduce.Job:  map 100% reduce 0%\n",
            "2022-12-03 01:41:37,945 INFO mapreduce.Job:  map 100% reduce 100%\n",
            "2022-12-03 01:41:37,965 INFO mapreduce.Job: Job job_1670031496891_0004 completed successfully\n",
            "2022-12-03 01:41:38,087 INFO mapreduce.Job: Counters: 54\n",
            "\tFile System Counters\n",
            "\t\tFILE: Number of bytes read=14272\n",
            "\t\tFILE: Number of bytes written=862048\n",
            "\t\tFILE: Number of read operations=0\n",
            "\t\tFILE: Number of large read operations=0\n",
            "\t\tFILE: Number of write operations=0\n",
            "\t\tHDFS: Number of bytes read=208650\n",
            "\t\tHDFS: Number of bytes written=14\n",
            "\t\tHDFS: Number of read operations=11\n",
            "\t\tHDFS: Number of large read operations=0\n",
            "\t\tHDFS: Number of write operations=2\n",
            "\t\tHDFS: Number of bytes read erasure-coded=0\n",
            "\tJob Counters \n",
            "\t\tLaunched map tasks=2\n",
            "\t\tLaunched reduce tasks=1\n",
            "\t\tData-local map tasks=2\n",
            "\t\tTotal time spent by all maps in occupied slots (ms)=14999\n",
            "\t\tTotal time spent by all reduces in occupied slots (ms)=2925\n",
            "\t\tTotal time spent by all map tasks (ms)=14999\n",
            "\t\tTotal time spent by all reduce tasks (ms)=2925\n",
            "\t\tTotal vcore-milliseconds taken by all map tasks=14999\n",
            "\t\tTotal vcore-milliseconds taken by all reduce tasks=2925\n",
            "\t\tTotal megabyte-milliseconds taken by all map tasks=15358976\n",
            "\t\tTotal megabyte-milliseconds taken by all reduce tasks=2995200\n",
            "\tMap-Reduce Framework\n",
            "\t\tMap input records=5068\n",
            "\t\tMap output records=1118\n",
            "\t\tMap output bytes=12030\n",
            "\t\tMap output materialized bytes=14278\n",
            "\t\tInput split bytes=190\n",
            "\t\tCombine input records=0\n",
            "\t\tCombine output records=0\n",
            "\t\tReduce input groups=1\n",
            "\t\tReduce shuffle bytes=14278\n",
            "\t\tReduce input records=1118\n",
            "\t\tReduce output records=1\n",
            "\t\tSpilled Records=2236\n",
            "\t\tShuffled Maps =2\n",
            "\t\tFailed Shuffles=0\n",
            "\t\tMerged Map outputs=2\n",
            "\t\tGC time elapsed (ms)=102\n",
            "\t\tCPU time spent (ms)=2030\n",
            "\t\tPhysical memory (bytes) snapshot=781139968\n",
            "\t\tVirtual memory (bytes) snapshot=8328171520\n",
            "\t\tTotal committed heap usage (bytes)=648019968\n",
            "\t\tPeak Map Physical memory (bytes)=311967744\n",
            "\t\tPeak Map Virtual memory (bytes)=2777939968\n",
            "\t\tPeak Reduce Physical memory (bytes)=183586816\n",
            "\t\tPeak Reduce Virtual memory (bytes)=2777694208\n",
            "\tShuffle Errors\n",
            "\t\tBAD_ID=0\n",
            "\t\tCONNECTION=0\n",
            "\t\tIO_ERROR=0\n",
            "\t\tWRONG_LENGTH=0\n",
            "\t\tWRONG_MAP=0\n",
            "\t\tWRONG_REDUCE=0\n",
            "\tFile Input Format Counters \n",
            "\t\tBytes Read=208460\n",
            "\tFile Output Format Counters \n",
            "\t\tBytes Written=14\n",
            "2022-12-03 01:41:38,088 INFO streaming.StreamJob: Output directory: /word_count/python_output3\n"
          ]
        }
      ],
      "source": [
        "!$HADOOP_HOME/bin/hadoop jar $HADOOP_HOME/share/hadoop/tools/lib/hadoop-streaming-3.3.3.jar \\\n",
        "  -input /word_count/pg1524.txt \\\n",
        "  -output /word_count/python_output3 \\\n",
        "  -mapper \"python /content/mapper.py\" \\\n",
        "  -reducer \"python /content/reducer.py\""
      ]
    },
    {
      "cell_type": "code",
      "execution_count": null,
      "metadata": {
        "colab": {
          "base_uri": "https://localhost:8080/"
        },
        "id": "1wNcxmZv-hAo",
        "outputId": "3b0b28b3-30ea-45fb-8f75-fb81d5c12eca"
      },
      "outputs": [
        {
          "output_type": "stream",
          "name": "stdout",
          "text": [
            "Found 2 items\n",
            "-rw-r--r--   1 root supergroup          0 2022-12-03 01:41 /word_count/python_output3/_SUCCESS\n",
            "-rw-r--r--   1 root supergroup         14 2022-12-03 01:41 /word_count/python_output3/part-00000\n"
          ]
        }
      ],
      "source": [
        "!$HADOOP_HOME/bin/hdfs dfs -ls /word_count/python_output3"
      ]
    },
    {
      "cell_type": "code",
      "execution_count": null,
      "metadata": {
        "colab": {
          "base_uri": "https://localhost:8080/"
        },
        "id": "Z203RwmU_YsB",
        "outputId": "5ce67965-89b3-4bf4-dc5b-e055988ce1f7"
      },
      "outputs": [
        {
          "output_type": "stream",
          "name": "stdout",
          "text": [
            "Castle King \t\n"
          ]
        }
      ],
      "source": [
        "!$HADOOP_HOME/bin/hdfs dfs -cat /word_count/python_output3/part-00000"
      ]
    },
    {
      "cell_type": "code",
      "execution_count": null,
      "metadata": {
        "colab": {
          "base_uri": "https://localhost:8080/"
        },
        "id": "chwg8L5P6U9z",
        "outputId": "21fa7051-cc89-434d-c1fa-70578bfb81bf"
      },
      "outputs": [
        {
          "output_type": "stream",
          "name": "stdout",
          "text": [
            "--2022-12-03 01:41:54--  https://csserver.ucd.ie/~thomas/tweets.tsv\n",
            "Resolving csserver.ucd.ie (csserver.ucd.ie)... 193.1.133.60\n",
            "Connecting to csserver.ucd.ie (csserver.ucd.ie)|193.1.133.60|:443... connected.\n",
            "HTTP request sent, awaiting response... 200 OK\n",
            "Length: 22470255 (21M) [text/tab-separated-values]\n",
            "Saving to: ‘tweets.tsv’\n",
            "\n",
            "tweets.tsv          100%[===================>]  21.43M  17.0MB/s    in 1.3s    \n",
            "\n",
            "2022-12-03 01:41:55 (17.0 MB/s) - ‘tweets.tsv’ saved [22470255/22470255]\n",
            "\n"
          ]
        }
      ],
      "source": [
        "!wget https://csserver.ucd.ie/~thomas/tweets.tsv"
      ]
    },
    {
      "cell_type": "code",
      "execution_count": null,
      "metadata": {
        "colab": {
          "base_uri": "https://localhost:8080/"
        },
        "id": "pEg7V71W6fqj",
        "outputId": "293a0ceb-4e16-4785-8402-4b996668c870"
      },
      "outputs": [
        {
          "output_type": "stream",
          "name": "stdout",
          "text": [
            "Selecting previously unselected package openjdk-8-jre-headless:amd64.\n",
            "(Reading database ... \r(Reading database ... 5%\r(Reading database ... 10%\r(Reading database ... 15%\r(Reading database ... 20%\r(Reading database ... 25%\r(Reading database ... 30%\r(Reading database ... 35%\r(Reading database ... 40%\r(Reading database ... 45%\r(Reading database ... 50%\r(Reading database ... 55%\r(Reading database ... 60%\r(Reading database ... 65%\r(Reading database ... 70%\r(Reading database ... 75%\r(Reading database ... 80%\r(Reading database ... 85%\r(Reading database ... 90%\r(Reading database ... 95%\r(Reading database ... 100%\r(Reading database ... 127534 files and directories currently installed.)\n",
            "Preparing to unpack .../openjdk-8-jre-headless_8u352-ga-1~18.04_amd64.deb ...\n",
            "Unpacking openjdk-8-jre-headless:amd64 (8u352-ga-1~18.04) ...\n",
            "Selecting previously unselected package openjdk-8-jdk-headless:amd64.\n",
            "Preparing to unpack .../openjdk-8-jdk-headless_8u352-ga-1~18.04_amd64.deb ...\n",
            "Unpacking openjdk-8-jdk-headless:amd64 (8u352-ga-1~18.04) ...\n",
            "Setting up openjdk-8-jre-headless:amd64 (8u352-ga-1~18.04) ...\n",
            "update-alternatives: using /usr/lib/jvm/java-8-openjdk-amd64/jre/bin/orbd to provide /usr/bin/orbd (orbd) in auto mode\n",
            "update-alternatives: using /usr/lib/jvm/java-8-openjdk-amd64/jre/bin/servertool to provide /usr/bin/servertool (servertool) in auto mode\n",
            "update-alternatives: using /usr/lib/jvm/java-8-openjdk-amd64/jre/bin/tnameserv to provide /usr/bin/tnameserv (tnameserv) in auto mode\n",
            "Setting up openjdk-8-jdk-headless:amd64 (8u352-ga-1~18.04) ...\n",
            "update-alternatives: using /usr/lib/jvm/java-8-openjdk-amd64/bin/idlj to provide /usr/bin/idlj (idlj) in auto mode\n",
            "update-alternatives: using /usr/lib/jvm/java-8-openjdk-amd64/bin/wsimport to provide /usr/bin/wsimport (wsimport) in auto mode\n",
            "update-alternatives: using /usr/lib/jvm/java-8-openjdk-amd64/bin/jsadebugd to provide /usr/bin/jsadebugd (jsadebugd) in auto mode\n",
            "update-alternatives: using /usr/lib/jvm/java-8-openjdk-amd64/bin/native2ascii to provide /usr/bin/native2ascii (native2ascii) in auto mode\n",
            "update-alternatives: using /usr/lib/jvm/java-8-openjdk-amd64/bin/javah to provide /usr/bin/javah (javah) in auto mode\n",
            "update-alternatives: using /usr/lib/jvm/java-8-openjdk-amd64/bin/clhsdb to provide /usr/bin/clhsdb (clhsdb) in auto mode\n",
            "update-alternatives: using /usr/lib/jvm/java-8-openjdk-amd64/bin/xjc to provide /usr/bin/xjc (xjc) in auto mode\n",
            "update-alternatives: using /usr/lib/jvm/java-8-openjdk-amd64/bin/hsdb to provide /usr/bin/hsdb (hsdb) in auto mode\n",
            "update-alternatives: using /usr/lib/jvm/java-8-openjdk-amd64/bin/schemagen to provide /usr/bin/schemagen (schemagen) in auto mode\n",
            "update-alternatives: using /usr/lib/jvm/java-8-openjdk-amd64/bin/extcheck to provide /usr/bin/extcheck (extcheck) in auto mode\n",
            "update-alternatives: using /usr/lib/jvm/java-8-openjdk-amd64/bin/jhat to provide /usr/bin/jhat (jhat) in auto mode\n",
            "update-alternatives: using /usr/lib/jvm/java-8-openjdk-amd64/bin/wsgen to provide /usr/bin/wsgen (wsgen) in auto mode\n"
          ]
        }
      ],
      "source": [
        "!apt-get install openjdk-8-jdk-headless -qq"
      ]
    },
    {
      "cell_type": "code",
      "execution_count": null,
      "metadata": {
        "colab": {
          "base_uri": "https://localhost:8080/"
        },
        "id": "2WLgFFU06fth",
        "outputId": "05616911-534e-4c91-874f-20f785e06a55"
      },
      "outputs": [
        {
          "output_type": "stream",
          "name": "stdout",
          "text": [
            "--2022-12-03 01:42:11--  https://dlcdn.apache.org/spark/spark-3.3.1/spark-3.3.1-bin-hadoop3.tgz\n",
            "Resolving dlcdn.apache.org (dlcdn.apache.org)... 151.101.2.132, 2a04:4e42::644\n",
            "Connecting to dlcdn.apache.org (dlcdn.apache.org)|151.101.2.132|:443... connected.\n",
            "HTTP request sent, awaiting response... 200 OK\n",
            "Length: 299350810 (285M) [application/x-gzip]\n",
            "Saving to: ‘spark-3.3.1-bin-hadoop3.tgz’\n",
            "\n",
            "spark-3.3.1-bin-had 100%[===================>] 285.48M   213MB/s    in 1.3s    \n",
            "\n",
            "2022-12-03 01:42:13 (213 MB/s) - ‘spark-3.3.1-bin-hadoop3.tgz’ saved [299350810/299350810]\n",
            "\n"
          ]
        }
      ],
      "source": [
        "!wget https://dlcdn.apache.org/spark/spark-3.3.1/spark-3.3.1-bin-hadoop3.tgz\n",
        "!tar xf spark-3.3.1-bin-hadoop3.tgz\n",
        "!rm spark-3.3.1-bin-hadoop3.tgz  "
      ]
    },
    {
      "cell_type": "code",
      "execution_count": null,
      "metadata": {
        "id": "wCDk0pJm6fwL"
      },
      "outputs": [],
      "source": [
        "import os\n",
        "os.environ[\"JAVA_HOME\"] = \"/usr/lib/jvm/java-8-openjdk-amd64\"\n",
        "os.environ[\"SPARK_HOME\"] = \"/content/spark-3.3.1-bin-hadoop3\""
      ]
    },
    {
      "cell_type": "code",
      "execution_count": null,
      "metadata": {
        "id": "_6ON0psu6fya"
      },
      "outputs": [],
      "source": [
        "!pip install -q findspark\n",
        "import findspark\n",
        "findspark.init()"
      ]
    },
    {
      "cell_type": "code",
      "execution_count": null,
      "metadata": {
        "colab": {
          "base_uri": "https://localhost:8080/",
          "height": 221
        },
        "id": "TH8Fq45-6f1I",
        "outputId": "83f10bc4-bd34-4d7f-8488-7979251cd40a"
      },
      "outputs": [
        {
          "output_type": "execute_result",
          "data": {
            "text/plain": [
              "<pyspark.sql.session.SparkSession at 0x7fb42605af70>"
            ],
            "text/html": [
              "\n",
              "            <div>\n",
              "                <p><b>SparkSession - in-memory</b></p>\n",
              "                \n",
              "        <div>\n",
              "            <p><b>SparkContext</b></p>\n",
              "\n",
              "            <p><a href=\"http://fb842b25c2b2:4040\">Spark UI</a></p>\n",
              "\n",
              "            <dl>\n",
              "              <dt>Version</dt>\n",
              "                <dd><code>v3.3.1</code></dd>\n",
              "              <dt>Master</dt>\n",
              "                <dd><code>local[*]</code></dd>\n",
              "              <dt>AppName</dt>\n",
              "                <dd><code>pyspark-shell</code></dd>\n",
              "            </dl>\n",
              "        </div>\n",
              "        \n",
              "            </div>\n",
              "        "
            ]
          },
          "metadata": {},
          "execution_count": 75
        }
      ],
      "source": [
        "from pyspark.sql import SparkSession\n",
        "spark = SparkSession.builder.master(\"local[*]\").getOrCreate()\n",
        "spark.conf.set(\"spark.sql.repl.eagerEval.enabled\", True) \n",
        "spark"
      ]
    },
    {
      "cell_type": "code",
      "execution_count": null,
      "metadata": {
        "colab": {
          "base_uri": "https://localhost:8080/"
        },
        "id": "rULk5giq6f3Q",
        "outputId": "9c90ecc6-fc45-49d0-af9c-537c65bcba0d"
      },
      "outputs": [
        {
          "output_type": "stream",
          "name": "stdout",
          "text": [
            "--2022-12-03 01:42:38--  https://s3.ca-central-1.amazonaws.com/climate-mirror/www.ncdc.noaa.gov/orders/qclcd/QCLCD201508.zip\n",
            "Resolving s3.ca-central-1.amazonaws.com (s3.ca-central-1.amazonaws.com)... 52.95.145.209\n",
            "Connecting to s3.ca-central-1.amazonaws.com (s3.ca-central-1.amazonaws.com)|52.95.145.209|:443... connected.\n",
            "HTTP request sent, awaiting response... 200 OK\n",
            "Length: 76187033 (73M) [application/zip]\n",
            "Saving to: ‘QCLCD201508.zip’\n",
            "\n",
            "QCLCD201508.zip     100%[===================>]  72.66M  64.5MB/s    in 1.1s    \n",
            "\n",
            "2022-12-03 01:42:39 (64.5 MB/s) - ‘QCLCD201508.zip’ saved [76187033/76187033]\n",
            "\n",
            "Archive:  QCLCD201508.zip\n",
            "  inflating: 201508monthly.txt       \n",
            "  inflating: 201508remarks.txt       \n",
            "  inflating: 201508hourly.txt        \n",
            "  inflating: 201508precip.txt        \n",
            "  inflating: 201508station.txt       \n",
            "  inflating: 201508daily.txt         \n"
          ]
        }
      ],
      "source": [
        "!wget https://s3.ca-central-1.amazonaws.com/climate-mirror/www.ncdc.noaa.gov/orders/qclcd/QCLCD201508.zip\n",
        "!unzip QCLCD201508.zip\n",
        "!rm QCLCD201508.zip "
      ]
    },
    {
      "cell_type": "code",
      "execution_count": null,
      "metadata": {
        "id": "1LanL8WT6f5h"
      },
      "outputs": [],
      "source": [
        "df = spark.read.csv('tweets.tsv',sep=r'\\t',header='True',multiLine='True')"
      ]
    },
    {
      "cell_type": "code",
      "execution_count": null,
      "metadata": {
        "colab": {
          "base_uri": "https://localhost:8080/"
        },
        "id": "94g5iqFv6f-0",
        "outputId": "202d4f56-5064-4af4-8296-2bcbc888980d"
      },
      "outputs": [
        {
          "output_type": "stream",
          "name": "stdout",
          "text": [
            "root\n",
            " |-- wordle_id: string (nullable = true)\n",
            " |-- tweet_id: string (nullable = true)\n",
            " |-- tweet_date: string (nullable = true)\n",
            " |-- tweet_username: string (nullable = true)\n",
            " |-- tweet_text: string (nullable = true)\n",
            "\n"
          ]
        }
      ],
      "source": [
        "df.printSchema()"
      ]
    },
    {
      "cell_type": "code",
      "execution_count": null,
      "metadata": {
        "colab": {
          "base_uri": "https://localhost:8080/"
        },
        "id": "V7P1bD868UGJ",
        "outputId": "e197bda7-8338-46c5-d014-b377aa3f5727"
      },
      "outputs": [
        {
          "name": "stdout",
          "output_type": "stream",
          "text": [
            "+--------------------+\n",
            "|          tweet_text|\n",
            "+--------------------+\n",
            "|Wordle 210 4/6  ⬛...|\n",
            "|Wordle 210 4/6  ⬜...|\n",
            "|Wordle 210 4/6  ⬜...|\n",
            "|Wordle 210 3/6  ⬜...|\n",
            "|Wordle 210 3/6  ⬛...|\n",
            "|Wordle 210 4/6  ⬛...|\n",
            "|Wordle 210 3/6  ?...|\n",
            "|Wordle 210 4/6  ⬜...|\n",
            "|Wordle 210 2/6  ?...|\n",
            "|Wordle 210 2/6  ⬜...|\n",
            "|Wordle 210 4/6  ⬜...|\n",
            "|Wordle 210 4/6  ⬛...|\n",
            "|Wordle 210 3/6  ⬜...|\n",
            "|Wordle 210 3/6  ?...|\n",
            "|Wordle 210 4/6  ⬛...|\n",
            "|Wordle 210 4/6  ⬛...|\n",
            "|Wordle 210 4/6  ⬛...|\n",
            "|Wordle 210 3/6  ⬜...|\n",
            "|Wordle 210 3/6  ⬛...|\n",
            "|Wordle 210 4/6  ⬛...|\n",
            "+--------------------+\n",
            "only showing top 20 rows\n",
            "\n"
          ]
        }
      ],
      "source": [
        "df.select(\"tweet_text\").show()"
      ]
    },
    {
      "cell_type": "code",
      "execution_count": null,
      "metadata": {
        "id": "pEAZ27DG-snP"
      },
      "outputs": [],
      "source": [
        "df.createOrReplaceTempView(\"tweets\")"
      ]
    },
    {
      "cell_type": "code",
      "execution_count": null,
      "metadata": {
        "colab": {
          "base_uri": "https://localhost:8080/"
        },
        "id": "e66cEYYt-8AO",
        "outputId": "9ceaba40-0023-47aa-e964-67fbd99f4ea2"
      },
      "outputs": [
        {
          "name": "stdout",
          "output_type": "stream",
          "text": [
            "+---------+-----+\n",
            "|wordle_id|  num|\n",
            "+---------+-----+\n",
            "|      223|15776|\n",
            "+---------+-----+\n",
            "\n"
          ]
        }
      ],
      "source": [
        "spark.sql('select wordle_id,count(*) as num from tweets group by wordle_id order by count(*) desc limit 1').show()"
      ]
    },
    {
      "cell_type": "code",
      "execution_count": null,
      "metadata": {
        "colab": {
          "base_uri": "https://localhost:8080/"
        },
        "id": "imRsSh7RdE5-",
        "outputId": "40bec540-51d4-4f11-ff3a-379eb8852df1"
      },
      "outputs": [
        {
          "name": "stdout",
          "output_type": "stream",
          "text": [
            "+------+------+\n",
            "| words|   num|\n",
            "+------+------+\n",
            "|   the|4671.0|\n",
            "|wordle|2140.0|\n",
            "|  play| 626.0|\n",
            "+------+------+\n",
            "\n"
          ]
        }
      ],
      "source": [
        "spark.sql(\"select 'play' as words,sum((length(tweet_text)-length(replace(tweet_text,'play','')))/length('play'))as num from tweets union all select 'the'as words,sum((length(tweet_text)-length(replace(tweet_text,'the','')))/length('the'))as num from tweets union all select 'wordle' as words,sum((length(tweet_text)-length(replace(tweet_text,'wordle','')))/length('wordle'))as num from tweets order by num desc\").show()"
      ]
    },
    {
      "cell_type": "code",
      "execution_count": null,
      "metadata": {
        "colab": {
          "base_uri": "https://localhost:8080/"
        },
        "id": "0dzrdQpzslUn",
        "outputId": "194ff0a2-5052-49ae-9c88-8631dc37d620"
      },
      "outputs": [
        {
          "name": "stdout",
          "output_type": "stream",
          "text": [
            "+----+-------+\n",
            "|date|gameNum|\n",
            "+----+-------+\n",
            "| Sun|     13|\n",
            "+----+-------+\n",
            "\n"
          ]
        }
      ],
      "source": [
        "spark.sql(\"select date_format(tweet_date,'E') as date, count(distinct wordle_id) as gameNum from tweets group by date order by gameNum desc limit 1\").show()"
      ]
    }
  ],
  "metadata": {
    "colab": {
      "provenance": []
    },
    "kernelspec": {
      "display_name": "Python 3",
      "name": "python3"
    },
    "language_info": {
      "name": "python"
    }
  },
  "nbformat": 4,
  "nbformat_minor": 0
}